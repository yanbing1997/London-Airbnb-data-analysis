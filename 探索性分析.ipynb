{
 "cells": [
  {
   "cell_type": "markdown",
   "metadata": {},
   "source": [
    "# 探索客人的评论分数及其与伦敦Airbnb房东/房源/街区的属性关系"
   ]
  },
  {
   "cell_type": "code",
   "execution_count": 1,
   "metadata": {},
   "outputs": [],
   "source": [
    "from pathlib import Path\n",
    "\n",
    "import requests\n",
    "from tqdm import tqdm\n",
    "\n",
    "import numpy as np\n",
    "import pandas as pd\n",
    "import geopandas as gpd\n",
    "\n",
    "import matplotlib.pyplot as plt\n",
    "%matplotlib inline\n",
    "\n",
    "import seaborn as sns\n",
    "import altair as alt"
   ]
  },
  {
   "cell_type": "code",
   "execution_count": 2,
   "metadata": {},
   "outputs": [
    {
     "data": {
      "text/plain": [
       "DataTransformerRegistry.enable('json')"
      ]
     },
     "execution_count": 2,
     "metadata": {},
     "output_type": "execute_result"
    }
   ],
   "source": [
    "sns.set_style('white')\n",
    "\n",
    "alt.themes.enable('default')\n",
    "alt.renderers.enable('kaggle')\n",
    "alt.renderers.set_embed_options(actions=False)\n",
    "alt.data_transformers.enable('json')"
   ]
  },
  {
   "cell_type": "markdown",
   "metadata": {},
   "source": [
    "## 业务理解"
   ]
  },
  {
   "cell_type": "markdown",
   "metadata": {},
   "source": [
    "### 确定业务目标\n",
    "\n",
    "**背景**\n",
    "\n",
    "Airbnb成立于2008年，已经成为全球旅行者非常喜爱的服务。\n",
    "\n",
    "在过去的几年里，伦敦的Airbnb房源数量显著增长，尤其是在2015年合法化之后（https://www.travelgumbo.com/blog/london-legalizes-airbnb-similar-rentals）。\n",
    "\n",
    "**业务目标**\n",
    "\n",
    "- Airbnb 如何才能提高其在伦敦潜在用户心目中的声誉？\n",
    "\n",
    "**业务成功标准**\n",
    "\n",
    "- 给出有用的见解，Airbnb用户的整体印象取决于什么，可能如何改进它。"
   ]
  },
  {
   "cell_type": "markdown",
   "metadata": {},
   "source": [
    "### 评估情况\n",
    "**资源清单**\n",
    "- 数据\n",
    "    - Airbnb项目内部（http://insideairbnb.com/）\n",
    "- 硬件\n",
    "    - 谷歌云平台\n",
    "- 软件\n",
    "    - Python数据科学平台(Anaconda)\n",
    "    \n",
    "**要求、假设和制约因素**\n",
    "- 访客评论分数可以成为评估房东/房源/街区 \"吸引力 \"的可靠因素。\n",
    "- 较好的客人评价将带来服务声誉的提高，并带来更多的预订和用户。"
   ]
  },
  {
   "cell_type": "markdown",
   "metadata": {},
   "source": [
    "### 确定数据挖掘目标\n",
    "**数据挖掘目标**\n",
    "- 根据客人的评价分数，租房时选择哪个小区比较好？\n",
    "- 不同类型的客人评价分数之间有什么关系吗？\n",
    "- 房东/房源属性与客人评价分数的关系如何？\n",
    "\n",
    "**数据挖掘成功标准**\n",
    "- 界定与客人评论分数类型关系密切的房东/房源/街区的特征"
   ]
  },
  {
   "cell_type": "markdown",
   "metadata": {},
   "source": [
    "### 制订项目计划\n",
    "**项目计划**\n",
    "- 采集\n",
    "   - 数据来源：伦敦的Airbnb数据来自Inside Airbnb项目\n",
    "- 评估\n",
    "   - 描述数据\n",
    "   - 探索数据的有用特性\n",
    "- 清洗\n",
    "   - 选择所需的数据子集\n",
    "   - 分类数据的预处理\n",
    "   - 缺失数据的预处理\n",
    "   - 根据选定的特征生成其他特征\n",
    "- 分析\n",
    "   - 分析数据以回答相关问题\n",
    "- 可视化\n",
    "   - 将结果可视化\n",
    "- 结果\n",
    "   - 制定业务/数据挖掘问题的答案。\n",
    " \n",
    "**工具和技术的初步评估**\n",
    "- 语言\n",
    "   - python\n",
    "- 包\n",
    "   - 数据加载\n",
    "       - requests, pandas, geopandas\n",
    "   - 数据分析\n",
    "       - numpy, pandas, geopandas\n",
    "   - 可视化\n",
    "       - matplotlib, seaborn, altair"
   ]
  },
  {
   "cell_type": "markdown",
   "metadata": {},
   "source": [
    "## 了解数据"
   ]
  },
  {
   "cell_type": "markdown",
   "metadata": {},
   "source": [
    "### 收集初始数据 "
   ]
  },
  {
   "cell_type": "code",
   "execution_count": 3,
   "metadata": {},
   "outputs": [],
   "source": [
    "listings_df = pd.read_csv('./data/listings_summary.csv',\n",
    "                          parse_dates=['last_review'])\n",
    "listings_detail_df = pd.read_csv('./data/listings.csv', low_memory=False,\n",
    "                                 parse_dates=['host_since', \n",
    "                                              'last_scraped', 'calendar_last_scraped',\n",
    "                                              'first_review', 'last_review'])\n",
    "\n",
    "reviews_df = pd.read_csv('./data/reviews_summary.csv', parse_dates=['date'])\n",
    "reviews_detail_df = pd.read_csv('./data/reviews.csv', parse_dates=['date'])\n",
    "\n",
    "calendar_df = pd.read_csv('./data/calendar.csv', parse_dates=['date'])\n",
    "\n",
    "neighbourhoods_df = pd.read_csv('./data/neighbourhoods.csv')\n",
    "gdf = gpd.read_file('./data/neighbourhoods.geojson')"
   ]
  },
  {
   "cell_type": "markdown",
   "metadata": {},
   "source": [
    "### 描述数据 "
   ]
  },
  {
   "cell_type": "markdown",
   "metadata": {},
   "source": [
    "**伦敦房源的汇总信息和指标**"
   ]
  },
  {
   "cell_type": "code",
   "execution_count": 11,
   "metadata": {},
   "outputs": [
    {
     "name": "stdout",
     "output_type": "stream",
     "text": [
      "<class 'pandas.core.frame.DataFrame'>\n",
      "RangeIndex: 85068 entries, 0 to 85067\n",
      "Data columns (total 16 columns):\n",
      "id                                85068 non-null int64\n",
      "name                              85043 non-null object\n",
      "host_id                           85068 non-null int64\n",
      "host_name                         85056 non-null object\n",
      "neighbourhood_group               0 non-null float64\n",
      "neighbourhood                     85068 non-null object\n",
      "latitude                          85068 non-null float64\n",
      "longitude                         85068 non-null float64\n",
      "room_type                         85068 non-null object\n",
      "price                             85068 non-null int64\n",
      "minimum_nights                    85068 non-null int64\n",
      "number_of_reviews                 85068 non-null int64\n",
      "last_review                       65062 non-null datetime64[ns]\n",
      "reviews_per_month                 65062 non-null float64\n",
      "calculated_host_listings_count    85068 non-null int64\n",
      "availability_365                  85068 non-null int64\n",
      "dtypes: datetime64[ns](1), float64(4), int64(7), object(4)\n",
      "memory usage: 10.4+ MB\n"
     ]
    }
   ],
   "source": [
    "listings_df.info()"
   ]
  },
  {
   "cell_type": "markdown",
   "metadata": {},
   "source": [
    "**伦敦的详细房源数据**"
   ]
  },
  {
   "cell_type": "code",
   "execution_count": 12,
   "metadata": {},
   "outputs": [
    {
     "name": "stdout",
     "output_type": "stream",
     "text": [
      "<class 'pandas.core.frame.DataFrame'>\n",
      "RangeIndex: 85068 entries, 0 to 85067\n",
      "Columns: 106 entries, id to reviews_per_month\n",
      "dtypes: datetime64[ns](5), float64(23), int64(21), object(57)\n",
      "memory usage: 68.8+ MB\n"
     ]
    }
   ],
   "source": [
    "listings_detail_df.info()"
   ]
  },
  {
   "cell_type": "code",
   "execution_count": 13,
   "metadata": {},
   "outputs": [
    {
     "name": "stdout",
     "output_type": "stream",
     "text": [
      "['id', 'listing_url', 'scrape_id', 'last_scraped', 'name', 'summary', 'space', 'description', 'experiences_offered', 'neighborhood_overview', 'notes', 'transit', 'access', 'interaction', 'house_rules', 'thumbnail_url', 'medium_url', 'picture_url', 'xl_picture_url', 'host_id', 'host_url', 'host_name', 'host_since', 'host_location', 'host_about', 'host_response_time', 'host_response_rate', 'host_acceptance_rate', 'host_is_superhost', 'host_thumbnail_url', 'host_picture_url', 'host_neighbourhood', 'host_listings_count', 'host_total_listings_count', 'host_verifications', 'host_has_profile_pic', 'host_identity_verified', 'street', 'neighbourhood', 'neighbourhood_cleansed', 'neighbourhood_group_cleansed', 'city', 'state', 'zipcode', 'market', 'smart_location', 'country_code', 'country', 'latitude', 'longitude', 'is_location_exact', 'property_type', 'room_type', 'accommodates', 'bathrooms', 'bedrooms', 'beds', 'bed_type', 'amenities', 'square_feet', 'price', 'weekly_price', 'monthly_price', 'security_deposit', 'cleaning_fee', 'guests_included', 'extra_people', 'minimum_nights', 'maximum_nights', 'minimum_minimum_nights', 'maximum_minimum_nights', 'minimum_maximum_nights', 'maximum_maximum_nights', 'minimum_nights_avg_ntm', 'maximum_nights_avg_ntm', 'calendar_updated', 'has_availability', 'availability_30', 'availability_60', 'availability_90', 'availability_365', 'calendar_last_scraped', 'number_of_reviews', 'number_of_reviews_ltm', 'first_review', 'last_review', 'review_scores_rating', 'review_scores_accuracy', 'review_scores_cleanliness', 'review_scores_checkin', 'review_scores_communication', 'review_scores_location', 'review_scores_value', 'requires_license', 'license', 'jurisdiction_names', 'instant_bookable', 'is_business_travel_ready', 'cancellation_policy', 'require_guest_profile_picture', 'require_guest_phone_verification', 'calculated_host_listings_count', 'calculated_host_listings_count_entire_homes', 'calculated_host_listings_count_private_rooms', 'calculated_host_listings_count_shared_rooms', 'reviews_per_month']\n"
     ]
    }
   ],
   "source": [
    "print(listings_detail_df.columns.tolist())"
   ]
  },
  {
   "cell_type": "markdown",
   "metadata": {},
   "source": [
    "**伦敦房源的详细Calendar数据**"
   ]
  },
  {
   "cell_type": "code",
   "execution_count": 14,
   "metadata": {},
   "outputs": [
    {
     "name": "stdout",
     "output_type": "stream",
     "text": [
      "<class 'pandas.core.frame.DataFrame'>\n",
      "RangeIndex: 31050094 entries, 0 to 31050093\n",
      "Data columns (total 7 columns):\n",
      "listing_id        31050094 non-null int64\n",
      "date              31050094 non-null datetime64[ns]\n",
      "available         31050094 non-null object\n",
      "price             31049176 non-null object\n",
      "adjusted_price    31049176 non-null object\n",
      "minimum_nights    31050084 non-null float64\n",
      "maximum_nights    31050084 non-null float64\n",
      "dtypes: datetime64[ns](1), float64(2), int64(1), object(3)\n",
      "memory usage: 1.6+ GB\n"
     ]
    }
   ],
   "source": [
    "calendar_df.info(null_counts=True)"
   ]
  },
  {
   "cell_type": "markdown",
   "metadata": {},
   "source": [
    "**总的评论数据和房源ID**"
   ]
  },
  {
   "cell_type": "code",
   "execution_count": 15,
   "metadata": {},
   "outputs": [
    {
     "name": "stdout",
     "output_type": "stream",
     "text": [
      "<class 'pandas.core.frame.DataFrame'>\n",
      "RangeIndex: 1486236 entries, 0 to 1486235\n",
      "Data columns (total 2 columns):\n",
      "listing_id    1486236 non-null int64\n",
      "date          1486236 non-null datetime64[ns]\n",
      "dtypes: datetime64[ns](1), int64(1)\n",
      "memory usage: 22.7 MB\n"
     ]
    }
   ],
   "source": [
    "reviews_df.info()"
   ]
  },
  {
   "cell_type": "markdown",
   "metadata": {},
   "source": [
    "**伦敦房源的详细评论数据**"
   ]
  },
  {
   "cell_type": "code",
   "execution_count": 16,
   "metadata": {},
   "outputs": [
    {
     "name": "stdout",
     "output_type": "stream",
     "text": [
      "<class 'pandas.core.frame.DataFrame'>\n",
      "RangeIndex: 1486236 entries, 0 to 1486235\n",
      "Data columns (total 6 columns):\n",
      "listing_id       1486236 non-null int64\n",
      "id               1486236 non-null int64\n",
      "date             1486236 non-null datetime64[ns]\n",
      "reviewer_id      1486236 non-null int64\n",
      "reviewer_name    1486236 non-null object\n",
      "comments         1485614 non-null object\n",
      "dtypes: datetime64[ns](1), int64(3), object(2)\n",
      "memory usage: 68.0+ MB\n"
     ]
    }
   ],
   "source": [
    "reviews_detail_df.info()"
   ]
  },
  {
   "cell_type": "markdown",
   "metadata": {},
   "source": [
    "**地理过滤器的街区列表**"
   ]
  },
  {
   "cell_type": "code",
   "execution_count": 17,
   "metadata": {},
   "outputs": [
    {
     "name": "stdout",
     "output_type": "stream",
     "text": [
      "<class 'pandas.core.frame.DataFrame'>\n",
      "RangeIndex: 33 entries, 0 to 32\n",
      "Data columns (total 2 columns):\n",
      "neighbourhood_group    0 non-null float64\n",
      "neighbourhood          33 non-null object\n",
      "dtypes: float64(1), object(1)\n",
      "memory usage: 608.0+ bytes\n"
     ]
    }
   ],
   "source": [
    "neighbourhoods_df.info()"
   ]
  },
  {
   "cell_type": "markdown",
   "metadata": {},
   "source": [
    "**城市街区的GeoJSON文件**"
   ]
  },
  {
   "cell_type": "code",
   "execution_count": 18,
   "metadata": {},
   "outputs": [
    {
     "data": {
      "image/png": "[encoded data removed]",
      "text/plain": [
       "<Figure size 432x288 with 1 Axes>"
      ]
     },
     "metadata": {},
     "output_type": "display_data"
    }
   ],
   "source": [
    "gdf.plot();"
   ]
  },
  {
   "cell_type": "markdown",
   "metadata": {},
   "source": [
    "数据描述报告\n",
    "- 上述数据汇总统计数字是需要过多解释的\n",
    "- 更多的数据考虑因素可以在Inside Airbnb项目页面上找到。\n",
    "http://insideairbnb.com/about.html"
   ]
  },
  {
   "cell_type": "markdown",
   "metadata": {},
   "source": [
    "### 探索数据"
   ]
  },
  {
   "cell_type": "markdown",
   "metadata": {},
   "source": [
    "**伦敦房源的汇总信息和指标**"
   ]
  },
  {
   "cell_type": "markdown",
   "metadata": {},
   "source": [
    "数据样本"
   ]
  },
  {
   "cell_type": "code",
   "execution_count": 19,
   "metadata": {},
   "outputs": [
    {
     "data": {
      "text/html": [
       "<div>\n",
       "<style scoped>\n",
       "    .dataframe tbody tr th:only-of-type {\n",
       "        vertical-align: middle;\n",
       "    }\n",
       "\n",
       "    .dataframe tbody tr th {\n",
       "        vertical-align: top;\n",
       "    }\n",
       "\n",
       "    .dataframe thead th {\n",
       "        text-align: right;\n",
       "    }\n",
       "</style>\n",
       "<table border=\"1\" class=\"dataframe\">\n",
       "  <thead>\n",
       "    <tr style=\"text-align: right;\">\n",
       "      <th></th>\n",
       "      <th>id</th>\n",
       "      <th>name</th>\n",
       "      <th>host_id</th>\n",
       "      <th>host_name</th>\n",
       "      <th>neighbourhood_group</th>\n",
       "      <th>neighbourhood</th>\n",
       "      <th>latitude</th>\n",
       "      <th>longitude</th>\n",
       "      <th>room_type</th>\n",
       "      <th>price</th>\n",
       "      <th>minimum_nights</th>\n",
       "      <th>number_of_reviews</th>\n",
       "      <th>last_review</th>\n",
       "      <th>reviews_per_month</th>\n",
       "      <th>calculated_host_listings_count</th>\n",
       "      <th>availability_365</th>\n",
       "    </tr>\n",
       "  </thead>\n",
       "  <tbody>\n",
       "    <tr>\n",
       "      <th>0</th>\n",
       "      <td>11551</td>\n",
       "      <td>Arty and Bright London Apartment in Zone 2</td>\n",
       "      <td>43039</td>\n",
       "      <td>Adriano</td>\n",
       "      <td>NaN</td>\n",
       "      <td>Lambeth</td>\n",
       "      <td>51.46225</td>\n",
       "      <td>-0.11732</td>\n",
       "      <td>Entire home/apt</td>\n",
       "      <td>88</td>\n",
       "      <td>3</td>\n",
       "      <td>185</td>\n",
       "      <td>2019-09-15</td>\n",
       "      <td>1.58</td>\n",
       "      <td>2</td>\n",
       "      <td>336</td>\n",
       "    </tr>\n",
       "  </tbody>\n",
       "</table>\n",
       "</div>"
      ],
      "text/plain": [
       "      id                                        name  host_id host_name  \\\n",
       "0  11551  Arty and Bright London Apartment in Zone 2    43039   Adriano   \n",
       "\n",
       "   neighbourhood_group neighbourhood  latitude  longitude        room_type  \\\n",
       "0                  NaN       Lambeth  51.46225   -0.11732  Entire home/apt   \n",
       "\n",
       "   price  minimum_nights  number_of_reviews last_review  reviews_per_month  \\\n",
       "0     88               3                185  2019-09-15               1.58   \n",
       "\n",
       "   calculated_host_listings_count  availability_365  \n",
       "0                               2               336  "
      ]
     },
     "execution_count": 19,
     "metadata": {},
     "output_type": "execute_result"
    }
   ],
   "source": [
    "listings_df.head(1)"
   ]
  },
  {
   "cell_type": "markdown",
   "metadata": {},
   "source": [
    "存在缺失值的特征"
   ]
  },
  {
   "cell_type": "code",
   "execution_count": 20,
   "metadata": {},
   "outputs": [
    {
     "name": "stdout",
     "output_type": "stream",
     "text": [
      "(85068, 16)\n"
     ]
    },
    {
     "data": {
      "text/plain": [
       "neighbourhood_group    85068\n",
       "reviews_per_month      20006\n",
       "last_review            20006\n",
       "name                      25\n",
       "host_name                 12\n",
       "dtype: int64"
      ]
     },
     "execution_count": 20,
     "metadata": {},
     "output_type": "execute_result"
    }
   ],
   "source": [
    "print(listings_df.shape)\n",
    "listings_df.loc[:, listings_df.isnull().sum() > 0].isnull().sum().sort_values(ascending=False)"
   ]
  },
  {
   "cell_type": "markdown",
   "metadata": {},
   "source": [
    "零方差的特征"
   ]
  },
  {
   "cell_type": "code",
   "execution_count": 21,
   "metadata": {},
   "outputs": [
    {
     "data": {
      "text/plain": [
       "neighbourhood_group    0\n",
       "dtype: int64"
      ]
     },
     "execution_count": 21,
     "metadata": {},
     "output_type": "execute_result"
    }
   ],
   "source": [
    "listings_df.loc[:, listings_df.nunique() <= 1].nunique().sort_values()"
   ]
  },
  {
   "cell_type": "markdown",
   "metadata": {},
   "source": [
    "日期特征的汇总信息"
   ]
  },
  {
   "cell_type": "code",
   "execution_count": 22,
   "metadata": {},
   "outputs": [
    {
     "data": {
      "text/html": [
       "<div>\n",
       "<style scoped>\n",
       "    .dataframe tbody tr th:only-of-type {\n",
       "        vertical-align: middle;\n",
       "    }\n",
       "\n",
       "    .dataframe tbody tr th {\n",
       "        vertical-align: top;\n",
       "    }\n",
       "\n",
       "    .dataframe thead th {\n",
       "        text-align: right;\n",
       "    }\n",
       "</style>\n",
       "<table border=\"1\" class=\"dataframe\">\n",
       "  <thead>\n",
       "    <tr style=\"text-align: right;\">\n",
       "      <th></th>\n",
       "      <th>last_review</th>\n",
       "    </tr>\n",
       "  </thead>\n",
       "  <tbody>\n",
       "    <tr>\n",
       "      <th>count</th>\n",
       "      <td>65062</td>\n",
       "    </tr>\n",
       "    <tr>\n",
       "      <th>unique</th>\n",
       "      <td>1818</td>\n",
       "    </tr>\n",
       "    <tr>\n",
       "      <th>top</th>\n",
       "      <td>2019-11-03 00:00:00</td>\n",
       "    </tr>\n",
       "    <tr>\n",
       "      <th>freq</th>\n",
       "      <td>1688</td>\n",
       "    </tr>\n",
       "    <tr>\n",
       "      <th>first</th>\n",
       "      <td>2011-07-02 00:00:00</td>\n",
       "    </tr>\n",
       "    <tr>\n",
       "      <th>last</th>\n",
       "      <td>2019-11-06 00:00:00</td>\n",
       "    </tr>\n",
       "  </tbody>\n",
       "</table>\n",
       "</div>"
      ],
      "text/plain": [
       "                last_review\n",
       "count                 65062\n",
       "unique                 1818\n",
       "top     2019-11-03 00:00:00\n",
       "freq                   1688\n",
       "first   2011-07-02 00:00:00\n",
       "last    2019-11-06 00:00:00"
      ]
     },
     "execution_count": 22,
     "metadata": {},
     "output_type": "execute_result"
    }
   ],
   "source": [
    "listings_df.describe(include='datetime')"
   ]
  },
  {
   "cell_type": "markdown",
   "metadata": {},
   "source": [
    "字符特征的汇总信息"
   ]
  },
  {
   "cell_type": "code",
   "execution_count": 23,
   "metadata": {},
   "outputs": [
    {
     "data": {
      "text/html": [
       "<div>\n",
       "<style scoped>\n",
       "    .dataframe tbody tr th:only-of-type {\n",
       "        vertical-align: middle;\n",
       "    }\n",
       "\n",
       "    .dataframe tbody tr th {\n",
       "        vertical-align: top;\n",
       "    }\n",
       "\n",
       "    .dataframe thead th {\n",
       "        text-align: right;\n",
       "    }\n",
       "</style>\n",
       "<table border=\"1\" class=\"dataframe\">\n",
       "  <thead>\n",
       "    <tr style=\"text-align: right;\">\n",
       "      <th></th>\n",
       "      <th>name</th>\n",
       "      <th>host_name</th>\n",
       "      <th>neighbourhood</th>\n",
       "      <th>room_type</th>\n",
       "    </tr>\n",
       "  </thead>\n",
       "  <tbody>\n",
       "    <tr>\n",
       "      <th>count</th>\n",
       "      <td>85043</td>\n",
       "      <td>85056</td>\n",
       "      <td>85068</td>\n",
       "      <td>85068</td>\n",
       "    </tr>\n",
       "    <tr>\n",
       "      <th>unique</th>\n",
       "      <td>82447</td>\n",
       "      <td>14573</td>\n",
       "      <td>33</td>\n",
       "      <td>4</td>\n",
       "    </tr>\n",
       "    <tr>\n",
       "      <th>top</th>\n",
       "      <td>Double room</td>\n",
       "      <td>Veeve</td>\n",
       "      <td>Westminster</td>\n",
       "      <td>Entire home/apt</td>\n",
       "    </tr>\n",
       "    <tr>\n",
       "      <th>freq</th>\n",
       "      <td>37</td>\n",
       "      <td>1235</td>\n",
       "      <td>9588</td>\n",
       "      <td>47445</td>\n",
       "    </tr>\n",
       "  </tbody>\n",
       "</table>\n",
       "</div>"
      ],
      "text/plain": [
       "               name host_name neighbourhood        room_type\n",
       "count         85043     85056         85068            85068\n",
       "unique        82447     14573            33                4\n",
       "top     Double room     Veeve   Westminster  Entire home/apt\n",
       "freq             37      1235          9588            47445"
      ]
     },
     "execution_count": 23,
     "metadata": {},
     "output_type": "execute_result"
    }
   ],
   "source": [
    "listings_df.describe(include=['object'])"
   ]
  },
  {
   "cell_type": "markdown",
   "metadata": {},
   "source": [
    "按街区划分的房源数量"
   ]
  },
  {
   "cell_type": "code",
   "execution_count": 24,
   "metadata": {},
   "outputs": [
    {
     "data": {
      "image/png": "[encoded data removed]",
      "text/plain": [
       "<Figure size 720x720 with 1 Axes>"
      ]
     },
     "metadata": {},
     "output_type": "display_data"
    }
   ],
   "source": [
    "listings_df['neighbourhood'].value_counts().sort_values().plot.barh(figsize=(10, 10));\n",
    "sns.despine()\n",
    "plt.title('Number of listings by neighbourhood', fontsize=14);"
   ]
  },
  {
   "cell_type": "markdown",
   "metadata": {},
   "source": [
    "不同房间型号的数量"
   ]
  },
  {
   "cell_type": "code",
   "execution_count": 25,
   "metadata": {},
   "outputs": [
    {
     "data": {
      "image/png": "[encoded data removed]",
      "text/plain": [
       "<Figure size 432x288 with 1 Axes>"
      ]
     },
     "metadata": {},
     "output_type": "display_data"
    }
   ],
   "source": [
    "listings_df['room_type'].value_counts(dropna=False).sort_values().plot.barh()\n",
    "sns.despine()\n",
    "plt.title('Number of listings by room type', fontsize=14);"
   ]
  },
  {
   "cell_type": "markdown",
   "metadata": {},
   "source": [
    "数值特征分布"
   ]
  },
  {
   "cell_type": "code",
   "execution_count": 26,
   "metadata": {},
   "outputs": [
    {
     "data": {
      "image/png": "[encoded data removed]",
      "text/plain": [
       "<Figure size 864x720 with 12 Axes>"
      ]
     },
     "metadata": {},
     "output_type": "display_data"
    }
   ],
   "source": [
    "listings_df.hist(figsize=(12, 10), bins=20, grid=False)\n",
    "sns.despine()\n",
    "plt.suptitle('Numeric features distribution', fontsize=14)\n",
    "plt.tight_layout(rect=[0, 0, 1, 0.95])"
   ]
  },
  {
   "cell_type": "markdown",
   "metadata": {},
   "source": [
    "**伦敦的详细房源数据**"
   ]
  },
  {
   "cell_type": "markdown",
   "metadata": {},
   "source": [
    "数据样本"
   ]
  },
  {
   "cell_type": "code",
   "execution_count": 27,
   "metadata": {},
   "outputs": [
    {
     "data": {
      "text/html": [
       "<div>\n",
       "<style scoped>\n",
       "    .dataframe tbody tr th:only-of-type {\n",
       "        vertical-align: middle;\n",
       "    }\n",
       "\n",
       "    .dataframe tbody tr th {\n",
       "        vertical-align: top;\n",
       "    }\n",
       "\n",
       "    .dataframe thead th {\n",
       "        text-align: right;\n",
       "    }\n",
       "</style>\n",
       "<table border=\"1\" class=\"dataframe\">\n",
       "  <thead>\n",
       "    <tr style=\"text-align: right;\">\n",
       "      <th></th>\n",
       "      <th>id</th>\n",
       "      <th>listing_url</th>\n",
       "      <th>scrape_id</th>\n",
       "      <th>last_scraped</th>\n",
       "      <th>name</th>\n",
       "      <th>summary</th>\n",
       "      <th>space</th>\n",
       "      <th>description</th>\n",
       "      <th>experiences_offered</th>\n",
       "      <th>neighborhood_overview</th>\n",
       "      <th>...</th>\n",
       "      <th>instant_bookable</th>\n",
       "      <th>is_business_travel_ready</th>\n",
       "      <th>cancellation_policy</th>\n",
       "      <th>require_guest_profile_picture</th>\n",
       "      <th>require_guest_phone_verification</th>\n",
       "      <th>calculated_host_listings_count</th>\n",
       "      <th>calculated_host_listings_count_entire_homes</th>\n",
       "      <th>calculated_host_listings_count_private_rooms</th>\n",
       "      <th>calculated_host_listings_count_shared_rooms</th>\n",
       "      <th>reviews_per_month</th>\n",
       "    </tr>\n",
       "  </thead>\n",
       "  <tbody>\n",
       "    <tr>\n",
       "      <th>0</th>\n",
       "      <td>11551</td>\n",
       "      <td>https://www.airbnb.com/rooms/11551</td>\n",
       "      <td>20191105115249</td>\n",
       "      <td>2019-11-06</td>\n",
       "      <td>Arty and Bright London Apartment in Zone 2</td>\n",
       "      <td>Unlike most rental apartments out there my fla...</td>\n",
       "      <td>Amenities Bedding: 1 Double bed, 1 living room...</td>\n",
       "      <td>Unlike most rental apartments out there my fla...</td>\n",
       "      <td>family</td>\n",
       "      <td>Not even 10 minutes by metro from Victoria Sta...</td>\n",
       "      <td>...</td>\n",
       "      <td>t</td>\n",
       "      <td>f</td>\n",
       "      <td>strict_14_with_grace_period</td>\n",
       "      <td>f</td>\n",
       "      <td>t</td>\n",
       "      <td>2</td>\n",
       "      <td>2</td>\n",
       "      <td>0</td>\n",
       "      <td>0</td>\n",
       "      <td>1.58</td>\n",
       "    </tr>\n",
       "  </tbody>\n",
       "</table>\n",
       "<p>1 rows × 106 columns</p>\n",
       "</div>"
      ],
      "text/plain": [
       "      id                         listing_url       scrape_id last_scraped  \\\n",
       "0  11551  https://www.airbnb.com/rooms/11551  20191105115249   2019-11-06   \n",
       "\n",
       "                                         name  \\\n",
       "0  Arty and Bright London Apartment in Zone 2   \n",
       "\n",
       "                                             summary  \\\n",
       "0  Unlike most rental apartments out there my fla...   \n",
       "\n",
       "                                               space  \\\n",
       "0  Amenities Bedding: 1 Double bed, 1 living room...   \n",
       "\n",
       "                                         description experiences_offered  \\\n",
       "0  Unlike most rental apartments out there my fla...              family   \n",
       "\n",
       "                               neighborhood_overview  ... instant_bookable  \\\n",
       "0  Not even 10 minutes by metro from Victoria Sta...  ...                t   \n",
       "\n",
       "  is_business_travel_ready          cancellation_policy  \\\n",
       "0                        f  strict_14_with_grace_period   \n",
       "\n",
       "  require_guest_profile_picture require_guest_phone_verification  \\\n",
       "0                             f                                t   \n",
       "\n",
       "   calculated_host_listings_count  \\\n",
       "0                               2   \n",
       "\n",
       "   calculated_host_listings_count_entire_homes  \\\n",
       "0                                            2   \n",
       "\n",
       "  calculated_host_listings_count_private_rooms  \\\n",
       "0                                            0   \n",
       "\n",
       "   calculated_host_listings_count_shared_rooms  reviews_per_month  \n",
       "0                                            0               1.58  \n",
       "\n",
       "[1 rows x 106 columns]"
      ]
     },
     "execution_count": 27,
     "metadata": {},
     "output_type": "execute_result"
    }
   ],
   "source": [
    "listings_detail_df.head(1)"
   ]
  },
  {
   "cell_type": "markdown",
   "metadata": {},
   "source": [
    "存在缺失值的特征"
   ]
  },
  {
   "cell_type": "code",
   "execution_count": 28,
   "metadata": {},
   "outputs": [
    {
     "name": "stdout",
     "output_type": "stream",
     "text": [
      "(85068, 106)\n"
     ]
    },
    {
     "data": {
      "text/plain": [
       "medium_url                      85068\n",
       "xl_picture_url                  85068\n",
       "neighbourhood_group_cleansed    85068\n",
       "host_acceptance_rate            85068\n",
       "thumbnail_url                   85068\n",
       "jurisdiction_names              85066\n",
       "license                         84889\n",
       "square_feet                     84671\n",
       "monthly_price                   80103\n",
       "weekly_price                    78112\n",
       "notes                           52269\n",
       "access                          39320\n",
       "house_rules                     35807\n",
       "host_about                      35751\n",
       "interaction                     35286\n",
       "transit                         30748\n",
       "neighborhood_overview           30374\n",
       "security_deposit                29125\n",
       "host_response_rate              25900\n",
       "host_response_time              25900\n",
       "space                           25850\n",
       "review_scores_checkin           21723\n",
       "review_scores_value             21722\n",
       "review_scores_location          21721\n",
       "review_scores_accuracy          21675\n",
       "review_scores_communication     21667\n",
       "review_scores_cleanliness       21661\n",
       "review_scores_rating            21622\n",
       "cleaning_fee                    20997\n",
       "reviews_per_month               20006\n",
       "first_review                    20006\n",
       "last_review                     20006\n",
       "host_neighbourhood              18746\n",
       "state                           16120\n",
       "summary                          4332\n",
       "description                      2385\n",
       "zipcode                          1884\n",
       "market                            788\n",
       "city                              247\n",
       "host_location                     228\n",
       "beds                              149\n",
       "bathrooms                         121\n",
       "bedrooms                           89\n",
       "name                               25\n",
       "host_name                          12\n",
       "host_since                         12\n",
       "host_is_superhost                  12\n",
       "host_thumbnail_url                 12\n",
       "host_picture_url                   12\n",
       "host_listings_count                12\n",
       "host_total_listings_count          12\n",
       "host_identity_verified             12\n",
       "host_has_profile_pic               12\n",
       "neighbourhood                       1\n",
       "dtype: int64"
      ]
     },
     "execution_count": 28,
     "metadata": {},
     "output_type": "execute_result"
    }
   ],
   "source": [
    "print(listings_detail_df.shape)\n",
    "listings_detail_df.loc[:, listings_detail_df.isnull().sum() > 0].isnull().sum().sort_values(ascending=False)"
   ]
  },
  {
   "cell_type": "markdown",
   "metadata": {},
   "source": [
    "零方差的特征"
   ]
  },
  {
   "cell_type": "code",
   "execution_count": 29,
   "metadata": {},
   "outputs": [
    {
     "data": {
      "text/plain": [
       "thumbnail_url                   0\n",
       "medium_url                      0\n",
       "xl_picture_url                  0\n",
       "host_acceptance_rate            0\n",
       "neighbourhood_group_cleansed    0\n",
       "scrape_id                       1\n",
       "has_availability                1\n",
       "jurisdiction_names              1\n",
       "is_business_travel_ready        1\n",
       "dtype: int64"
      ]
     },
     "execution_count": 29,
     "metadata": {},
     "output_type": "execute_result"
    }
   ],
   "source": [
    "listings_detail_df.loc[:, listings_detail_df.nunique() <= 1].nunique().sort_values()"
   ]
  },
  {
   "cell_type": "markdown",
   "metadata": {},
   "source": [
    "不同评论分数的缺失值数量占比情况"
   ]
  },
  {
   "cell_type": "code",
   "execution_count": 30,
   "metadata": {},
   "outputs": [
    {
     "data": {
      "text/plain": [
       "7    0.744310\n",
       "0    0.254103\n",
       "4    0.000470\n",
       "3    0.000400\n",
       "6    0.000270\n",
       "1    0.000259\n",
       "2    0.000141\n",
       "5    0.000047\n",
       "dtype: float64"
      ]
     },
     "execution_count": 30,
     "metadata": {},
     "output_type": "execute_result"
    }
   ],
   "source": [
    "listings_detail_df.filter(regex='review_scores').notnull().sum(axis=1).value_counts(normalize=True)"
   ]
  },
  {
   "cell_type": "markdown",
   "metadata": {},
   "source": [
    "时间特征的汇总信息"
   ]
  },
  {
   "cell_type": "code",
   "execution_count": 31,
   "metadata": {},
   "outputs": [
    {
     "data": {
      "text/html": [
       "<div>\n",
       "<style scoped>\n",
       "    .dataframe tbody tr th:only-of-type {\n",
       "        vertical-align: middle;\n",
       "    }\n",
       "\n",
       "    .dataframe tbody tr th {\n",
       "        vertical-align: top;\n",
       "    }\n",
       "\n",
       "    .dataframe thead th {\n",
       "        text-align: right;\n",
       "    }\n",
       "</style>\n",
       "<table border=\"1\" class=\"dataframe\">\n",
       "  <thead>\n",
       "    <tr style=\"text-align: right;\">\n",
       "      <th></th>\n",
       "      <th>last_scraped</th>\n",
       "      <th>host_since</th>\n",
       "      <th>calendar_last_scraped</th>\n",
       "      <th>first_review</th>\n",
       "      <th>last_review</th>\n",
       "    </tr>\n",
       "  </thead>\n",
       "  <tbody>\n",
       "    <tr>\n",
       "      <th>count</th>\n",
       "      <td>85068</td>\n",
       "      <td>85056</td>\n",
       "      <td>85068</td>\n",
       "      <td>65062</td>\n",
       "      <td>65062</td>\n",
       "    </tr>\n",
       "    <tr>\n",
       "      <th>unique</th>\n",
       "      <td>2</td>\n",
       "      <td>3459</td>\n",
       "      <td>2</td>\n",
       "      <td>2802</td>\n",
       "      <td>1818</td>\n",
       "    </tr>\n",
       "    <tr>\n",
       "      <th>top</th>\n",
       "      <td>2019-11-06 00:00:00</td>\n",
       "      <td>2015-05-21 00:00:00</td>\n",
       "      <td>2019-11-06 00:00:00</td>\n",
       "      <td>2019-01-01 00:00:00</td>\n",
       "      <td>2019-11-03 00:00:00</td>\n",
       "    </tr>\n",
       "    <tr>\n",
       "      <th>freq</th>\n",
       "      <td>59108</td>\n",
       "      <td>1034</td>\n",
       "      <td>59108</td>\n",
       "      <td>205</td>\n",
       "      <td>1688</td>\n",
       "    </tr>\n",
       "    <tr>\n",
       "      <th>first</th>\n",
       "      <td>2019-11-05 00:00:00</td>\n",
       "      <td>2008-09-03 00:00:00</td>\n",
       "      <td>2019-11-05 00:00:00</td>\n",
       "      <td>2009-12-21 00:00:00</td>\n",
       "      <td>2011-07-02 00:00:00</td>\n",
       "    </tr>\n",
       "    <tr>\n",
       "      <th>last</th>\n",
       "      <td>2019-11-06 00:00:00</td>\n",
       "      <td>2019-11-04 00:00:00</td>\n",
       "      <td>2019-11-06 00:00:00</td>\n",
       "      <td>2019-11-06 00:00:00</td>\n",
       "      <td>2019-11-06 00:00:00</td>\n",
       "    </tr>\n",
       "  </tbody>\n",
       "</table>\n",
       "</div>"
      ],
      "text/plain": [
       "               last_scraped           host_since calendar_last_scraped  \\\n",
       "count                 85068                85056                 85068   \n",
       "unique                    2                 3459                     2   \n",
       "top     2019-11-06 00:00:00  2015-05-21 00:00:00   2019-11-06 00:00:00   \n",
       "freq                  59108                 1034                 59108   \n",
       "first   2019-11-05 00:00:00  2008-09-03 00:00:00   2019-11-05 00:00:00   \n",
       "last    2019-11-06 00:00:00  2019-11-04 00:00:00   2019-11-06 00:00:00   \n",
       "\n",
       "               first_review          last_review  \n",
       "count                 65062                65062  \n",
       "unique                 2802                 1818  \n",
       "top     2019-01-01 00:00:00  2019-11-03 00:00:00  \n",
       "freq                    205                 1688  \n",
       "first   2009-12-21 00:00:00  2011-07-02 00:00:00  \n",
       "last    2019-11-06 00:00:00  2019-11-06 00:00:00  "
      ]
     },
     "execution_count": 31,
     "metadata": {},
     "output_type": "execute_result"
    }
   ],
   "source": [
    "listings_detail_df.describe(include='datetime')"
   ]
  },
  {
   "cell_type": "markdown",
   "metadata": {},
   "source": [
    "字符特征的汇总信息"
   ]
  },
  {
   "cell_type": "code",
   "execution_count": 32,
   "metadata": {},
   "outputs": [
    {
     "data": {
      "text/html": [
       "<div>\n",
       "<style scoped>\n",
       "    .dataframe tbody tr th:only-of-type {\n",
       "        vertical-align: middle;\n",
       "    }\n",
       "\n",
       "    .dataframe tbody tr th {\n",
       "        vertical-align: top;\n",
       "    }\n",
       "\n",
       "    .dataframe thead th {\n",
       "        text-align: right;\n",
       "    }\n",
       "</style>\n",
       "<table border=\"1\" class=\"dataframe\">\n",
       "  <thead>\n",
       "    <tr style=\"text-align: right;\">\n",
       "      <th></th>\n",
       "      <th>count</th>\n",
       "      <th>unique</th>\n",
       "      <th>top</th>\n",
       "      <th>freq</th>\n",
       "    </tr>\n",
       "  </thead>\n",
       "  <tbody>\n",
       "    <tr>\n",
       "      <th>listing_url</th>\n",
       "      <td>85068</td>\n",
       "      <td>85068</td>\n",
       "      <td>https://www.airbnb.com/rooms/31444517</td>\n",
       "      <td>1</td>\n",
       "    </tr>\n",
       "    <tr>\n",
       "      <th>name</th>\n",
       "      <td>85043</td>\n",
       "      <td>82446</td>\n",
       "      <td>Double room</td>\n",
       "      <td>37</td>\n",
       "    </tr>\n",
       "    <tr>\n",
       "      <th>summary</th>\n",
       "      <td>80736</td>\n",
       "      <td>74249</td>\n",
       "      <td>Featured in The New York Times, The Wall Stree...</td>\n",
       "      <td>214</td>\n",
       "    </tr>\n",
       "    <tr>\n",
       "      <th>space</th>\n",
       "      <td>59218</td>\n",
       "      <td>53964</td>\n",
       "      <td>Duchy House is a 19th century building and has...</td>\n",
       "      <td>30</td>\n",
       "    </tr>\n",
       "    <tr>\n",
       "      <th>description</th>\n",
       "      <td>82683</td>\n",
       "      <td>78831</td>\n",
       "      <td>Lovely studios situated in an excellent centra...</td>\n",
       "      <td>26</td>\n",
       "    </tr>\n",
       "    <tr>\n",
       "      <th>experiences_offered</th>\n",
       "      <td>85068</td>\n",
       "      <td>5</td>\n",
       "      <td>none</td>\n",
       "      <td>83388</td>\n",
       "    </tr>\n",
       "    <tr>\n",
       "      <th>neighborhood_overview</th>\n",
       "      <td>54694</td>\n",
       "      <td>44382</td>\n",
       "      <td>Conveniently located in Maida Vale one of Lond...</td>\n",
       "      <td>66</td>\n",
       "    </tr>\n",
       "    <tr>\n",
       "      <th>notes</th>\n",
       "      <td>32799</td>\n",
       "      <td>25384</td>\n",
       "      <td>No smoking, pets or parties!</td>\n",
       "      <td>151</td>\n",
       "    </tr>\n",
       "    <tr>\n",
       "      <th>transit</th>\n",
       "      <td>54320</td>\n",
       "      <td>45959</td>\n",
       "      <td>Transport links are excellent with convenient ...</td>\n",
       "      <td>93</td>\n",
       "    </tr>\n",
       "    <tr>\n",
       "      <th>access</th>\n",
       "      <td>45748</td>\n",
       "      <td>33418</td>\n",
       "      <td>Guests will have access to the entire property...</td>\n",
       "      <td>1583</td>\n",
       "    </tr>\n",
       "    <tr>\n",
       "      <th>interaction</th>\n",
       "      <td>49782</td>\n",
       "      <td>36212</td>\n",
       "      <td>My support team or I will be contactable by em...</td>\n",
       "      <td>1012</td>\n",
       "    </tr>\n",
       "    <tr>\n",
       "      <th>house_rules</th>\n",
       "      <td>49261</td>\n",
       "      <td>36490</td>\n",
       "      <td>- The lead guest will be required to sign an O...</td>\n",
       "      <td>491</td>\n",
       "    </tr>\n",
       "    <tr>\n",
       "      <th>picture_url</th>\n",
       "      <td>85068</td>\n",
       "      <td>83186</td>\n",
       "      <td>https://a0.muscache.com/im/pictures/3a5e9891-4...</td>\n",
       "      <td>12</td>\n",
       "    </tr>\n",
       "    <tr>\n",
       "      <th>host_url</th>\n",
       "      <td>85068</td>\n",
       "      <td>53476</td>\n",
       "      <td>https://www.airbnb.com/users/show/33889201</td>\n",
       "      <td>999</td>\n",
       "    </tr>\n",
       "    <tr>\n",
       "      <th>host_name</th>\n",
       "      <td>85056</td>\n",
       "      <td>14573</td>\n",
       "      <td>Veeve</td>\n",
       "      <td>1235</td>\n",
       "    </tr>\n",
       "    <tr>\n",
       "      <th>host_location</th>\n",
       "      <td>84840</td>\n",
       "      <td>2503</td>\n",
       "      <td>London, England, United Kingdom</td>\n",
       "      <td>35911</td>\n",
       "    </tr>\n",
       "    <tr>\n",
       "      <th>host_about</th>\n",
       "      <td>49317</td>\n",
       "      <td>27348</td>\n",
       "      <td>Greetings from the Veeve team!\\r\\n\\r\\nMy name ...</td>\n",
       "      <td>1235</td>\n",
       "    </tr>\n",
       "    <tr>\n",
       "      <th>host_response_time</th>\n",
       "      <td>59168</td>\n",
       "      <td>4</td>\n",
       "      <td>within an hour</td>\n",
       "      <td>37451</td>\n",
       "    </tr>\n",
       "    <tr>\n",
       "      <th>host_response_rate</th>\n",
       "      <td>59168</td>\n",
       "      <td>76</td>\n",
       "      <td>100%</td>\n",
       "      <td>39938</td>\n",
       "    </tr>\n",
       "    <tr>\n",
       "      <th>host_is_superhost</th>\n",
       "      <td>85056</td>\n",
       "      <td>2</td>\n",
       "      <td>f</td>\n",
       "      <td>72303</td>\n",
       "    </tr>\n",
       "    <tr>\n",
       "      <th>host_thumbnail_url</th>\n",
       "      <td>85056</td>\n",
       "      <td>53249</td>\n",
       "      <td>https://a0.muscache.com/im/pictures/user/9a6c1...</td>\n",
       "      <td>999</td>\n",
       "    </tr>\n",
       "    <tr>\n",
       "      <th>host_picture_url</th>\n",
       "      <td>85056</td>\n",
       "      <td>53249</td>\n",
       "      <td>https://a0.muscache.com/im/pictures/user/9a6c1...</td>\n",
       "      <td>999</td>\n",
       "    </tr>\n",
       "    <tr>\n",
       "      <th>host_neighbourhood</th>\n",
       "      <td>66322</td>\n",
       "      <td>461</td>\n",
       "      <td>LB of Brent</td>\n",
       "      <td>1771</td>\n",
       "    </tr>\n",
       "    <tr>\n",
       "      <th>host_verifications</th>\n",
       "      <td>85068</td>\n",
       "      <td>551</td>\n",
       "      <td>['email', 'phone', 'reviews', 'jumio', 'govern...</td>\n",
       "      <td>9672</td>\n",
       "    </tr>\n",
       "    <tr>\n",
       "      <th>host_has_profile_pic</th>\n",
       "      <td>85056</td>\n",
       "      <td>2</td>\n",
       "      <td>t</td>\n",
       "      <td>84798</td>\n",
       "    </tr>\n",
       "    <tr>\n",
       "      <th>host_identity_verified</th>\n",
       "      <td>85056</td>\n",
       "      <td>2</td>\n",
       "      <td>f</td>\n",
       "      <td>54599</td>\n",
       "    </tr>\n",
       "    <tr>\n",
       "      <th>street</th>\n",
       "      <td>85068</td>\n",
       "      <td>1423</td>\n",
       "      <td>Greater London, England, United Kingdom</td>\n",
       "      <td>46201</td>\n",
       "    </tr>\n",
       "    <tr>\n",
       "      <th>neighbourhood</th>\n",
       "      <td>85067</td>\n",
       "      <td>149</td>\n",
       "      <td>City of Westminster</td>\n",
       "      <td>5454</td>\n",
       "    </tr>\n",
       "    <tr>\n",
       "      <th>neighbourhood_cleansed</th>\n",
       "      <td>85068</td>\n",
       "      <td>33</td>\n",
       "      <td>Westminster</td>\n",
       "      <td>9588</td>\n",
       "    </tr>\n",
       "    <tr>\n",
       "      <th>city</th>\n",
       "      <td>84821</td>\n",
       "      <td>707</td>\n",
       "      <td>Greater London</td>\n",
       "      <td>46869</td>\n",
       "    </tr>\n",
       "    <tr>\n",
       "      <th>state</th>\n",
       "      <td>68948</td>\n",
       "      <td>310</td>\n",
       "      <td>England</td>\n",
       "      <td>63765</td>\n",
       "    </tr>\n",
       "    <tr>\n",
       "      <th>zipcode</th>\n",
       "      <td>83184</td>\n",
       "      <td>34330</td>\n",
       "      <td>E1</td>\n",
       "      <td>454</td>\n",
       "    </tr>\n",
       "    <tr>\n",
       "      <th>market</th>\n",
       "      <td>84280</td>\n",
       "      <td>14</td>\n",
       "      <td>London</td>\n",
       "      <td>84258</td>\n",
       "    </tr>\n",
       "    <tr>\n",
       "      <th>smart_location</th>\n",
       "      <td>85068</td>\n",
       "      <td>711</td>\n",
       "      <td>Greater London, United Kingdom</td>\n",
       "      <td>46870</td>\n",
       "    </tr>\n",
       "    <tr>\n",
       "      <th>country_code</th>\n",
       "      <td>85068</td>\n",
       "      <td>3</td>\n",
       "      <td>GB</td>\n",
       "      <td>85065</td>\n",
       "    </tr>\n",
       "    <tr>\n",
       "      <th>country</th>\n",
       "      <td>85068</td>\n",
       "      <td>3</td>\n",
       "      <td>United Kingdom</td>\n",
       "      <td>85065</td>\n",
       "    </tr>\n",
       "    <tr>\n",
       "      <th>is_location_exact</th>\n",
       "      <td>85068</td>\n",
       "      <td>2</td>\n",
       "      <td>t</td>\n",
       "      <td>52779</td>\n",
       "    </tr>\n",
       "    <tr>\n",
       "      <th>property_type</th>\n",
       "      <td>85068</td>\n",
       "      <td>41</td>\n",
       "      <td>Apartment</td>\n",
       "      <td>56265</td>\n",
       "    </tr>\n",
       "    <tr>\n",
       "      <th>room_type</th>\n",
       "      <td>85068</td>\n",
       "      <td>4</td>\n",
       "      <td>Entire home/apt</td>\n",
       "      <td>47445</td>\n",
       "    </tr>\n",
       "    <tr>\n",
       "      <th>bed_type</th>\n",
       "      <td>85068</td>\n",
       "      <td>5</td>\n",
       "      <td>Real Bed</td>\n",
       "      <td>84395</td>\n",
       "    </tr>\n",
       "    <tr>\n",
       "      <th>amenities</th>\n",
       "      <td>85068</td>\n",
       "      <td>75093</td>\n",
       "      <td>{}</td>\n",
       "      <td>340</td>\n",
       "    </tr>\n",
       "    <tr>\n",
       "      <th>price</th>\n",
       "      <td>85068</td>\n",
       "      <td>881</td>\n",
       "      <td>$50.00</td>\n",
       "      <td>3116</td>\n",
       "    </tr>\n",
       "    <tr>\n",
       "      <th>weekly_price</th>\n",
       "      <td>6956</td>\n",
       "      <td>684</td>\n",
       "      <td>$300.00</td>\n",
       "      <td>285</td>\n",
       "    </tr>\n",
       "    <tr>\n",
       "      <th>monthly_price</th>\n",
       "      <td>4965</td>\n",
       "      <td>854</td>\n",
       "      <td>$2,000.00</td>\n",
       "      <td>159</td>\n",
       "    </tr>\n",
       "    <tr>\n",
       "      <th>security_deposit</th>\n",
       "      <td>55943</td>\n",
       "      <td>367</td>\n",
       "      <td>$0.00</td>\n",
       "      <td>20045</td>\n",
       "    </tr>\n",
       "    <tr>\n",
       "      <th>cleaning_fee</th>\n",
       "      <td>64071</td>\n",
       "      <td>257</td>\n",
       "      <td>$0.00</td>\n",
       "      <td>5959</td>\n",
       "    </tr>\n",
       "    <tr>\n",
       "      <th>extra_people</th>\n",
       "      <td>85068</td>\n",
       "      <td>114</td>\n",
       "      <td>$0.00</td>\n",
       "      <td>51632</td>\n",
       "    </tr>\n",
       "    <tr>\n",
       "      <th>calendar_updated</th>\n",
       "      <td>85068</td>\n",
       "      <td>103</td>\n",
       "      <td>today</td>\n",
       "      <td>12689</td>\n",
       "    </tr>\n",
       "    <tr>\n",
       "      <th>has_availability</th>\n",
       "      <td>85068</td>\n",
       "      <td>1</td>\n",
       "      <td>t</td>\n",
       "      <td>85068</td>\n",
       "    </tr>\n",
       "    <tr>\n",
       "      <th>requires_license</th>\n",
       "      <td>85068</td>\n",
       "      <td>2</td>\n",
       "      <td>f</td>\n",
       "      <td>85065</td>\n",
       "    </tr>\n",
       "    <tr>\n",
       "      <th>license</th>\n",
       "      <td>179</td>\n",
       "      <td>50</td>\n",
       "      <td>942 3355 30</td>\n",
       "      <td>28</td>\n",
       "    </tr>\n",
       "    <tr>\n",
       "      <th>jurisdiction_names</th>\n",
       "      <td>2</td>\n",
       "      <td>1</td>\n",
       "      <td>{\"translation missing: en.occupancy.taxes.juri...</td>\n",
       "      <td>2</td>\n",
       "    </tr>\n",
       "    <tr>\n",
       "      <th>instant_bookable</th>\n",
       "      <td>85068</td>\n",
       "      <td>2</td>\n",
       "      <td>f</td>\n",
       "      <td>48198</td>\n",
       "    </tr>\n",
       "    <tr>\n",
       "      <th>is_business_travel_ready</th>\n",
       "      <td>85068</td>\n",
       "      <td>1</td>\n",
       "      <td>f</td>\n",
       "      <td>85068</td>\n",
       "    </tr>\n",
       "    <tr>\n",
       "      <th>cancellation_policy</th>\n",
       "      <td>85068</td>\n",
       "      <td>8</td>\n",
       "      <td>strict_14_with_grace_period</td>\n",
       "      <td>36763</td>\n",
       "    </tr>\n",
       "    <tr>\n",
       "      <th>require_guest_profile_picture</th>\n",
       "      <td>85068</td>\n",
       "      <td>2</td>\n",
       "      <td>f</td>\n",
       "      <td>84211</td>\n",
       "    </tr>\n",
       "    <tr>\n",
       "      <th>require_guest_phone_verification</th>\n",
       "      <td>85068</td>\n",
       "      <td>2</td>\n",
       "      <td>f</td>\n",
       "      <td>83629</td>\n",
       "    </tr>\n",
       "  </tbody>\n",
       "</table>\n",
       "</div>"
      ],
      "text/plain": [
       "                                  count unique  \\\n",
       "listing_url                       85068  85068   \n",
       "name                              85043  82446   \n",
       "summary                           80736  74249   \n",
       "space                             59218  53964   \n",
       "description                       82683  78831   \n",
       "experiences_offered               85068      5   \n",
       "neighborhood_overview             54694  44382   \n",
       "notes                             32799  25384   \n",
       "transit                           54320  45959   \n",
       "access                            45748  33418   \n",
       "interaction                       49782  36212   \n",
       "house_rules                       49261  36490   \n",
       "picture_url                       85068  83186   \n",
       "host_url                          85068  53476   \n",
       "host_name                         85056  14573   \n",
       "host_location                     84840   2503   \n",
       "host_about                        49317  27348   \n",
       "host_response_time                59168      4   \n",
       "host_response_rate                59168     76   \n",
       "host_is_superhost                 85056      2   \n",
       "host_thumbnail_url                85056  53249   \n",
       "host_picture_url                  85056  53249   \n",
       "host_neighbourhood                66322    461   \n",
       "host_verifications                85068    551   \n",
       "host_has_profile_pic              85056      2   \n",
       "host_identity_verified            85056      2   \n",
       "street                            85068   1423   \n",
       "neighbourhood                     85067    149   \n",
       "neighbourhood_cleansed            85068     33   \n",
       "city                              84821    707   \n",
       "state                             68948    310   \n",
       "zipcode                           83184  34330   \n",
       "market                            84280     14   \n",
       "smart_location                    85068    711   \n",
       "country_code                      85068      3   \n",
       "country                           85068      3   \n",
       "is_location_exact                 85068      2   \n",
       "property_type                     85068     41   \n",
       "room_type                         85068      4   \n",
       "bed_type                          85068      5   \n",
       "amenities                         85068  75093   \n",
       "price                             85068    881   \n",
       "weekly_price                       6956    684   \n",
       "monthly_price                      4965    854   \n",
       "security_deposit                  55943    367   \n",
       "cleaning_fee                      64071    257   \n",
       "extra_people                      85068    114   \n",
       "calendar_updated                  85068    103   \n",
       "has_availability                  85068      1   \n",
       "requires_license                  85068      2   \n",
       "license                             179     50   \n",
       "jurisdiction_names                    2      1   \n",
       "instant_bookable                  85068      2   \n",
       "is_business_travel_ready          85068      1   \n",
       "cancellation_policy               85068      8   \n",
       "require_guest_profile_picture     85068      2   \n",
       "require_guest_phone_verification  85068      2   \n",
       "\n",
       "                                                                                top  \\\n",
       "listing_url                                   https://www.airbnb.com/rooms/31444517   \n",
       "name                                                                    Double room   \n",
       "summary                           Featured in The New York Times, The Wall Stree...   \n",
       "space                             Duchy House is a 19th century building and has...   \n",
       "description                       Lovely studios situated in an excellent centra...   \n",
       "experiences_offered                                                            none   \n",
       "neighborhood_overview             Conveniently located in Maida Vale one of Lond...   \n",
       "notes                                                  No smoking, pets or parties!   \n",
       "transit                           Transport links are excellent with convenient ...   \n",
       "access                            Guests will have access to the entire property...   \n",
       "interaction                       My support team or I will be contactable by em...   \n",
       "house_rules                       - The lead guest will be required to sign an O...   \n",
       "picture_url                       https://a0.muscache.com/im/pictures/3a5e9891-4...   \n",
       "host_url                                 https://www.airbnb.com/users/show/33889201   \n",
       "host_name                                                                     Veeve   \n",
       "host_location                                       London, England, United Kingdom   \n",
       "host_about                        Greetings from the Veeve team!\\r\\n\\r\\nMy name ...   \n",
       "host_response_time                                                   within an hour   \n",
       "host_response_rate                                                             100%   \n",
       "host_is_superhost                                                                 f   \n",
       "host_thumbnail_url                https://a0.muscache.com/im/pictures/user/9a6c1...   \n",
       "host_picture_url                  https://a0.muscache.com/im/pictures/user/9a6c1...   \n",
       "host_neighbourhood                                                      LB of Brent   \n",
       "host_verifications                ['email', 'phone', 'reviews', 'jumio', 'govern...   \n",
       "host_has_profile_pic                                                              t   \n",
       "host_identity_verified                                                            f   \n",
       "street                                      Greater London, England, United Kingdom   \n",
       "neighbourhood                                                   City of Westminster   \n",
       "neighbourhood_cleansed                                                  Westminster   \n",
       "city                                                                 Greater London   \n",
       "state                                                                       England   \n",
       "zipcode                                                                          E1   \n",
       "market                                                                       London   \n",
       "smart_location                                       Greater London, United Kingdom   \n",
       "country_code                                                                     GB   \n",
       "country                                                              United Kingdom   \n",
       "is_location_exact                                                                 t   \n",
       "property_type                                                             Apartment   \n",
       "room_type                                                           Entire home/apt   \n",
       "bed_type                                                                   Real Bed   \n",
       "amenities                                                                        {}   \n",
       "price                                                                        $50.00   \n",
       "weekly_price                                                                $300.00   \n",
       "monthly_price                                                             $2,000.00   \n",
       "security_deposit                                                              $0.00   \n",
       "cleaning_fee                                                                  $0.00   \n",
       "extra_people                                                                  $0.00   \n",
       "calendar_updated                                                              today   \n",
       "has_availability                                                                  t   \n",
       "requires_license                                                                  f   \n",
       "license                                                                 942 3355 30   \n",
       "jurisdiction_names                {\"translation missing: en.occupancy.taxes.juri...   \n",
       "instant_bookable                                                                  f   \n",
       "is_business_travel_ready                                                          f   \n",
       "cancellation_policy                                     strict_14_with_grace_period   \n",
       "require_guest_profile_picture                                                     f   \n",
       "require_guest_phone_verification                                                  f   \n",
       "\n",
       "                                   freq  \n",
       "listing_url                           1  \n",
       "name                                 37  \n",
       "summary                             214  \n",
       "space                                30  \n",
       "description                          26  \n",
       "experiences_offered               83388  \n",
       "neighborhood_overview                66  \n",
       "notes                               151  \n",
       "transit                              93  \n",
       "access                             1583  \n",
       "interaction                        1012  \n",
       "house_rules                         491  \n",
       "picture_url                          12  \n",
       "host_url                            999  \n",
       "host_name                          1235  \n",
       "host_location                     35911  \n",
       "host_about                         1235  \n",
       "host_response_time                37451  \n",
       "host_response_rate                39938  \n",
       "host_is_superhost                 72303  \n",
       "host_thumbnail_url                  999  \n",
       "host_picture_url                    999  \n",
       "host_neighbourhood                 1771  \n",
       "host_verifications                 9672  \n",
       "host_has_profile_pic              84798  \n",
       "host_identity_verified            54599  \n",
       "street                            46201  \n",
       "neighbourhood                      5454  \n",
       "neighbourhood_cleansed             9588  \n",
       "city                              46869  \n",
       "state                             63765  \n",
       "zipcode                             454  \n",
       "market                            84258  \n",
       "smart_location                    46870  \n",
       "country_code                      85065  \n",
       "country                           85065  \n",
       "is_location_exact                 52779  \n",
       "property_type                     56265  \n",
       "room_type                         47445  \n",
       "bed_type                          84395  \n",
       "amenities                           340  \n",
       "price                              3116  \n",
       "weekly_price                        285  \n",
       "monthly_price                       159  \n",
       "security_deposit                  20045  \n",
       "cleaning_fee                       5959  \n",
       "extra_people                      51632  \n",
       "calendar_updated                  12689  \n",
       "has_availability                  85068  \n",
       "requires_license                  85065  \n",
       "license                              28  \n",
       "jurisdiction_names                    2  \n",
       "instant_bookable                  48198  \n",
       "is_business_travel_ready          85068  \n",
       "cancellation_policy               36763  \n",
       "require_guest_profile_picture     84211  \n",
       "require_guest_phone_verification  83629  "
      ]
     },
     "execution_count": 32,
     "metadata": {},
     "output_type": "execute_result"
    }
   ],
   "source": [
    "listings_detail_df.describe(include='object')"
   ]
  },
  {
   "cell_type": "markdown",
   "metadata": {},
   "source": [
    "国家代码分布"
   ]
  },
  {
   "cell_type": "code",
   "execution_count": 33,
   "metadata": {},
   "outputs": [
    {
     "name": "stdout",
     "output_type": "stream",
     "text": [
      "GB    85065\n",
      "FR        2\n",
      "ES        1\n",
      "Name: country_code, dtype: int64\n"
     ]
    },
    {
     "data": {
      "text/html": [
       "<div>\n",
       "<style scoped>\n",
       "    .dataframe tbody tr th:only-of-type {\n",
       "        vertical-align: middle;\n",
       "    }\n",
       "\n",
       "    .dataframe tbody tr th {\n",
       "        vertical-align: top;\n",
       "    }\n",
       "\n",
       "    .dataframe thead th {\n",
       "        text-align: right;\n",
       "    }\n",
       "</style>\n",
       "<table border=\"1\" class=\"dataframe\">\n",
       "  <thead>\n",
       "    <tr style=\"text-align: right;\">\n",
       "      <th></th>\n",
       "      <th>id</th>\n",
       "      <th>listing_url</th>\n",
       "      <th>scrape_id</th>\n",
       "      <th>last_scraped</th>\n",
       "      <th>name</th>\n",
       "      <th>summary</th>\n",
       "      <th>space</th>\n",
       "      <th>description</th>\n",
       "      <th>experiences_offered</th>\n",
       "      <th>neighborhood_overview</th>\n",
       "      <th>...</th>\n",
       "      <th>instant_bookable</th>\n",
       "      <th>is_business_travel_ready</th>\n",
       "      <th>cancellation_policy</th>\n",
       "      <th>require_guest_profile_picture</th>\n",
       "      <th>require_guest_phone_verification</th>\n",
       "      <th>calculated_host_listings_count</th>\n",
       "      <th>calculated_host_listings_count_entire_homes</th>\n",
       "      <th>calculated_host_listings_count_private_rooms</th>\n",
       "      <th>calculated_host_listings_count_shared_rooms</th>\n",
       "      <th>reviews_per_month</th>\n",
       "    </tr>\n",
       "  </thead>\n",
       "  <tbody>\n",
       "    <tr>\n",
       "      <th>41783</th>\n",
       "      <td>23325697</td>\n",
       "      <td>https://www.airbnb.com/rooms/23325697</td>\n",
       "      <td>20191105115249</td>\n",
       "      <td>2019-11-06</td>\n",
       "      <td>Can torres</td>\n",
       "      <td>M7 minutes to Ibiza Town</td>\n",
       "      <td>NaN</td>\n",
       "      <td>M7 minutes to Ibiza Town</td>\n",
       "      <td>none</td>\n",
       "      <td>NaN</td>\n",
       "      <td>...</td>\n",
       "      <td>t</td>\n",
       "      <td>f</td>\n",
       "      <td>flexible</td>\n",
       "      <td>f</td>\n",
       "      <td>f</td>\n",
       "      <td>1</td>\n",
       "      <td>1</td>\n",
       "      <td>0</td>\n",
       "      <td>0</td>\n",
       "      <td>NaN</td>\n",
       "    </tr>\n",
       "    <tr>\n",
       "      <th>57006</th>\n",
       "      <td>30320965</td>\n",
       "      <td>https://www.airbnb.com/rooms/30320965</td>\n",
       "      <td>20191105115249</td>\n",
       "      <td>2019-11-05</td>\n",
       "      <td>Chambre idéal pour couple, 10min à pied de Camden</td>\n",
       "      <td>Chambre lumineuse très bien situé à 7min à pie...</td>\n",
       "      <td>L’appartement est calme et très bien situé pou...</td>\n",
       "      <td>Chambre lumineuse très bien situé à 7min à pie...</td>\n",
       "      <td>none</td>\n",
       "      <td>Vous trouverez une station de métro (Kentish T...</td>\n",
       "      <td>...</td>\n",
       "      <td>f</td>\n",
       "      <td>f</td>\n",
       "      <td>flexible</td>\n",
       "      <td>f</td>\n",
       "      <td>f</td>\n",
       "      <td>1</td>\n",
       "      <td>0</td>\n",
       "      <td>1</td>\n",
       "      <td>0</td>\n",
       "      <td>0.1</td>\n",
       "    </tr>\n",
       "    <tr>\n",
       "      <th>61178</th>\n",
       "      <td>32394504</td>\n",
       "      <td>https://www.airbnb.com/rooms/32394504</td>\n",
       "      <td>20191105115249</td>\n",
       "      <td>2019-11-06</td>\n",
       "      <td>Cosy one bedroom , near station Edgware</td>\n",
       "      <td>NaN</td>\n",
       "      <td>NaN</td>\n",
       "      <td>NaN</td>\n",
       "      <td>none</td>\n",
       "      <td>NaN</td>\n",
       "      <td>...</td>\n",
       "      <td>f</td>\n",
       "      <td>f</td>\n",
       "      <td>flexible</td>\n",
       "      <td>f</td>\n",
       "      <td>f</td>\n",
       "      <td>2</td>\n",
       "      <td>1</td>\n",
       "      <td>1</td>\n",
       "      <td>0</td>\n",
       "      <td>NaN</td>\n",
       "    </tr>\n",
       "  </tbody>\n",
       "</table>\n",
       "<p>3 rows × 106 columns</p>\n",
       "</div>"
      ],
      "text/plain": [
       "             id                            listing_url       scrape_id  \\\n",
       "41783  23325697  https://www.airbnb.com/rooms/23325697  20191105115249   \n",
       "57006  30320965  https://www.airbnb.com/rooms/30320965  20191105115249   \n",
       "61178  32394504  https://www.airbnb.com/rooms/32394504  20191105115249   \n",
       "\n",
       "      last_scraped                                               name  \\\n",
       "41783   2019-11-06                                         Can torres   \n",
       "57006   2019-11-05  Chambre idéal pour couple, 10min à pied de Camden   \n",
       "61178   2019-11-06            Cosy one bedroom , near station Edgware   \n",
       "\n",
       "                                                 summary  \\\n",
       "41783                           M7 minutes to Ibiza Town   \n",
       "57006  Chambre lumineuse très bien situé à 7min à pie...   \n",
       "61178                                                NaN   \n",
       "\n",
       "                                                   space  \\\n",
       "41783                                                NaN   \n",
       "57006  L’appartement est calme et très bien situé pou...   \n",
       "61178                                                NaN   \n",
       "\n",
       "                                             description experiences_offered  \\\n",
       "41783                           M7 minutes to Ibiza Town                none   \n",
       "57006  Chambre lumineuse très bien situé à 7min à pie...                none   \n",
       "61178                                                NaN                none   \n",
       "\n",
       "                                   neighborhood_overview  ...  \\\n",
       "41783                                                NaN  ...   \n",
       "57006  Vous trouverez une station de métro (Kentish T...  ...   \n",
       "61178                                                NaN  ...   \n",
       "\n",
       "      instant_bookable is_business_travel_ready cancellation_policy  \\\n",
       "41783                t                        f            flexible   \n",
       "57006                f                        f            flexible   \n",
       "61178                f                        f            flexible   \n",
       "\n",
       "      require_guest_profile_picture require_guest_phone_verification  \\\n",
       "41783                             f                                f   \n",
       "57006                             f                                f   \n",
       "61178                             f                                f   \n",
       "\n",
       "       calculated_host_listings_count  \\\n",
       "41783                               1   \n",
       "57006                               1   \n",
       "61178                               2   \n",
       "\n",
       "       calculated_host_listings_count_entire_homes  \\\n",
       "41783                                            1   \n",
       "57006                                            0   \n",
       "61178                                            1   \n",
       "\n",
       "      calculated_host_listings_count_private_rooms  \\\n",
       "41783                                            0   \n",
       "57006                                            1   \n",
       "61178                                            1   \n",
       "\n",
       "       calculated_host_listings_count_shared_rooms  reviews_per_month  \n",
       "41783                                            0                NaN  \n",
       "57006                                            0                0.1  \n",
       "61178                                            0                NaN  \n",
       "\n",
       "[3 rows x 106 columns]"
      ]
     },
     "execution_count": 33,
     "metadata": {},
     "output_type": "execute_result"
    }
   ],
   "source": [
    "print(listings_detail_df['country_code'].value_counts())\n",
    "listings_detail_df.query('country_code != \"GB\"')"
   ]
  },
  {
   "cell_type": "markdown",
   "metadata": {},
   "source": [
    "数值特征分布"
   ]
  },
  {
   "cell_type": "code",
   "execution_count": 34,
   "metadata": {},
   "outputs": [
    {
     "data": {
      "image/png": "[encoded data removed]",
      "text/plain": [
       "<Figure size 864x2160 with 45 Axes>"
      ]
     },
     "metadata": {},
     "output_type": "display_data"
    }
   ],
   "source": [
    "listings_detail_df.hist(figsize=(12, 30), bins=20, grid=False, layout=(15, 3))\n",
    "sns.despine()\n",
    "plt.suptitle('Numeric features distribution', fontsize=14)\n",
    "plt.tight_layout(rect=[0, 0, 1, 0.97])"
   ]
  },
  {
   "cell_type": "markdown",
   "metadata": {},
   "source": [
    "**伦敦房源详细的Calendar数据**"
   ]
  },
  {
   "cell_type": "markdown",
   "metadata": {},
   "source": [
    "数据样本"
   ]
  },
  {
   "cell_type": "code",
   "execution_count": 35,
   "metadata": {},
   "outputs": [
    {
     "data": {
      "text/html": [
       "<div>\n",
       "<style scoped>\n",
       "    .dataframe tbody tr th:only-of-type {\n",
       "        vertical-align: middle;\n",
       "    }\n",
       "\n",
       "    .dataframe tbody tr th {\n",
       "        vertical-align: top;\n",
       "    }\n",
       "\n",
       "    .dataframe thead th {\n",
       "        text-align: right;\n",
       "    }\n",
       "</style>\n",
       "<table border=\"1\" class=\"dataframe\">\n",
       "  <thead>\n",
       "    <tr style=\"text-align: right;\">\n",
       "      <th></th>\n",
       "      <th>listing_id</th>\n",
       "      <th>date</th>\n",
       "      <th>available</th>\n",
       "      <th>price</th>\n",
       "      <th>adjusted_price</th>\n",
       "      <th>minimum_nights</th>\n",
       "      <th>maximum_nights</th>\n",
       "    </tr>\n",
       "  </thead>\n",
       "  <tbody>\n",
       "    <tr>\n",
       "      <th>0</th>\n",
       "      <td>11551</td>\n",
       "      <td>2019-11-06</td>\n",
       "      <td>f</td>\n",
       "      <td>$105.00</td>\n",
       "      <td>$105.00</td>\n",
       "      <td>3.0</td>\n",
       "      <td>180.0</td>\n",
       "    </tr>\n",
       "  </tbody>\n",
       "</table>\n",
       "</div>"
      ],
      "text/plain": [
       "   listing_id       date available    price adjusted_price  minimum_nights  \\\n",
       "0       11551 2019-11-06         f  $105.00        $105.00             3.0   \n",
       "\n",
       "   maximum_nights  \n",
       "0           180.0  "
      ]
     },
     "execution_count": 35,
     "metadata": {},
     "output_type": "execute_result"
    }
   ],
   "source": [
    "calendar_df.head(1)"
   ]
  },
  {
   "cell_type": "markdown",
   "metadata": {},
   "source": [
    "有缺失值的特征"
   ]
  },
  {
   "cell_type": "code",
   "execution_count": 36,
   "metadata": {},
   "outputs": [
    {
     "name": "stdout",
     "output_type": "stream",
     "text": [
      "(31050094, 7)\n"
     ]
    },
    {
     "data": {
      "text/plain": [
       "adjusted_price    918\n",
       "price             918\n",
       "maximum_nights     10\n",
       "minimum_nights     10\n",
       "dtype: int64"
      ]
     },
     "execution_count": 36,
     "metadata": {},
     "output_type": "execute_result"
    }
   ],
   "source": [
    "print(calendar_df.shape)\n",
    "calendar_df.loc[:, calendar_df.isnull().sum() > 0].isnull().sum().sort_values(ascending=False)"
   ]
  },
  {
   "cell_type": "markdown",
   "metadata": {},
   "source": [
    "时间特征的汇总信息"
   ]
  },
  {
   "cell_type": "code",
   "execution_count": 37,
   "metadata": {},
   "outputs": [
    {
     "data": {
      "text/html": [
       "<div>\n",
       "<style scoped>\n",
       "    .dataframe tbody tr th:only-of-type {\n",
       "        vertical-align: middle;\n",
       "    }\n",
       "\n",
       "    .dataframe tbody tr th {\n",
       "        vertical-align: top;\n",
       "    }\n",
       "\n",
       "    .dataframe thead th {\n",
       "        text-align: right;\n",
       "    }\n",
       "</style>\n",
       "<table border=\"1\" class=\"dataframe\">\n",
       "  <thead>\n",
       "    <tr style=\"text-align: right;\">\n",
       "      <th></th>\n",
       "      <th>date</th>\n",
       "    </tr>\n",
       "  </thead>\n",
       "  <tbody>\n",
       "    <tr>\n",
       "      <th>count</th>\n",
       "      <td>31050094</td>\n",
       "    </tr>\n",
       "    <tr>\n",
       "      <th>unique</th>\n",
       "      <td>366</td>\n",
       "    </tr>\n",
       "    <tr>\n",
       "      <th>top</th>\n",
       "      <td>2020-07-05 00:00:00</td>\n",
       "    </tr>\n",
       "    <tr>\n",
       "      <th>freq</th>\n",
       "      <td>85068</td>\n",
       "    </tr>\n",
       "    <tr>\n",
       "      <th>first</th>\n",
       "      <td>2019-11-05 00:00:00</td>\n",
       "    </tr>\n",
       "    <tr>\n",
       "      <th>last</th>\n",
       "      <td>2020-11-04 00:00:00</td>\n",
       "    </tr>\n",
       "  </tbody>\n",
       "</table>\n",
       "</div>"
      ],
      "text/plain": [
       "                       date\n",
       "count              31050094\n",
       "unique                  366\n",
       "top     2020-07-05 00:00:00\n",
       "freq                  85068\n",
       "first   2019-11-05 00:00:00\n",
       "last    2020-11-04 00:00:00"
      ]
     },
     "execution_count": 37,
     "metadata": {},
     "output_type": "execute_result"
    }
   ],
   "source": [
    "calendar_df.describe(include='datetime')"
   ]
  },
  {
   "cell_type": "markdown",
   "metadata": {},
   "source": [
    "字符特征的汇总信息"
   ]
  },
  {
   "cell_type": "code",
   "execution_count": 38,
   "metadata": {},
   "outputs": [
    {
     "data": {
      "text/html": [
       "<div>\n",
       "<style scoped>\n",
       "    .dataframe tbody tr th:only-of-type {\n",
       "        vertical-align: middle;\n",
       "    }\n",
       "\n",
       "    .dataframe tbody tr th {\n",
       "        vertical-align: top;\n",
       "    }\n",
       "\n",
       "    .dataframe thead th {\n",
       "        text-align: right;\n",
       "    }\n",
       "</style>\n",
       "<table border=\"1\" class=\"dataframe\">\n",
       "  <thead>\n",
       "    <tr style=\"text-align: right;\">\n",
       "      <th></th>\n",
       "      <th>available</th>\n",
       "      <th>price</th>\n",
       "      <th>adjusted_price</th>\n",
       "    </tr>\n",
       "  </thead>\n",
       "  <tbody>\n",
       "    <tr>\n",
       "      <th>count</th>\n",
       "      <td>31050094</td>\n",
       "      <td>31049176</td>\n",
       "      <td>31049176</td>\n",
       "    </tr>\n",
       "    <tr>\n",
       "      <th>unique</th>\n",
       "      <td>2</td>\n",
       "      <td>2684</td>\n",
       "      <td>2696</td>\n",
       "    </tr>\n",
       "    <tr>\n",
       "      <th>top</th>\n",
       "      <td>f</td>\n",
       "      <td>$50.00</td>\n",
       "      <td>$50.00</td>\n",
       "    </tr>\n",
       "    <tr>\n",
       "      <th>freq</th>\n",
       "      <td>20898260</td>\n",
       "      <td>949237</td>\n",
       "      <td>949577</td>\n",
       "    </tr>\n",
       "  </tbody>\n",
       "</table>\n",
       "</div>"
      ],
      "text/plain": [
       "       available     price adjusted_price\n",
       "count   31050094  31049176       31049176\n",
       "unique         2      2684           2696\n",
       "top            f    $50.00         $50.00\n",
       "freq    20898260    949237         949577"
      ]
     },
     "execution_count": 38,
     "metadata": {},
     "output_type": "execute_result"
    }
   ],
   "source": [
    "calendar_df.describe(include='object')"
   ]
  },
  {
   "cell_type": "markdown",
   "metadata": {},
   "source": [
    "**评论数据和房源ID的汇总信息**"
   ]
  },
  {
   "cell_type": "markdown",
   "metadata": {},
   "source": [
    "数据样本"
   ]
  },
  {
   "cell_type": "code",
   "execution_count": 39,
   "metadata": {},
   "outputs": [
    {
     "data": {
      "text/html": [
       "<div>\n",
       "<style scoped>\n",
       "    .dataframe tbody tr th:only-of-type {\n",
       "        vertical-align: middle;\n",
       "    }\n",
       "\n",
       "    .dataframe tbody tr th {\n",
       "        vertical-align: top;\n",
       "    }\n",
       "\n",
       "    .dataframe thead th {\n",
       "        text-align: right;\n",
       "    }\n",
       "</style>\n",
       "<table border=\"1\" class=\"dataframe\">\n",
       "  <thead>\n",
       "    <tr style=\"text-align: right;\">\n",
       "      <th></th>\n",
       "      <th>listing_id</th>\n",
       "      <th>date</th>\n",
       "    </tr>\n",
       "  </thead>\n",
       "  <tbody>\n",
       "    <tr>\n",
       "      <th>0</th>\n",
       "      <td>11551</td>\n",
       "      <td>2010-03-21</td>\n",
       "    </tr>\n",
       "  </tbody>\n",
       "</table>\n",
       "</div>"
      ],
      "text/plain": [
       "   listing_id       date\n",
       "0       11551 2010-03-21"
      ]
     },
     "execution_count": 39,
     "metadata": {},
     "output_type": "execute_result"
    }
   ],
   "source": [
    "reviews_df.head(1)"
   ]
  },
  {
   "cell_type": "markdown",
   "metadata": {},
   "source": [
    "有缺失值的特征"
   ]
  },
  {
   "cell_type": "code",
   "execution_count": 40,
   "metadata": {},
   "outputs": [
    {
     "name": "stdout",
     "output_type": "stream",
     "text": [
      "(1486236, 2)\n"
     ]
    },
    {
     "data": {
      "text/plain": [
       "Series([], dtype: float64)"
      ]
     },
     "execution_count": 40,
     "metadata": {},
     "output_type": "execute_result"
    }
   ],
   "source": [
    "print(reviews_df.shape)\n",
    "reviews_df.loc[:, reviews_df.isnull().sum() > 0].isnull().sum().sort_values(ascending=False)"
   ]
  },
  {
   "cell_type": "markdown",
   "metadata": {},
   "source": [
    "时间特征的汇总信息"
   ]
  },
  {
   "cell_type": "code",
   "execution_count": 41,
   "metadata": {},
   "outputs": [
    {
     "data": {
      "text/html": [
       "<div>\n",
       "<style scoped>\n",
       "    .dataframe tbody tr th:only-of-type {\n",
       "        vertical-align: middle;\n",
       "    }\n",
       "\n",
       "    .dataframe tbody tr th {\n",
       "        vertical-align: top;\n",
       "    }\n",
       "\n",
       "    .dataframe thead th {\n",
       "        text-align: right;\n",
       "    }\n",
       "</style>\n",
       "<table border=\"1\" class=\"dataframe\">\n",
       "  <thead>\n",
       "    <tr style=\"text-align: right;\">\n",
       "      <th></th>\n",
       "      <th>date</th>\n",
       "    </tr>\n",
       "  </thead>\n",
       "  <tbody>\n",
       "    <tr>\n",
       "      <th>count</th>\n",
       "      <td>1486236</td>\n",
       "    </tr>\n",
       "    <tr>\n",
       "      <th>unique</th>\n",
       "      <td>3302</td>\n",
       "    </tr>\n",
       "    <tr>\n",
       "      <th>top</th>\n",
       "      <td>2019-07-07 00:00:00</td>\n",
       "    </tr>\n",
       "    <tr>\n",
       "      <th>freq</th>\n",
       "      <td>3731</td>\n",
       "    </tr>\n",
       "    <tr>\n",
       "      <th>first</th>\n",
       "      <td>2009-12-21 00:00:00</td>\n",
       "    </tr>\n",
       "    <tr>\n",
       "      <th>last</th>\n",
       "      <td>2019-11-06 00:00:00</td>\n",
       "    </tr>\n",
       "  </tbody>\n",
       "</table>\n",
       "</div>"
      ],
      "text/plain": [
       "                       date\n",
       "count               1486236\n",
       "unique                 3302\n",
       "top     2019-07-07 00:00:00\n",
       "freq                   3731\n",
       "first   2009-12-21 00:00:00\n",
       "last    2019-11-06 00:00:00"
      ]
     },
     "execution_count": 41,
     "metadata": {},
     "output_type": "execute_result"
    }
   ],
   "source": [
    "reviews_df.describe(include='datetime')"
   ]
  },
  {
   "cell_type": "markdown",
   "metadata": {},
   "source": [
    "数值特征的分布"
   ]
  },
  {
   "cell_type": "code",
   "execution_count": 42,
   "metadata": {},
   "outputs": [
    {
     "data": {
      "image/png": "[encoded data removed]",
      "text/plain": [
       "<Figure size 432x288 with 1 Axes>"
      ]
     },
     "metadata": {},
     "output_type": "display_data"
    }
   ],
   "source": [
    "reviews_df.hist(bins=20, grid=False)\n",
    "sns.despine()\n",
    "plt.suptitle('Numeric features distribution', fontsize=14)\n",
    "plt.tight_layout(rect=[0, 0, 1, 0.95])"
   ]
  },
  {
   "cell_type": "markdown",
   "metadata": {},
   "source": [
    "**伦敦房源的详细评论信息**"
   ]
  },
  {
   "cell_type": "markdown",
   "metadata": {},
   "source": [
    "数据样本"
   ]
  },
  {
   "cell_type": "code",
   "execution_count": 43,
   "metadata": {},
   "outputs": [
    {
     "data": {
      "text/html": [
       "<div>\n",
       "<style scoped>\n",
       "    .dataframe tbody tr th:only-of-type {\n",
       "        vertical-align: middle;\n",
       "    }\n",
       "\n",
       "    .dataframe tbody tr th {\n",
       "        vertical-align: top;\n",
       "    }\n",
       "\n",
       "    .dataframe thead th {\n",
       "        text-align: right;\n",
       "    }\n",
       "</style>\n",
       "<table border=\"1\" class=\"dataframe\">\n",
       "  <thead>\n",
       "    <tr style=\"text-align: right;\">\n",
       "      <th></th>\n",
       "      <th>listing_id</th>\n",
       "      <th>id</th>\n",
       "      <th>date</th>\n",
       "      <th>reviewer_id</th>\n",
       "      <th>reviewer_name</th>\n",
       "      <th>comments</th>\n",
       "    </tr>\n",
       "  </thead>\n",
       "  <tbody>\n",
       "    <tr>\n",
       "      <th>0</th>\n",
       "      <td>11551</td>\n",
       "      <td>30672</td>\n",
       "      <td>2010-03-21</td>\n",
       "      <td>93896</td>\n",
       "      <td>Shar-Lyn</td>\n",
       "      <td>The flat was bright, comfortable and clean and...</td>\n",
       "    </tr>\n",
       "  </tbody>\n",
       "</table>\n",
       "</div>"
      ],
      "text/plain": [
       "   listing_id     id       date  reviewer_id reviewer_name  \\\n",
       "0       11551  30672 2010-03-21        93896      Shar-Lyn   \n",
       "\n",
       "                                            comments  \n",
       "0  The flat was bright, comfortable and clean and...  "
      ]
     },
     "execution_count": 43,
     "metadata": {},
     "output_type": "execute_result"
    }
   ],
   "source": [
    "reviews_detail_df.head(1)"
   ]
  },
  {
   "cell_type": "markdown",
   "metadata": {},
   "source": [
    "有缺失值的特征"
   ]
  },
  {
   "cell_type": "code",
   "execution_count": 44,
   "metadata": {},
   "outputs": [
    {
     "name": "stdout",
     "output_type": "stream",
     "text": [
      "(1486236, 6)\n"
     ]
    },
    {
     "data": {
      "text/plain": [
       "comments    622\n",
       "dtype: int64"
      ]
     },
     "execution_count": 44,
     "metadata": {},
     "output_type": "execute_result"
    }
   ],
   "source": [
    "print(reviews_detail_df.shape)\n",
    "reviews_detail_df.loc[:, reviews_detail_df.isnull().sum() > 0].isnull().sum().sort_values(ascending=False)"
   ]
  },
  {
   "cell_type": "markdown",
   "metadata": {},
   "source": [
    "时间特征的汇总信息"
   ]
  },
  {
   "cell_type": "code",
   "execution_count": 45,
   "metadata": {},
   "outputs": [
    {
     "data": {
      "text/html": [
       "<div>\n",
       "<style scoped>\n",
       "    .dataframe tbody tr th:only-of-type {\n",
       "        vertical-align: middle;\n",
       "    }\n",
       "\n",
       "    .dataframe tbody tr th {\n",
       "        vertical-align: top;\n",
       "    }\n",
       "\n",
       "    .dataframe thead th {\n",
       "        text-align: right;\n",
       "    }\n",
       "</style>\n",
       "<table border=\"1\" class=\"dataframe\">\n",
       "  <thead>\n",
       "    <tr style=\"text-align: right;\">\n",
       "      <th></th>\n",
       "      <th>date</th>\n",
       "    </tr>\n",
       "  </thead>\n",
       "  <tbody>\n",
       "    <tr>\n",
       "      <th>count</th>\n",
       "      <td>1486236</td>\n",
       "    </tr>\n",
       "    <tr>\n",
       "      <th>unique</th>\n",
       "      <td>3302</td>\n",
       "    </tr>\n",
       "    <tr>\n",
       "      <th>top</th>\n",
       "      <td>2019-07-07 00:00:00</td>\n",
       "    </tr>\n",
       "    <tr>\n",
       "      <th>freq</th>\n",
       "      <td>3731</td>\n",
       "    </tr>\n",
       "    <tr>\n",
       "      <th>first</th>\n",
       "      <td>2009-12-21 00:00:00</td>\n",
       "    </tr>\n",
       "    <tr>\n",
       "      <th>last</th>\n",
       "      <td>2019-11-06 00:00:00</td>\n",
       "    </tr>\n",
       "  </tbody>\n",
       "</table>\n",
       "</div>"
      ],
      "text/plain": [
       "                       date\n",
       "count               1486236\n",
       "unique                 3302\n",
       "top     2019-07-07 00:00:00\n",
       "freq                   3731\n",
       "first   2009-12-21 00:00:00\n",
       "last    2019-11-06 00:00:00"
      ]
     },
     "execution_count": 45,
     "metadata": {},
     "output_type": "execute_result"
    }
   ],
   "source": [
    "reviews_detail_df.describe(include='datetime')"
   ]
  },
  {
   "cell_type": "markdown",
   "metadata": {},
   "source": [
    "字符特征的汇总信息"
   ]
  },
  {
   "cell_type": "code",
   "execution_count": 46,
   "metadata": {},
   "outputs": [
    {
     "data": {
      "text/html": [
       "<div>\n",
       "<style scoped>\n",
       "    .dataframe tbody tr th:only-of-type {\n",
       "        vertical-align: middle;\n",
       "    }\n",
       "\n",
       "    .dataframe tbody tr th {\n",
       "        vertical-align: top;\n",
       "    }\n",
       "\n",
       "    .dataframe thead th {\n",
       "        text-align: right;\n",
       "    }\n",
       "</style>\n",
       "<table border=\"1\" class=\"dataframe\">\n",
       "  <thead>\n",
       "    <tr style=\"text-align: right;\">\n",
       "      <th></th>\n",
       "      <th>reviewer_name</th>\n",
       "      <th>comments</th>\n",
       "    </tr>\n",
       "  </thead>\n",
       "  <tbody>\n",
       "    <tr>\n",
       "      <th>count</th>\n",
       "      <td>1486236</td>\n",
       "      <td>1485614</td>\n",
       "    </tr>\n",
       "    <tr>\n",
       "      <th>unique</th>\n",
       "      <td>141702</td>\n",
       "      <td>1426862</td>\n",
       "    </tr>\n",
       "    <tr>\n",
       "      <th>top</th>\n",
       "      <td>David</td>\n",
       "      <td>The host canceled this reservation 2 days befo...</td>\n",
       "    </tr>\n",
       "    <tr>\n",
       "      <th>freq</th>\n",
       "      <td>12654</td>\n",
       "      <td>1646</td>\n",
       "    </tr>\n",
       "  </tbody>\n",
       "</table>\n",
       "</div>"
      ],
      "text/plain": [
       "       reviewer_name                                           comments\n",
       "count        1486236                                            1485614\n",
       "unique        141702                                            1426862\n",
       "top            David  The host canceled this reservation 2 days befo...\n",
       "freq           12654                                               1646"
      ]
     },
     "execution_count": 46,
     "metadata": {},
     "output_type": "execute_result"
    }
   ],
   "source": [
    "reviews_detail_df.describe(include='object')"
   ]
  },
  {
   "cell_type": "markdown",
   "metadata": {},
   "source": [
    "数值特征分布"
   ]
  },
  {
   "cell_type": "code",
   "execution_count": 47,
   "metadata": {},
   "outputs": [
    {
     "data": {
      "image/png": "[encoded data removed]",
      "text/plain": [
       "<Figure size 576x432 with 4 Axes>"
      ]
     },
     "metadata": {},
     "output_type": "display_data"
    }
   ],
   "source": [
    "reviews_detail_df.hist(figsize=(8, 6), bins=20, grid=False)\n",
    "sns.despine()\n",
    "plt.suptitle('Numeric features distribution', fontsize=14)\n",
    "plt.tight_layout(rect=[0, 0, 1, 0.95])"
   ]
  },
  {
   "cell_type": "markdown",
   "metadata": {},
   "source": [
    "**地理过滤器的街区列表**"
   ]
  },
  {
   "cell_type": "markdown",
   "metadata": {},
   "source": [
    "数据样本"
   ]
  },
  {
   "cell_type": "code",
   "execution_count": 48,
   "metadata": {},
   "outputs": [
    {
     "data": {
      "text/html": [
       "<div>\n",
       "<style scoped>\n",
       "    .dataframe tbody tr th:only-of-type {\n",
       "        vertical-align: middle;\n",
       "    }\n",
       "\n",
       "    .dataframe tbody tr th {\n",
       "        vertical-align: top;\n",
       "    }\n",
       "\n",
       "    .dataframe thead th {\n",
       "        text-align: right;\n",
       "    }\n",
       "</style>\n",
       "<table border=\"1\" class=\"dataframe\">\n",
       "  <thead>\n",
       "    <tr style=\"text-align: right;\">\n",
       "      <th></th>\n",
       "      <th>neighbourhood_group</th>\n",
       "      <th>neighbourhood</th>\n",
       "    </tr>\n",
       "  </thead>\n",
       "  <tbody>\n",
       "    <tr>\n",
       "      <th>0</th>\n",
       "      <td>NaN</td>\n",
       "      <td>Barking and Dagenham</td>\n",
       "    </tr>\n",
       "  </tbody>\n",
       "</table>\n",
       "</div>"
      ],
      "text/plain": [
       "   neighbourhood_group         neighbourhood\n",
       "0                  NaN  Barking and Dagenham"
      ]
     },
     "execution_count": 48,
     "metadata": {},
     "output_type": "execute_result"
    }
   ],
   "source": [
    "neighbourhoods_df.head(1)"
   ]
  },
  {
   "cell_type": "markdown",
   "metadata": {},
   "source": [
    "有缺失值的特征"
   ]
  },
  {
   "cell_type": "code",
   "execution_count": 49,
   "metadata": {},
   "outputs": [
    {
     "name": "stdout",
     "output_type": "stream",
     "text": [
      "(33, 2)\n"
     ]
    },
    {
     "data": {
      "text/plain": [
       "neighbourhood_group    33\n",
       "dtype: int64"
      ]
     },
     "execution_count": 49,
     "metadata": {},
     "output_type": "execute_result"
    }
   ],
   "source": [
    "print(neighbourhoods_df.shape)\n",
    "neighbourhoods_df.loc[:, neighbourhoods_df.isnull().sum() > 0].isnull().sum().sort_values(ascending=False)"
   ]
  },
  {
   "cell_type": "markdown",
   "metadata": {},
   "source": [
    "字符特征汇总信息"
   ]
  },
  {
   "cell_type": "code",
   "execution_count": 50,
   "metadata": {},
   "outputs": [
    {
     "data": {
      "text/html": [
       "<div>\n",
       "<style scoped>\n",
       "    .dataframe tbody tr th:only-of-type {\n",
       "        vertical-align: middle;\n",
       "    }\n",
       "\n",
       "    .dataframe tbody tr th {\n",
       "        vertical-align: top;\n",
       "    }\n",
       "\n",
       "    .dataframe thead th {\n",
       "        text-align: right;\n",
       "    }\n",
       "</style>\n",
       "<table border=\"1\" class=\"dataframe\">\n",
       "  <thead>\n",
       "    <tr style=\"text-align: right;\">\n",
       "      <th></th>\n",
       "      <th>neighbourhood</th>\n",
       "    </tr>\n",
       "  </thead>\n",
       "  <tbody>\n",
       "    <tr>\n",
       "      <th>count</th>\n",
       "      <td>33</td>\n",
       "    </tr>\n",
       "    <tr>\n",
       "      <th>unique</th>\n",
       "      <td>33</td>\n",
       "    </tr>\n",
       "    <tr>\n",
       "      <th>top</th>\n",
       "      <td>Croydon</td>\n",
       "    </tr>\n",
       "    <tr>\n",
       "      <th>freq</th>\n",
       "      <td>1</td>\n",
       "    </tr>\n",
       "  </tbody>\n",
       "</table>\n",
       "</div>"
      ],
      "text/plain": [
       "       neighbourhood\n",
       "count             33\n",
       "unique            33\n",
       "top          Croydon\n",
       "freq               1"
      ]
     },
     "execution_count": 50,
     "metadata": {},
     "output_type": "execute_result"
    }
   ],
   "source": [
    "neighbourhoods_df.describe(include='object')"
   ]
  },
  {
   "cell_type": "markdown",
   "metadata": {},
   "source": [
    "**城市街区的GeoJSON文件**"
   ]
  },
  {
   "cell_type": "markdown",
   "metadata": {},
   "source": [
    "数据样本"
   ]
  },
  {
   "cell_type": "code",
   "execution_count": 51,
   "metadata": {},
   "outputs": [
    {
     "data": {
      "text/html": [
       "<div>\n",
       "<style scoped>\n",
       "    .dataframe tbody tr th:only-of-type {\n",
       "        vertical-align: middle;\n",
       "    }\n",
       "\n",
       "    .dataframe tbody tr th {\n",
       "        vertical-align: top;\n",
       "    }\n",
       "\n",
       "    .dataframe thead th {\n",
       "        text-align: right;\n",
       "    }\n",
       "</style>\n",
       "<table border=\"1\" class=\"dataframe\">\n",
       "  <thead>\n",
       "    <tr style=\"text-align: right;\">\n",
       "      <th></th>\n",
       "      <th>neighbourhood</th>\n",
       "      <th>neighbourhood_group</th>\n",
       "      <th>geometry</th>\n",
       "    </tr>\n",
       "  </thead>\n",
       "  <tbody>\n",
       "    <tr>\n",
       "      <th>0</th>\n",
       "      <td>Kingston upon Thames</td>\n",
       "      <td>None</td>\n",
       "      <td>MULTIPOLYGON (((-0.33068 51.32901, -0.33059 51...</td>\n",
       "    </tr>\n",
       "  </tbody>\n",
       "</table>\n",
       "</div>"
      ],
      "text/plain": [
       "          neighbourhood neighbourhood_group  \\\n",
       "0  Kingston upon Thames                None   \n",
       "\n",
       "                                            geometry  \n",
       "0  MULTIPOLYGON (((-0.33068 51.32901, -0.33059 51...  "
      ]
     },
     "execution_count": 51,
     "metadata": {},
     "output_type": "execute_result"
    }
   ],
   "source": [
    "gdf.head(1)"
   ]
  },
  {
   "cell_type": "markdown",
   "metadata": {},
   "source": [
    "有方差的特征"
   ]
  },
  {
   "cell_type": "code",
   "execution_count": 52,
   "metadata": {},
   "outputs": [
    {
     "name": "stdout",
     "output_type": "stream",
     "text": [
      "(33, 3)\n"
     ]
    },
    {
     "data": {
      "text/plain": [
       "neighbourhood_group    33\n",
       "dtype: int64"
      ]
     },
     "execution_count": 52,
     "metadata": {},
     "output_type": "execute_result"
    }
   ],
   "source": [
    "print(gdf.shape)\n",
    "gdf.loc[:, gdf.isnull().sum() > 0].isnull().sum().sort_values(ascending=False)"
   ]
  },
  {
   "cell_type": "markdown",
   "metadata": {},
   "source": [
    "字符特征的汇总信息"
   ]
  },
  {
   "cell_type": "code",
   "execution_count": 53,
   "metadata": {},
   "outputs": [
    {
     "data": {
      "text/html": [
       "<div>\n",
       "<style scoped>\n",
       "    .dataframe tbody tr th:only-of-type {\n",
       "        vertical-align: middle;\n",
       "    }\n",
       "\n",
       "    .dataframe tbody tr th {\n",
       "        vertical-align: top;\n",
       "    }\n",
       "\n",
       "    .dataframe thead th {\n",
       "        text-align: right;\n",
       "    }\n",
       "</style>\n",
       "<table border=\"1\" class=\"dataframe\">\n",
       "  <thead>\n",
       "    <tr style=\"text-align: right;\">\n",
       "      <th></th>\n",
       "      <th>neighbourhood</th>\n",
       "      <th>neighbourhood_group</th>\n",
       "    </tr>\n",
       "  </thead>\n",
       "  <tbody>\n",
       "    <tr>\n",
       "      <th>count</th>\n",
       "      <td>33</td>\n",
       "      <td>0.0</td>\n",
       "    </tr>\n",
       "    <tr>\n",
       "      <th>unique</th>\n",
       "      <td>33</td>\n",
       "      <td>0.0</td>\n",
       "    </tr>\n",
       "    <tr>\n",
       "      <th>top</th>\n",
       "      <td>Croydon</td>\n",
       "      <td>NaN</td>\n",
       "    </tr>\n",
       "    <tr>\n",
       "      <th>freq</th>\n",
       "      <td>1</td>\n",
       "      <td>NaN</td>\n",
       "    </tr>\n",
       "  </tbody>\n",
       "</table>\n",
       "</div>"
      ],
      "text/plain": [
       "       neighbourhood  neighbourhood_group\n",
       "count             33                  0.0\n",
       "unique            33                  0.0\n",
       "top          Croydon                  NaN\n",
       "freq               1                  NaN"
      ]
     },
     "execution_count": 53,
     "metadata": {},
     "output_type": "execute_result"
    }
   ],
   "source": [
    "gdf.describe(include='object')"
   ]
  },
  {
   "cell_type": "markdown",
   "metadata": {},
   "source": [
    "**数据探索结果报告** \n",
    "\n",
    "Listings data\n",
    "- 包含2008-09-03 00:00:00至2019-11-04 00:00:00期间注册的房源数据。\n",
    "- 特征\n",
    "   - 有很多高倾斜度的数字特征\n",
    "   - 有很多文字特征，有不同的描述\n",
    "   - 数据有3个非 gb 国家代码的列表(2-France，1-Spain)和奇怪的位置(根据它们的信息页)\n",
    "- 缺失值\n",
    "   - 有一些特征的值全部为空\n",
    "   - 有一些特征是与同一实体相关的，具有相同的缺失值数量\n",
    "      - 有超过 25% 的记录的评论分数为空\n",
    "   - 很多特征都有缺失值 \n",
    "   \n",
    "Calendar data \n",
    "- 包含2019-11-05 00:00:00至2020-11-04 00:00:00的可用性和价格数据\n",
    "- 特征\n",
    "   - 这些数据与 Inside Airbnb 项目的数据描述不一致(http://insideairbnb.com/about.html)\n",
    "- 缺失值\n",
    "   - 价格和租期信息的缺失值很少\n",
    "\n",
    "Reviews data\n",
    "- 包含从2009-12-21 00:00:00到2019-11-06 00:00:00创建的评论数据\n",
    "- 特征\n",
    "   - 数据仅与评论者及其对特定房源的评论有关\n",
    "- 缺失值\n",
    "   - 仅有评论特征有一些缺失值\n",
    "\n",
    "Geo data\n",
    "- 包含伦敦所有33个居民区的地理信息及其名称\n",
    "\n",
    "以下信息可用于进一步分析： \n",
    "- 多种类型的客人评价分数\n",
    "- Neighbourhood 属性\n",
    "- Host 属性\n",
    "- Listing 属性\n",
    "\n",
    "为了进一步分析和回答问题，我们将只使用以下数据集：\n",
    "- Detailed listings data for London\n",
    "- GeoJSON file of neighbourhoods of the city"
   ]
  },
  {
   "cell_type": "markdown",
   "metadata": {},
   "source": [
    "## 数据准备"
   ]
  },
  {
   "cell_type": "markdown",
   "metadata": {},
   "source": [
    "### 选择数据"
   ]
  },
  {
   "cell_type": "markdown",
   "metadata": {},
   "source": [
    "选择必要的列和行进行进一步分析"
   ]
  },
  {
   "cell_type": "code",
   "execution_count": 54,
   "metadata": {},
   "outputs": [
    {
     "data": {
      "text/html": [
       "<div>\n",
       "<style scoped>\n",
       "    .dataframe tbody tr th:only-of-type {\n",
       "        vertical-align: middle;\n",
       "    }\n",
       "\n",
       "    .dataframe tbody tr th {\n",
       "        vertical-align: top;\n",
       "    }\n",
       "\n",
       "    .dataframe thead th {\n",
       "        text-align: right;\n",
       "    }\n",
       "</style>\n",
       "<table border=\"1\" class=\"dataframe\">\n",
       "  <thead>\n",
       "    <tr style=\"text-align: right;\">\n",
       "      <th></th>\n",
       "      <th>id</th>\n",
       "      <th>instant_bookable</th>\n",
       "      <th>neighbourhood</th>\n",
       "      <th>room_type</th>\n",
       "      <th>review_scores_accuracy</th>\n",
       "      <th>review_scores_cleanliness</th>\n",
       "      <th>review_scores_checkin</th>\n",
       "      <th>review_scores_communication</th>\n",
       "      <th>review_scores_location</th>\n",
       "      <th>review_scores_value</th>\n",
       "      <th>host_since</th>\n",
       "      <th>host_response_time</th>\n",
       "      <th>host_is_superhost</th>\n",
       "      <th>host_has_profile_pic</th>\n",
       "      <th>host_identity_verified</th>\n",
       "    </tr>\n",
       "  </thead>\n",
       "  <tbody>\n",
       "    <tr>\n",
       "      <th>0</th>\n",
       "      <td>11551</td>\n",
       "      <td>t</td>\n",
       "      <td>Lambeth</td>\n",
       "      <td>Entire home/apt</td>\n",
       "      <td>9.0</td>\n",
       "      <td>9.0</td>\n",
       "      <td>10.0</td>\n",
       "      <td>10.0</td>\n",
       "      <td>9.0</td>\n",
       "      <td>9.0</td>\n",
       "      <td>2009-10-03</td>\n",
       "      <td>within an hour</td>\n",
       "      <td>t</td>\n",
       "      <td>t</td>\n",
       "      <td>t</td>\n",
       "    </tr>\n",
       "    <tr>\n",
       "      <th>2</th>\n",
       "      <td>13913</td>\n",
       "      <td>f</td>\n",
       "      <td>Islington</td>\n",
       "      <td>Private room</td>\n",
       "      <td>10.0</td>\n",
       "      <td>10.0</td>\n",
       "      <td>10.0</td>\n",
       "      <td>10.0</td>\n",
       "      <td>9.0</td>\n",
       "      <td>9.0</td>\n",
       "      <td>2009-11-16</td>\n",
       "      <td>within a few hours</td>\n",
       "      <td>f</td>\n",
       "      <td>t</td>\n",
       "      <td>f</td>\n",
       "    </tr>\n",
       "    <tr>\n",
       "      <th>3</th>\n",
       "      <td>38407</td>\n",
       "      <td>t</td>\n",
       "      <td>Tower Hamlets</td>\n",
       "      <td>Entire home/apt</td>\n",
       "      <td>9.0</td>\n",
       "      <td>10.0</td>\n",
       "      <td>10.0</td>\n",
       "      <td>10.0</td>\n",
       "      <td>9.0</td>\n",
       "      <td>9.0</td>\n",
       "      <td>2010-07-12</td>\n",
       "      <td>a few days or more</td>\n",
       "      <td>f</td>\n",
       "      <td>t</td>\n",
       "      <td>f</td>\n",
       "    </tr>\n",
       "    <tr>\n",
       "      <th>4</th>\n",
       "      <td>90700</td>\n",
       "      <td>t</td>\n",
       "      <td>Kensington and Chelsea</td>\n",
       "      <td>Entire home/apt</td>\n",
       "      <td>9.0</td>\n",
       "      <td>9.0</td>\n",
       "      <td>10.0</td>\n",
       "      <td>10.0</td>\n",
       "      <td>10.0</td>\n",
       "      <td>9.0</td>\n",
       "      <td>2011-04-07</td>\n",
       "      <td>within a day</td>\n",
       "      <td>f</td>\n",
       "      <td>t</td>\n",
       "      <td>f</td>\n",
       "    </tr>\n",
       "    <tr>\n",
       "      <th>5</th>\n",
       "      <td>15400</td>\n",
       "      <td>t</td>\n",
       "      <td>Kensington and Chelsea</td>\n",
       "      <td>Entire home/apt</td>\n",
       "      <td>10.0</td>\n",
       "      <td>10.0</td>\n",
       "      <td>10.0</td>\n",
       "      <td>10.0</td>\n",
       "      <td>10.0</td>\n",
       "      <td>9.0</td>\n",
       "      <td>2009-12-05</td>\n",
       "      <td>NaN</td>\n",
       "      <td>f</td>\n",
       "      <td>t</td>\n",
       "      <td>t</td>\n",
       "    </tr>\n",
       "  </tbody>\n",
       "</table>\n",
       "</div>"
      ],
      "text/plain": [
       "      id instant_bookable           neighbourhood        room_type  \\\n",
       "0  11551                t                 Lambeth  Entire home/apt   \n",
       "2  13913                f               Islington     Private room   \n",
       "3  38407                t           Tower Hamlets  Entire home/apt   \n",
       "4  90700                t  Kensington and Chelsea  Entire home/apt   \n",
       "5  15400                t  Kensington and Chelsea  Entire home/apt   \n",
       "\n",
       "   review_scores_accuracy  review_scores_cleanliness  review_scores_checkin  \\\n",
       "0                     9.0                        9.0                   10.0   \n",
       "2                    10.0                       10.0                   10.0   \n",
       "3                     9.0                       10.0                   10.0   \n",
       "4                     9.0                        9.0                   10.0   \n",
       "5                    10.0                       10.0                   10.0   \n",
       "\n",
       "   review_scores_communication  review_scores_location  review_scores_value  \\\n",
       "0                         10.0                     9.0                  9.0   \n",
       "2                         10.0                     9.0                  9.0   \n",
       "3                         10.0                     9.0                  9.0   \n",
       "4                         10.0                    10.0                  9.0   \n",
       "5                         10.0                    10.0                  9.0   \n",
       "\n",
       "  host_since  host_response_time host_is_superhost host_has_profile_pic  \\\n",
       "0 2009-10-03      within an hour                 t                    t   \n",
       "2 2009-11-16  within a few hours                 f                    t   \n",
       "3 2010-07-12  a few days or more                 f                    t   \n",
       "4 2011-04-07        within a day                 f                    t   \n",
       "5 2009-12-05                 NaN                 f                    t   \n",
       "\n",
       "  host_identity_verified  \n",
       "0                      t  \n",
       "2                      f  \n",
       "3                      f  \n",
       "4                      f  \n",
       "5                      t  "
      ]
     },
     "execution_count": 54,
     "metadata": {},
     "output_type": "execute_result"
    }
   ],
   "source": [
    "review_cols = ['review_scores_accuracy', 'review_scores_cleanliness', 'review_scores_checkin',\n",
    "               'review_scores_communication', 'review_scores_location', 'review_scores_value']\n",
    "host_cols = ['host_since', 'host_response_time',\n",
    "             'host_is_superhost', 'host_has_profile_pic', 'host_identity_verified']\n",
    "\n",
    "listing_detail_cols = ['id', 'instant_bookable', 'neighbourhood_cleansed', 'room_type'] + review_cols + host_cols \n",
    "\n",
    "\n",
    "res_listings_detail_df = listings_detail_df.query('country_code == \"GB\"')\n",
    "res_listings_detail_df = res_listings_detail_df[res_listings_detail_df['host_name'].notnull()]\n",
    "res_listings_detail_df = res_listings_detail_df[res_listings_detail_df.filter(regex='review_scores').notnull().all(axis=1)]\n",
    "res_listings_detail_df = res_listings_detail_df[listing_detail_cols].rename({'neighbourhood_cleansed': 'neighbourhood'}, axis=1)\n",
    "res_listings_detail_df.head()"
   ]
  },
  {
   "cell_type": "markdown",
   "metadata": {},
   "source": [
    "选定数据子集的汇总信息"
   ]
  },
  {
   "cell_type": "code",
   "execution_count": 55,
   "metadata": {},
   "outputs": [
    {
     "name": "stdout",
     "output_type": "stream",
     "text": [
      "<class 'pandas.core.frame.DataFrame'>\n",
      "Int64Index: 63313 entries, 0 to 85052\n",
      "Data columns (total 15 columns):\n",
      "id                             63313 non-null int64\n",
      "instant_bookable               63313 non-null object\n",
      "neighbourhood                  63313 non-null object\n",
      "room_type                      63313 non-null object\n",
      "review_scores_accuracy         63313 non-null float64\n",
      "review_scores_cleanliness      63313 non-null float64\n",
      "review_scores_checkin          63313 non-null float64\n",
      "review_scores_communication    63313 non-null float64\n",
      "review_scores_location         63313 non-null float64\n",
      "review_scores_value            63313 non-null float64\n",
      "host_since                     63313 non-null datetime64[ns]\n",
      "host_response_time             47964 non-null object\n",
      "host_is_superhost              63313 non-null object\n",
      "host_has_profile_pic           63313 non-null object\n",
      "host_identity_verified         63313 non-null object\n",
      "dtypes: datetime64[ns](1), float64(6), int64(1), object(7)\n",
      "memory usage: 7.7+ MB\n"
     ]
    }
   ],
   "source": [
    "res_listings_detail_df.info()"
   ]
  },
  {
   "cell_type": "markdown",
   "metadata": {},
   "source": [
    "**城市街区的GeoJSON文件**"
   ]
  },
  {
   "cell_type": "markdown",
   "metadata": {},
   "source": [
    "选择非空的地理数据进行进一步分析"
   ]
  },
  {
   "cell_type": "code",
   "execution_count": 56,
   "metadata": {},
   "outputs": [
    {
     "data": {
      "text/html": [
       "<div>\n",
       "<style scoped>\n",
       "    .dataframe tbody tr th:only-of-type {\n",
       "        vertical-align: middle;\n",
       "    }\n",
       "\n",
       "    .dataframe tbody tr th {\n",
       "        vertical-align: top;\n",
       "    }\n",
       "\n",
       "    .dataframe thead th {\n",
       "        text-align: right;\n",
       "    }\n",
       "</style>\n",
       "<table border=\"1\" class=\"dataframe\">\n",
       "  <thead>\n",
       "    <tr style=\"text-align: right;\">\n",
       "      <th></th>\n",
       "      <th>neighbourhood</th>\n",
       "      <th>geometry</th>\n",
       "    </tr>\n",
       "  </thead>\n",
       "  <tbody>\n",
       "    <tr>\n",
       "      <th>0</th>\n",
       "      <td>Kingston upon Thames</td>\n",
       "      <td>MULTIPOLYGON (((-0.33068 51.32901, -0.33059 51...</td>\n",
       "    </tr>\n",
       "    <tr>\n",
       "      <th>1</th>\n",
       "      <td>Croydon</td>\n",
       "      <td>MULTIPOLYGON (((-0.06402 51.31864, -0.06407 51...</td>\n",
       "    </tr>\n",
       "    <tr>\n",
       "      <th>2</th>\n",
       "      <td>Bromley</td>\n",
       "      <td>MULTIPOLYGON (((0.01213 51.29960, 0.01196 51.2...</td>\n",
       "    </tr>\n",
       "    <tr>\n",
       "      <th>3</th>\n",
       "      <td>Hounslow</td>\n",
       "      <td>MULTIPOLYGON (((-0.24456 51.48870, -0.24468 51...</td>\n",
       "    </tr>\n",
       "    <tr>\n",
       "      <th>4</th>\n",
       "      <td>Ealing</td>\n",
       "      <td>MULTIPOLYGON (((-0.41183 51.53408, -0.41188 51...</td>\n",
       "    </tr>\n",
       "  </tbody>\n",
       "</table>\n",
       "</div>"
      ],
      "text/plain": [
       "          neighbourhood                                           geometry\n",
       "0  Kingston upon Thames  MULTIPOLYGON (((-0.33068 51.32901, -0.33059 51...\n",
       "1               Croydon  MULTIPOLYGON (((-0.06402 51.31864, -0.06407 51...\n",
       "2               Bromley  MULTIPOLYGON (((0.01213 51.29960, 0.01196 51.2...\n",
       "3              Hounslow  MULTIPOLYGON (((-0.24456 51.48870, -0.24468 51...\n",
       "4                Ealing  MULTIPOLYGON (((-0.41183 51.53408, -0.41188 51..."
      ]
     },
     "execution_count": 56,
     "metadata": {},
     "output_type": "execute_result"
    }
   ],
   "source": [
    "geo_cols = ['neighbourhood', 'geometry']\n",
    "res_gdf = gdf.loc[:, geo_cols]\n",
    "res_gdf.head()"
   ]
  },
  {
   "cell_type": "markdown",
   "metadata": {},
   "source": [
    "**列入/排除的理由**\n",
    "\n",
    "Guest review scores\n",
    "- 列入的理由\n",
    "   - 分析的主要特征\n",
    "\n",
    "- 特征\n",
    "   - review_scores_accuracy \n",
    "      - 房源页对空间的表现有多准确？\n",
    "   - review_scores_cleanliness\n",
    "       - 客人是否觉得房间干净整洁？\n",
    "   - review_scores_checkin\n",
    "       - 办理手续的顺利程度如何？\n",
    "   - review_scores_communication\n",
    "       - 入住前和入住期间的沟通情况如何？\n",
    "   - review_scores_location\n",
    "       - 客人对小区的感觉如何？\n",
    "   - review_scores_value\n",
    "       - 客人是否觉得该房源提供的价格物有所值？\n",
    "       \n",
    "Neighbourhood properties\n",
    "- 列入的理由 \n",
    "    - 计算和比较不同街区价值的必要信息\n",
    "- 特征\n",
    "    - neighbourhood\n",
    "        - Neighbourhood name\n",
    "        \n",
    "Host properties\n",
    "- 列入的理由\n",
    "    - 我们可以假设房东的属性（与状态、安全、响应度等相关）与客人的评论分数有关系。\n",
    "- 特征\n",
    "    - host_since\n",
    "        - 房主的登记日期\n",
    "    - host_response_time\n",
    "        - 房主的平均反应时间\n",
    "    - host_is_superhost\n",
    "        - 房主是否为超级房主\n",
    "    - host_has_profile_pic\n",
    "        - 房主是否有照片在个人资料中\n",
    "    - host_identity_verified\n",
    "        - 房主的身份是否已经核实\n",
    "        \n",
    "Listing properties\n",
    "- 列入的理由\n",
    "    - 不同的客人可以在不同的房型中舒适地生活或办理预订手续。\n",
    "- 特征\n",
    "    - listing_id \n",
    "        - 列出唯一的标识符\n",
    "    - room_type\n",
    "        - 房屋类型\n",
    "    - instant_bookable\n",
    "        - 预订时是否需要主人的额外批准 \n",
    "\n",
    "- 删除了3个带有非英国国家代码的清单\n",
    "- 12个与房主相关的缺失最多的特征被删除\n",
    "- 所有清单的评论分数为空的都会被删除\n",
    "\n",
    "Geo data\n",
    "- 列入的理由\n",
    "    - 绘制和合并地理数据到列表数据所需的必要信息。\n",
    "- 特征\n",
    "    - neigbourhood\n",
    "        - Neighbourhood name\n",
    "    - geometry\n",
    "        - 邻近地区的地理数据（多边形）\n",
    "        \n"
   ]
  },
  {
   "cell_type": "markdown",
   "metadata": {},
   "source": [
    "### 数据清洗"
   ]
  },
  {
   "cell_type": "markdown",
   "metadata": {},
   "source": [
    "伦敦房源的汇总信息和指标"
   ]
  },
  {
   "cell_type": "markdown",
   "metadata": {},
   "source": [
    "不清洗"
   ]
  },
  {
   "cell_type": "markdown",
   "metadata": {},
   "source": [
    "**伦敦的详细房源数据**"
   ]
  },
  {
   "cell_type": "markdown",
   "metadata": {},
   "source": [
    "将列转换为所需类型，清理数据，并计算非聚合特征"
   ]
  },
  {
   "cell_type": "code",
   "execution_count": 57,
   "metadata": {},
   "outputs": [],
   "source": [
    "binary_cols = ['instant_bookable', 'host_is_superhost', 'host_has_profile_pic', 'host_identity_verified']\n",
    "binary_map = {'f': False, 't': True}\n",
    "res_listings_detail_df[binary_cols] = res_listings_detail_df[binary_cols].apply(lambda x: x.map(binary_map)).astype(bool)\n",
    "\n",
    "cat_type = pd.api.types.CategoricalDtype(['not specified', 'within an hour', 'within a few hours', 'within a day', 'a few days or more'])\n",
    "res_listings_detail_df['host_response_time'] = res_listings_detail_df['host_response_time'].fillna('not specified').astype(cat_type)"
   ]
  },
  {
   "cell_type": "markdown",
   "metadata": {},
   "source": [
    "清洗后的汇总信息"
   ]
  },
  {
   "cell_type": "code",
   "execution_count": 58,
   "metadata": {},
   "outputs": [
    {
     "name": "stdout",
     "output_type": "stream",
     "text": [
      "<class 'pandas.core.frame.DataFrame'>\n",
      "Int64Index: 63313 entries, 0 to 85052\n",
      "Data columns (total 15 columns):\n",
      "id                             63313 non-null int64\n",
      "instant_bookable               63313 non-null bool\n",
      "neighbourhood                  63313 non-null object\n",
      "room_type                      63313 non-null object\n",
      "review_scores_accuracy         63313 non-null float64\n",
      "review_scores_cleanliness      63313 non-null float64\n",
      "review_scores_checkin          63313 non-null float64\n",
      "review_scores_communication    63313 non-null float64\n",
      "review_scores_location         63313 non-null float64\n",
      "review_scores_value            63313 non-null float64\n",
      "host_since                     63313 non-null datetime64[ns]\n",
      "host_response_time             63313 non-null category\n",
      "host_is_superhost              63313 non-null bool\n",
      "host_has_profile_pic           63313 non-null bool\n",
      "host_identity_verified         63313 non-null bool\n",
      "dtypes: bool(4), category(1), datetime64[ns](1), float64(6), int64(1), object(2)\n",
      "memory usage: 5.6+ MB\n"
     ]
    }
   ],
   "source": [
    "res_listings_detail_df.info()"
   ]
  },
  {
   "cell_type": "markdown",
   "metadata": {},
   "source": [
    "**数据清洗报告**  \n",
    "\n",
    "伦敦房源的汇总信息和指标\n",
    "- 不清洗\n",
    "\n",
    "伦敦的详细房源数据\n",
    "- Binary columns \n",
    "    - instant_bookable, host_is_superhost, host_has_profile_pic, host_identity_verified\n",
    "    - 将二进制列转换为bool类型\n",
    "- host_response_rate\n",
    "    - 清洗\n",
    "        - 移除 \"%\" 标志\n",
    "        - 转换为float类型\n",
    "- host_response_time\n",
    "     - 转换为有序分类类型\n",
    "     - 所有的空值都用唯一值（\"not specified\"）填充\n",
    "        - 假设缺乏信息对分析客人的评论关系是有用的 "
   ]
  },
  {
   "cell_type": "markdown",
   "metadata": {},
   "source": [
    "### 构建数据 "
   ]
  },
  {
   "cell_type": "markdown",
   "metadata": {},
   "source": [
    "根据地理数据计算非聚合特征。"
   ]
  },
  {
   "cell_type": "code",
   "execution_count": 59,
   "metadata": {},
   "outputs": [
    {
     "name": "stderr",
     "output_type": "stream",
     "text": [
      "F:\\Python\\Anaconda\\lib\\site-packages\\pyproj\\crs\\crs.py:53: FutureWarning: '+init=<authority>:<code>' syntax is deprecated. '<authority>:<code>' is the preferred initialization method. When making the change, be mindful of axis order changes: https://pyproj4.github.io/pyproj/stable/gotchas.html#axis-order-changes-in-proj-6\n",
      "  return _prepare_from_string(\" \".join(pjargs))\n"
     ]
    }
   ],
   "source": [
    "res_gdf['area_sq_km'] = (res_gdf['geometry'].to_crs({'init': 'epsg:3395'})\n",
    "                                    .map(lambda p: p.area / 10**6))\n",
    "\n",
    "res_listings_detail_df['age'] = (pd.Timestamp('now') - pd.to_datetime(res_listings_detail_df['host_since'])).dt.days.div(365.25).round(2)"
   ]
  },
  {
   "cell_type": "markdown",
   "metadata": {},
   "source": [
    "**衍生属性**\n",
    "\n",
    "- area_sq_km（面积_平方公里）\n",
    "   - 居民区面积（平方公里）\n",
    "- 年龄\n",
    "   - 房东在Airbnb网站上注册多久了？"
   ]
  },
  {
   "cell_type": "markdown",
   "metadata": {},
   "source": [
    "### 整合数据 "
   ]
  },
  {
   "cell_type": "markdown",
   "metadata": {},
   "source": [
    "合并数据并计算聚合特征"
   ]
  },
  {
   "cell_type": "code",
   "execution_count": 60,
   "metadata": {},
   "outputs": [],
   "source": [
    "geo_listings_df = res_gdf.merge(res_listings_detail_df, how='inner', on='neighbourhood')\n",
    "\n",
    "geo_listings_df['listings_count'] = geo_listings_df.groupby('neighbourhood')['id'].transform('count')\n",
    "geo_listings_df['listings_density'] = geo_listings_df.groupby('neighbourhood')['area_sq_km'].transform(lambda x: len(x) / x)\n",
    "\n",
    "geo_listings_df['mean_review_scores_accuracy'] = geo_listings_df.groupby('neighbourhood')['review_scores_accuracy'].transform('mean')\n",
    "geo_listings_df['mean_review_scores_cleanliness'] = geo_listings_df.groupby('neighbourhood')['review_scores_cleanliness'].transform('mean')\n",
    "geo_listings_df['mean_review_scores_checkin'] = geo_listings_df.groupby('neighbourhood')['review_scores_checkin'].transform('mean')\n",
    "geo_listings_df['mean_review_scores_communication'] = geo_listings_df.groupby('neighbourhood')['review_scores_communication'].transform('mean')\n",
    "geo_listings_df['mean_review_scores_location'] = geo_listings_df.groupby('neighbourhood')['review_scores_location'].transform('mean')\n",
    "geo_listings_df['mean_review_scores_value'] = geo_listings_df.groupby('neighbourhood')['review_scores_value'].transform('mean')\n",
    "\n",
    "geo_listings_df['mean_review_scores_all'] = geo_listings_df.filter(like='mean_review_scores').mean(axis=1)"
   ]
  },
  {
   "cell_type": "markdown",
   "metadata": {},
   "source": [
    "数据整合后的汇总信息"
   ]
  },
  {
   "cell_type": "code",
   "execution_count": 61,
   "metadata": {},
   "outputs": [
    {
     "name": "stdout",
     "output_type": "stream",
     "text": [
      "<class 'geopandas.geodataframe.GeoDataFrame'>\n",
      "Int64Index: 63313 entries, 0 to 63312\n",
      "Data columns (total 27 columns):\n",
      "neighbourhood                       63313 non-null object\n",
      "geometry                            63313 non-null geometry\n",
      "area_sq_km                          63313 non-null float64\n",
      "id                                  63313 non-null int64\n",
      "instant_bookable                    63313 non-null bool\n",
      "room_type                           63313 non-null object\n",
      "review_scores_accuracy              63313 non-null float64\n",
      "review_scores_cleanliness           63313 non-null float64\n",
      "review_scores_checkin               63313 non-null float64\n",
      "review_scores_communication         63313 non-null float64\n",
      "review_scores_location              63313 non-null float64\n",
      "review_scores_value                 63313 non-null float64\n",
      "host_since                          63313 non-null datetime64[ns]\n",
      "host_response_time                  63313 non-null category\n",
      "host_is_superhost                   63313 non-null bool\n",
      "host_has_profile_pic                63313 non-null bool\n",
      "host_identity_verified              63313 non-null bool\n",
      "age                                 63313 non-null float64\n",
      "listings_count                      63313 non-null int64\n",
      "listings_density                    63313 non-null float64\n",
      "mean_review_scores_accuracy         63313 non-null float64\n",
      "mean_review_scores_cleanliness      63313 non-null float64\n",
      "mean_review_scores_checkin          63313 non-null float64\n",
      "mean_review_scores_communication    63313 non-null float64\n",
      "mean_review_scores_location         63313 non-null float64\n",
      "mean_review_scores_value            63313 non-null float64\n",
      "mean_review_scores_all              63313 non-null float64\n",
      "dtypes: bool(4), category(1), datetime64[ns](1), float64(16), geometry(1), int64(2), object(2)\n",
      "memory usage: 11.4+ MB\n"
     ]
    }
   ],
   "source": [
    "geo_listings_df.info()"
   ]
  },
  {
   "cell_type": "markdown",
   "metadata": {},
   "source": [
    "**合并数据**\n",
    "- 合并\n",
    "    - 类型\n",
    "        - Inner join\n",
    "    - Merge key\n",
    "        - Neighborhood name\n",
    "- 数据集 \n",
    "    - Listings detailed info\n",
    "    - Neighbourhoods geo data\n",
    "- 汇总 (by neighborhood)\n",
    "    - listings_count\n",
    "        - 房源数量\n",
    "    - listings_density\n",
    "        - 房源密度(每平方公里)\n",
    "    - mean_review_scores_*\n",
    "        - 评论的平均分数(分总体和邻里)"
   ]
  },
  {
   "cell_type": "markdown",
   "metadata": {},
   "source": [
    "## 理解数据"
   ]
  },
  {
   "cell_type": "markdown",
   "metadata": {},
   "source": [
    "### 根据客人的评价分数，租房时选择哪个小区比较好？\n",
    "\n",
    "- 根据特定类型的评论分数，不同的社区可能比其他社区更具吸引力\n",
    "- 这些信息可能会被用来作为指标，说明某个街区是被低估了还是被高估了"
   ]
  },
  {
   "cell_type": "code",
   "execution_count": 62,
   "metadata": {},
   "outputs": [
    {
     "data": {
      "text/html": [
       "\n",
       "<div id=\"altair-viz-8b085a27ab1c429bae3bffb60da7dd17\"></div>\n",
       "<script type=\"text/javascript\">\n",
       "  (function(spec, embedOpt){\n",
       "    let outputDiv = document.currentScript.previousElementSibling;\n",
       "    if (outputDiv.id !== \"altair-viz-8b085a27ab1c429bae3bffb60da7dd17\") {\n",
       "      outputDiv = document.getElementById(\"altair-viz-8b085a27ab1c429bae3bffb60da7dd17\");\n",
       "    }\n",
       "    const paths = {\n",
       "      \"vega\": \"https://cdn.jsdelivr.net/npm//vega@5?noext\",\n",
       "      \"vega-lib\": \"https://cdn.jsdelivr.net/npm//vega-lib?noext\",\n",
       "      \"vega-lite\": \"https://cdn.jsdelivr.net/npm//vega-lite@4.8.1?noext\",\n",
       "      \"vega-embed\": \"https://cdn.jsdelivr.net/npm//vega-embed@6?noext\",\n",
       "    };\n",
       "\n",
       "    function loadScript(lib) {\n",
       "      return new Promise(function(resolve, reject) {\n",
       "        var s = document.createElement('script');\n",
       "        s.src = paths[lib];\n",
       "        s.async = true;\n",
       "        s.onload = () => resolve(paths[lib]);\n",
       "        s.onerror = () => reject(`Error loading script: ${paths[lib]}`);\n",
       "        document.getElementsByTagName(\"head\")[0].appendChild(s);\n",
       "      });\n",
       "    }\n",
       "\n",
       "    function showError(err) {\n",
       "      outputDiv.innerHTML = `<div class=\"error\" style=\"color:red;\">${err}</div>`;\n",
       "      throw err;\n",
       "    }\n",
       "\n",
       "    function displayChart(vegaEmbed) {\n",
       "      vegaEmbed(outputDiv, spec, embedOpt)\n",
       "        .catch(err => showError(`Javascript Error: ${err.message}<br>This usually means there's a typo in your chart specification. See the javascript console for the full traceback.`));\n",
       "    }\n",
       "\n",
       "    if(typeof define === \"function\" && define.amd) {\n",
       "      requirejs.config({paths});\n",
       "      require([\"vega-embed\"], displayChart, err => showError(`Error loading script: ${err.message}`));\n",
       "    } else if (typeof vegaEmbed === \"function\") {\n",
       "      displayChart(vegaEmbed);\n",
       "    } else {\n",
       "      loadScript(\"vega\")\n",
       "        .then(() => loadScript(\"vega-lite\"))\n",
       "        .then(() => loadScript(\"vega-embed\"))\n",
       "        .catch(showError)\n",
       "        .then(() => displayChart(vegaEmbed));\n",
       "    }\n",
       "  })({\"config\": {\"view\": {\"continuousWidth\": 400, \"continuousHeight\": 300, \"strokeWidth\": 0}, \"legend\": {\"labelFontSize\": 12, \"orient\": \"top\", \"title\": null}, \"title\": {\"fontSize\": 18}}, \"vconcat\": [{\"concat\": [{\"mark\": \"geoshape\", \"encoding\": {\"color\": {\"type\": \"quantitative\", \"field\": \"mean_review_scores_accuracy\"}, \"tooltip\": [{\"type\": \"nominal\", \"field\": \"neighbourhood\"}, {\"type\": \"quantitative\", \"field\": \"mean_review_scores_accuracy\"}]}, \"height\": 250, \"title\": \"Accuracy\", \"width\": 250}, {\"mark\": \"geoshape\", \"encoding\": {\"color\": {\"type\": \"quantitative\", \"field\": \"mean_review_scores_cleanliness\"}, \"tooltip\": [{\"type\": \"nominal\", \"field\": \"neighbourhood\"}, {\"type\": \"quantitative\", \"field\": \"mean_review_scores_cleanliness\"}]}, \"height\": 250, \"title\": \"Cleanliness\", \"width\": 250}, {\"mark\": \"geoshape\", \"encoding\": {\"color\": {\"type\": \"quantitative\", \"field\": \"mean_review_scores_checkin\"}, \"tooltip\": [{\"type\": \"nominal\", \"field\": \"neighbourhood\"}, {\"type\": \"quantitative\", \"field\": \"mean_review_scores_checkin\"}]}, \"height\": 250, \"title\": \"Check-in\", \"width\": 250}, {\"mark\": \"geoshape\", \"encoding\": {\"color\": {\"type\": \"quantitative\", \"field\": \"mean_review_scores_communication\"}, \"tooltip\": [{\"type\": \"nominal\", \"field\": \"neighbourhood\"}, {\"type\": \"quantitative\", \"field\": \"mean_review_scores_communication\"}]}, \"height\": 250, \"title\": \"Communication\", \"width\": 250}, {\"mark\": \"geoshape\", \"encoding\": {\"color\": {\"type\": \"quantitative\", \"field\": \"mean_review_scores_location\"}, \"tooltip\": [{\"type\": \"nominal\", \"field\": \"neighbourhood\"}, {\"type\": \"quantitative\", \"field\": \"mean_review_scores_location\"}]}, \"height\": 250, \"title\": \"Location\", \"width\": 250}, {\"mark\": \"geoshape\", \"encoding\": {\"color\": {\"type\": \"quantitative\", \"field\": \"mean_review_scores_value\"}, \"tooltip\": [{\"type\": \"nominal\", \"field\": \"neighbourhood\"}, {\"type\": \"quantitative\", \"field\": \"mean_review_scores_value\"}]}, \"height\": 250, \"title\": \"Value\", \"width\": 250}], \"columns\": 3}, {\"mark\": \"geoshape\", \"encoding\": {\"color\": {\"type\": \"quantitative\", \"field\": \"mean_review_scores_all\"}, \"tooltip\": [{\"type\": \"nominal\", \"field\": \"neighbourhood\"}, {\"type\": \"quantitative\", \"field\": \"mean_review_scores_all\"}]}, \"height\": 250, \"title\": \"Overall\", \"width\": 250}], \"center\": true, \"data\": {\"url\": \"altair-data-b34b9c906b8667d7940c74876eb47302.json\", \"format\": {\"type\": \"json\"}}, \"title\": \"Average review scores by neighbourhood\", \"$schema\": \"https://vega.github.io/schema/vega-lite/v4.8.1.json\"}, {\"actions\": false, \"mode\": \"vega-lite\"});\n",
       "</script>"
      ],
      "text/plain": [
       "alt.VConcatChart(...)"
      ]
     },
     "execution_count": 62,
     "metadata": {},
     "output_type": "execute_result"
    }
   ],
   "source": [
    "review_cols = ['mean_review_scores_accuracy', 'mean_review_scores_cleanliness', 'mean_review_scores_checkin',\n",
    "               'mean_review_scores_communication', 'mean_review_scores_location', 'mean_review_scores_value']\n",
    "review_titles = ['Accuracy', 'Cleanliness', 'Check-in',\n",
    "                 'Communication', 'Location', 'Value']\n",
    "review_map = {col: title for col, title in zip(review_cols, review_titles)}\n",
    "\n",
    "result_df = geo_listings_df[['geometry', 'neighbourhood', 'mean_review_scores_all'] + review_cols].drop_duplicates()\n",
    "\n",
    "def gen_map_chart(df, review_col, review_title):\n",
    "    '''Generate choropleth map\n",
    "    \n",
    "    Generate choropleth map based on scores of specific review types\n",
    "    \n",
    "    :param df: DataFrame with necessary geo data and review scores for different neighbourhood\n",
    "    :type df: DataFrame\n",
    "    :param review_col: name of review scores type\n",
    "    :type review_col: str\n",
    "    :param review_title: title of review scores type\n",
    "    :type review_title: str\n",
    "    :return: Altair Chart for displaying \n",
    "    :rtype: Chart\n",
    "    '''\n",
    "    chart = alt.Chart(\n",
    "        df,\n",
    "        title=review_title\n",
    "    ).mark_geoshape().encode(\n",
    "        color=f'{review_col}:Q',\n",
    "        tooltip=['neighbourhood:N', f'{review_col}:Q']\n",
    "    ).properties(\n",
    "        width=250, \n",
    "        height=250\n",
    "    )\n",
    "    \n",
    "    return chart\n",
    "\n",
    "charts = []\n",
    "\n",
    "for review_col, review_title in zip(review_cols, review_titles):\n",
    "    charts.append(gen_map_chart(result_df, review_col, review_title))\n",
    "\n",
    "overall_map_chart = gen_map_chart(result_df, 'mean_review_scores_all', 'Overall')\n",
    "\n",
    "((alt.vconcat(alt.concat(*charts, columns=3), overall_map_chart, \n",
    "              title='Average review scores by neighbourhood', \n",
    "              center=True)\n",
    "     .configure_view(strokeWidth=0)\n",
    "     .configure_title(fontSize=18)\n",
    "     .configure_legend(title=None, orient='top',  labelFontSize=12)))"
   ]
  },
  {
   "cell_type": "markdown",
   "metadata": {},
   "source": [
    "**结论**\n",
    "- 按位置划分，伦敦中心的街区对客人的吸引力更大，尤其是泰晤士河北侧的街区（按**位置**划分的平均评论得分）。\n",
    "    - Kensington and Chelsea (~9.76)\n",
    "    - Westminster (~9.73)\n",
    "    - Camden (~9.73)\n",
    "- 中心区域在其他方面对客人来说就不是很好了。  \n",
    "  看来中部地区要么是价格太贵，要么就是中部的房主不像其他房主那样注重不同方面的问题。\n",
    "- 不同类型的点评之间可能会有偏差，所以有几种点评类型的平均分（如Check-in和Communication）要比其他类型（如Cleanliness）高很多\n",
    "- 一般来说，最好的地区（对应客人总体平均评论得分）位于伦敦的西南部（**总体**平均评论得分）。\n",
    "    - Kingston Upon Thames (~9.70)\n",
    "    - Richmond Upon Thames (~9.69)\n",
    "- 有一个地区是大多数评论类型和总体上最差的地区（**总体**平均评论得分）。\n",
    "    - Bexley (~9.2)"
   ]
  },
  {
   "cell_type": "markdown",
   "metadata": {},
   "source": [
    "### 不同类型的客人评价分数之间有什么关系吗？\n",
    "\n",
    "- 不同的评论类型可以与其他评论类型相关，而另一个评论可以是独立的\n",
    "- 这些信息可以用于根据另一个客人评论类型的已知值进行分数预测"
   ]
  },
  {
   "cell_type": "code",
   "execution_count": 63,
   "metadata": {},
   "outputs": [
    {
     "data": {
      "text/html": [
       "\n",
       "<div id=\"altair-viz-beb313e7e0a941d0854f8c49e72fc613\"></div>\n",
       "<script type=\"text/javascript\">\n",
       "  (function(spec, embedOpt){\n",
       "    let outputDiv = document.currentScript.previousElementSibling;\n",
       "    if (outputDiv.id !== \"altair-viz-beb313e7e0a941d0854f8c49e72fc613\") {\n",
       "      outputDiv = document.getElementById(\"altair-viz-beb313e7e0a941d0854f8c49e72fc613\");\n",
       "    }\n",
       "    const paths = {\n",
       "      \"vega\": \"https://cdn.jsdelivr.net/npm//vega@5?noext\",\n",
       "      \"vega-lib\": \"https://cdn.jsdelivr.net/npm//vega-lib?noext\",\n",
       "      \"vega-lite\": \"https://cdn.jsdelivr.net/npm//vega-lite@4.8.1?noext\",\n",
       "      \"vega-embed\": \"https://cdn.jsdelivr.net/npm//vega-embed@6?noext\",\n",
       "    };\n",
       "\n",
       "    function loadScript(lib) {\n",
       "      return new Promise(function(resolve, reject) {\n",
       "        var s = document.createElement('script');\n",
       "        s.src = paths[lib];\n",
       "        s.async = true;\n",
       "        s.onload = () => resolve(paths[lib]);\n",
       "        s.onerror = () => reject(`Error loading script: ${paths[lib]}`);\n",
       "        document.getElementsByTagName(\"head\")[0].appendChild(s);\n",
       "      });\n",
       "    }\n",
       "\n",
       "    function showError(err) {\n",
       "      outputDiv.innerHTML = `<div class=\"error\" style=\"color:red;\">${err}</div>`;\n",
       "      throw err;\n",
       "    }\n",
       "\n",
       "    function displayChart(vegaEmbed) {\n",
       "      vegaEmbed(outputDiv, spec, embedOpt)\n",
       "        .catch(err => showError(`Javascript Error: ${err.message}<br>This usually means there's a typo in your chart specification. See the javascript console for the full traceback.`));\n",
       "    }\n",
       "\n",
       "    if(typeof define === \"function\" && define.amd) {\n",
       "      requirejs.config({paths});\n",
       "      require([\"vega-embed\"], displayChart, err => showError(`Error loading script: ${err.message}`));\n",
       "    } else if (typeof vegaEmbed === \"function\") {\n",
       "      displayChart(vegaEmbed);\n",
       "    } else {\n",
       "      loadScript(\"vega\")\n",
       "        .then(() => loadScript(\"vega-lite\"))\n",
       "        .then(() => loadScript(\"vega-embed\"))\n",
       "        .catch(showError)\n",
       "        .then(() => displayChart(vegaEmbed));\n",
       "    }\n",
       "  })({\"config\": {\"view\": {\"continuousWidth\": 400, \"continuousHeight\": 300}, \"axis\": {\"labelAngle\": 0, \"labelFontSize\": 14}, \"legend\": {\"orient\": \"top\", \"titleFontSize\": 14}, \"title\": {\"anchor\": \"start\", \"fontSize\": 18, \"frame\": \"group\", \"offset\": 15}}, \"layer\": [{\"mark\": \"rect\", \"encoding\": {\"color\": {\"type\": \"quantitative\", \"field\": \"correlation\"}, \"x\": {\"type\": \"nominal\", \"field\": \"index\", \"title\": null}, \"y\": {\"type\": \"nominal\", \"field\": \"variable\", \"title\": null}}, \"height\": 600, \"title\": \"Average Review Scores Relationship\", \"width\": 600}, {\"mark\": {\"type\": \"text\", \"baseline\": \"middle\"}, \"encoding\": {\"color\": {\"condition\": {\"value\": \"black\", \"test\": \"(datum.correlation < 0)\"}, \"value\": \"white\"}, \"text\": {\"type\": \"quantitative\", \"field\": \"correlation\", \"format\": \".2f\"}, \"x\": {\"type\": \"nominal\", \"field\": \"index\", \"title\": null}, \"y\": {\"type\": \"nominal\", \"field\": \"variable\", \"title\": null}}, \"height\": 600, \"title\": \"Average Review Scores Relationship\", \"width\": 600}], \"data\": {\"url\": \"altair-data-57292ebec8ebf52154a07c3a6bc3b0dd.json\", \"format\": {\"type\": \"json\"}}, \"$schema\": \"https://vega.github.io/schema/vega-lite/v4.8.1.json\"}, {\"actions\": false, \"mode\": \"vega-lite\"});\n",
       "</script>"
      ],
      "text/plain": [
       "alt.LayerChart(...)"
      ]
     },
     "execution_count": 63,
     "metadata": {},
     "output_type": "execute_result"
    }
   ],
   "source": [
    "result_df = (geo_listings_df[review_cols].rename(review_map, axis=1)\n",
    "                                         .corr()\n",
    "                                         .reset_index()\n",
    "                                         .melt(id_vars='index')\n",
    "                                         .rename({'value': 'correlation'}, axis=1))\n",
    "\n",
    "base = alt.Chart(\n",
    "    result_df,\n",
    "    title='Average Review Scores Relationship'\n",
    ").properties(\n",
    "    width=600, \n",
    "    height=600\n",
    ")\n",
    "\n",
    "heatmap = base.mark_rect().encode(\n",
    "    x=alt.X('index:N', title=None),\n",
    "    y=alt.Y('variable:N', title=None),\n",
    "    color='correlation:Q'\n",
    ")\n",
    "\n",
    "text = base.mark_text(baseline='middle').encode(\n",
    "    x=alt.X('index:N', title=None),\n",
    "    y=alt.Y('variable:N', title=None),\n",
    "    text=alt.Text('correlation:Q', format='.2f'),\n",
    "    color=alt.condition(\n",
    "        alt.datum.correlation < 0,\n",
    "        alt.value('black'),\n",
    "        alt.value('white')\n",
    "    )\n",
    ")\n",
    "\n",
    "(heatmap + text).configure_axis(\n",
    "    labelAngle=0,\n",
    "    labelFontSize=14\n",
    ").configure_legend(\n",
    "    orient='top',\n",
    "    titleFontSize=14,    \n",
    ").configure_title(\n",
    "    fontSize=18,\n",
    "    offset=15,\n",
    "    anchor='start',\n",
    "    frame='group'\n",
    ")"
   ]
  },
  {
   "cell_type": "markdown",
   "metadata": {},
   "source": [
    "**结论**\n",
    "- 除了位置评论得分外，各个评论得分之间有很强的正向关系。\n",
    "    - 如果客人在准确度、入住、清洁度、沟通或价值方面给出了高分，那么其他4项评价得分也很有可能是高分。\n",
    "- 位置点评得分与其他得分之间存在负相关关系。\n",
    "    - 如果客人给房源的位置打高分，那么房源的其他方面就很可能没有那么大的吸引力。\n",
    "- 看来，清洁度评测得分与其他评测得分的独立性最强。"
   ]
  },
  {
   "cell_type": "markdown",
   "metadata": {},
   "source": [
    "### 房东/房源属性与客人评价分数的关系如何？\n",
    "\n",
    "- 房源及其业主（房东）的不同方面都会对客人的评论分数产生影响\n",
    "- 这些信息可用于确定可能的房主和房源特征，以便改进"
   ]
  },
  {
   "cell_type": "code",
   "execution_count": 64,
   "metadata": {},
   "outputs": [
    {
     "data": {
      "text/html": [
       "\n",
       "<div id=\"altair-viz-9da663b9021241769b5d5c825dbfb2d0\"></div>\n",
       "<script type=\"text/javascript\">\n",
       "  (function(spec, embedOpt){\n",
       "    let outputDiv = document.currentScript.previousElementSibling;\n",
       "    if (outputDiv.id !== \"altair-viz-9da663b9021241769b5d5c825dbfb2d0\") {\n",
       "      outputDiv = document.getElementById(\"altair-viz-9da663b9021241769b5d5c825dbfb2d0\");\n",
       "    }\n",
       "    const paths = {\n",
       "      \"vega\": \"https://cdn.jsdelivr.net/npm//vega@5?noext\",\n",
       "      \"vega-lib\": \"https://cdn.jsdelivr.net/npm//vega-lib?noext\",\n",
       "      \"vega-lite\": \"https://cdn.jsdelivr.net/npm//vega-lite@4.8.1?noext\",\n",
       "      \"vega-embed\": \"https://cdn.jsdelivr.net/npm//vega-embed@6?noext\",\n",
       "    };\n",
       "\n",
       "    function loadScript(lib) {\n",
       "      return new Promise(function(resolve, reject) {\n",
       "        var s = document.createElement('script');\n",
       "        s.src = paths[lib];\n",
       "        s.async = true;\n",
       "        s.onload = () => resolve(paths[lib]);\n",
       "        s.onerror = () => reject(`Error loading script: ${paths[lib]}`);\n",
       "        document.getElementsByTagName(\"head\")[0].appendChild(s);\n",
       "      });\n",
       "    }\n",
       "\n",
       "    function showError(err) {\n",
       "      outputDiv.innerHTML = `<div class=\"error\" style=\"color:red;\">${err}</div>`;\n",
       "      throw err;\n",
       "    }\n",
       "\n",
       "    function displayChart(vegaEmbed) {\n",
       "      vegaEmbed(outputDiv, spec, embedOpt)\n",
       "        .catch(err => showError(`Javascript Error: ${err.message}<br>This usually means there's a typo in your chart specification. See the javascript console for the full traceback.`));\n",
       "    }\n",
       "\n",
       "    if(typeof define === \"function\" && define.amd) {\n",
       "      requirejs.config({paths});\n",
       "      require([\"vega-embed\"], displayChart, err => showError(`Error loading script: ${err.message}`));\n",
       "    } else if (typeof vegaEmbed === \"function\") {\n",
       "      displayChart(vegaEmbed);\n",
       "    } else {\n",
       "      loadScript(\"vega\")\n",
       "        .then(() => loadScript(\"vega-lite\"))\n",
       "        .then(() => loadScript(\"vega-embed\"))\n",
       "        .catch(showError)\n",
       "        .then(() => displayChart(vegaEmbed));\n",
       "    }\n",
       "  })({\"config\": {\"view\": {\"continuousWidth\": 400, \"continuousHeight\": 300, \"strokeWidth\": 0}, \"axis\": {\"grid\": false, \"labelAngle\": 0, \"labelFontSize\": 14}, \"legend\": {\"columns\": 0, \"labelFontSize\": 14, \"orient\": \"top\", \"title\": null}, \"title\": {\"anchor\": \"start\", \"fontSize\": 18, \"offset\": 15}}, \"concat\": [{\"data\": {\"url\": \"altair-data-40b33ef8a3084961ede0669b4344cf3b.json\", \"format\": {\"type\": \"json\"}}, \"mark\": \"line\", \"encoding\": {\"color\": {\"type\": \"nominal\", \"field\": \"room_type\"}, \"x\": {\"type\": \"nominal\", \"field\": \"variable\", \"title\": null}, \"y\": {\"type\": \"quantitative\", \"axis\": null, \"field\": \"value\", \"scale\": {\"zero\": false}}}, \"height\": 300, \"title\": \"Room Type\", \"width\": 750}, {\"data\": {\"url\": \"altair-data-aba4135c554c9b840f2b7c7df3911ba7.json\", \"format\": {\"type\": \"json\"}}, \"mark\": \"line\", \"encoding\": {\"color\": {\"type\": \"nominal\", \"field\": \"instant_bookable\"}, \"x\": {\"type\": \"nominal\", \"field\": \"variable\", \"title\": null}, \"y\": {\"type\": \"quantitative\", \"axis\": null, \"field\": \"value\", \"scale\": {\"zero\": false}}}, \"height\": 300, \"title\": \"Listing is Instant Bookable\", \"width\": 750}, {\"data\": {\"url\": \"altair-data-88dd4210c0cc4113d51e780525c62ead.json\", \"format\": {\"type\": \"json\"}}, \"mark\": \"line\", \"encoding\": {\"color\": {\"type\": \"nominal\", \"field\": \"host_is_superhost\"}, \"x\": {\"type\": \"nominal\", \"field\": \"variable\", \"title\": null}, \"y\": {\"type\": \"quantitative\", \"axis\": null, \"field\": \"value\", \"scale\": {\"zero\": false}}}, \"height\": 300, \"title\": \"Host is Superhost\", \"width\": 750}], \"columns\": 1, \"resolve\": {\"scale\": {\"color\": \"independent\"}}, \"title\": \"Average Review Scores by Host/Listing Properties\", \"$schema\": \"https://vega.github.io/schema/vega-lite/v4.8.1.json\"}, {\"actions\": false, \"mode\": \"vega-lite\"});\n",
       "</script>"
      ],
      "text/plain": [
       "alt.ConcatChart(...)"
      ]
     },
     "execution_count": 64,
     "metadata": {},
     "output_type": "execute_result"
    }
   ],
   "source": [
    "def gen_parallel_chart(df, class_col, class_title):\n",
    "    '''Generate parallel coordinates chart\n",
    "    \n",
    "    Generate parallel coordinates chart based on specific class column by different review score types\n",
    "    \n",
    "    :param df: DataFrame with necessary data for class column calculation\n",
    "    :type df: DataFrame\n",
    "    :param class_col: name of class column \n",
    "    :type class_col: str\n",
    "    :param class_title: title of review scores type\n",
    "    :type class_title: str\n",
    "    :return: Altair Chart for displaying \n",
    "    :rtype: Chart\n",
    "    '''\n",
    "    result_df = (df.groupby(class_col)[review_cols]\n",
    "                   .mean()\n",
    "                   .reset_index()\n",
    "                   .melt(id_vars=class_col))\n",
    "    result_df['variable'] = result_df['variable'].map(review_map)\n",
    "\n",
    "    chart = alt.Chart(\n",
    "        result_df,\n",
    "        title = f'{class_title}'\n",
    "    ).mark_line().encode(\n",
    "        x=alt.X('variable:N',\n",
    "                title=None),\n",
    "        y=alt.Y('value:Q',\n",
    "                scale=alt.Scale(zero=False),\n",
    "                axis=None),\n",
    "        color=f'{class_col}:N'\n",
    "    ).properties(\n",
    "        width=750, \n",
    "        height=300\n",
    "    )\n",
    "    \n",
    "    return chart\n",
    "\n",
    "class_cols = ['room_type', 'instant_bookable', 'host_is_superhost']\n",
    "class_titles = ['Room Type', 'Listing is Instant Bookable', 'Host is Superhost']\n",
    "\n",
    "charts = []\n",
    "\n",
    "for class_col, class_title in zip(class_cols, class_titles):\n",
    "    charts.append(gen_parallel_chart(geo_listings_df, class_col, class_title))\n",
    "    \n",
    "(alt.concat(*charts, columns=1, title='Average Review Scores by Host/Listing Properties')\n",
    "    .configure_view(strokeWidth=0)\n",
    "    .configure_legend(\n",
    "        title=None, \n",
    "        orient='top', \n",
    "        columns=0,\n",
    "        labelFontSize=14)\n",
    "    .configure_axis(\n",
    "        labelAngle=0,\n",
    "        grid=False,\n",
    "        labelFontSize=14)\n",
    "    .configure_title(\n",
    "        anchor='start',\n",
    "        fontSize=18,\n",
    "        offset=15)\n",
    "    .resolve_scale(color='independent')\n",
    ")"
   ]
  },
  {
   "cell_type": "markdown",
   "metadata": {},
   "source": [
    "**结论**\n",
    "\n",
    "- 客人对私房和合租房的评价一直高于其他类型的房间（除了位置）\n",
    "- 对于位置点评得分，最好的房型是整栋住宅/公寓和酒店客房\n",
    "- 如果预订时不需要房东的额外批准（即时可预订房源），那么客人的评价就会一直比较好（除了位置）\n",
    "- 如果房东是超级房东，那么客人的评价就会一直比较好（除了位置）"
   ]
  },
  {
   "cell_type": "markdown",
   "metadata": {},
   "source": [
    "## 评估"
   ]
  },
  {
   "cell_type": "markdown",
   "metadata": {},
   "source": [
    "### 评估结果 "
   ]
  },
  {
   "cell_type": "markdown",
   "metadata": {},
   "source": [
    "**根据业务成功标准评估数据挖掘结果**\n",
    "\n",
    "- 不同的点评分值之间以及与不同的房东/房源/小区属性之间有密切的关系\n",
    "- 这些关系可以用来进一步分析如何提高房东的声誉和Airbnb的总体声誉"
   ]
  },
  {
   "cell_type": "markdown",
   "metadata": {},
   "source": [
    "### 回顾整个过程"
   ]
  },
  {
   "cell_type": "markdown",
   "metadata": {},
   "source": [
    "**回顾过程**\n",
    "\n",
    "- 从Airbnb网站上收集的数据被用来探讨客人的评论与房东和房源不同方面的关系。\n",
    "- 只选取所有非空评分类型的Airbnb房源子集进行分析。\n",
    "- 我们只选择了一小部分特征进行分析，假设哪些特征与客人的评论分数关系最密切。\n",
    "- 没有根据供应情况/价格对房源进行过滤。\n",
    "- 仅使用描述性统计数字进行分析"
   ]
  },
  {
   "cell_type": "markdown",
   "metadata": {},
   "source": [
    "### 确定下一步"
   ]
  },
  {
   "cell_type": "markdown",
   "metadata": {},
   "source": [
    "**可能的行动方向**\n",
    "- 寻找已经找到的关系的可能用途，以激励房东改善客人的体验。\n",
    "- 继续了解数据\n",
    "    - 使用房源数据集中的另一个特征\n",
    "        - Different host/listing properties\n",
    "    - 使用数据集中的另一个文件进行进一步的探索和分析。\n",
    "        - Reviews\n",
    "            - Review texts\n",
    "        - Calendar data\n",
    "            - Availabitily\n",
    "            - Price"
   ]
  }
 ],
 "metadata": {
  "kernelspec": {
   "display_name": "Python 3",
   "language": "python",
   "name": "python3"
  },
  "language_info": {
   "codemirror_mode": {
    "name": "ipython",
    "version": 3
   },
   "file_extension": ".py",
   "mimetype": "text/x-python",
   "name": "python",
   "nbconvert_exporter": "python",
   "pygments_lexer": "ipython3",
   "version": "3.7.3"
  },
  "toc": {
   "base_numbering": 1,
   "nav_menu": {},
   "number_sections": true,
   "sideBar": true,
   "skip_h1_title": false,
   "title_cell": "Table of Contents",
   "title_sidebar": "Contents",
   "toc_cell": false,
   "toc_position": {},
   "toc_section_display": true,
   "toc_window_display": true
  }
 },
 "nbformat": 4,
 "nbformat_minor": 1
}
