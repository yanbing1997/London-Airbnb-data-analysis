{
 "cells": [
  {
   "cell_type": "markdown",
   "metadata": {},
   "source": [
    "# 数据看板内容"
   ]
  },
  {
   "cell_type": "markdown",
   "metadata": {},
   "source": [
    "## 平台上伦敦地区的总房源数、无评论房源数、各区房源数（listings_summary）"
   ]
  },
  {
   "cell_type": "markdown",
   "metadata": {},
   "source": [
    "## 平台上的房东数、房东拥有的房源数的直方图（listings_summary）calculated_host_listings_count"
   ]
  },
  {
   "cell_type": "markdown",
   "metadata": {},
   "source": [
    "## 随着时间变化的房价均值+中值折线图(Calendar)"
   ]
  },
  {
   "cell_type": "markdown",
   "metadata": {},
   "source": [
    "## 随时间变化的房源新增率（listings_detail）"
   ]
  },
  {
   "cell_type": "markdown",
   "metadata": {},
   "source": [
    "## 平台房源的总评分直方图"
   ]
  },
  {
   "cell_type": "markdown",
   "metadata": {},
   "source": [
    "## 随时间变化的总评论数折线图（reviews_summary）"
   ]
  },
  {
   "cell_type": "markdown",
   "metadata": {},
   "source": [
    "## RFM模型的饼图（RFM）"
   ]
  },
  {
   "cell_type": "code",
   "execution_count": 54,
   "metadata": {},
   "outputs": [],
   "source": [
    "import numpy as np\n",
    "import pandas as pd"
   ]
  },
  {
   "cell_type": "markdown",
   "metadata": {},
   "source": [
    "# 数据筹备"
   ]
  },
  {
   "cell_type": "markdown",
   "metadata": {},
   "source": [
    "## listings_summary"
   ]
  },
  {
   "cell_type": "markdown",
   "metadata": {},
   "source": [
    "读取数据"
   ]
  },
  {
   "cell_type": "code",
   "execution_count": 24,
   "metadata": {},
   "outputs": [
    {
     "name": "stdout",
     "output_type": "stream",
     "text": [
      "<class 'pandas.core.frame.DataFrame'>\n",
      "RangeIndex: 85068 entries, 0 to 85067\n",
      "Data columns (total 16 columns):\n",
      "id                                85068 non-null int64\n",
      "name                              85043 non-null object\n",
      "host_id                           85068 non-null int64\n",
      "host_name                         85056 non-null object\n",
      "neighbourhood_group               0 non-null float64\n",
      "neighbourhood                     85068 non-null object\n",
      "latitude                          85068 non-null float64\n",
      "longitude                         85068 non-null float64\n",
      "room_type                         85068 non-null object\n",
      "price                             85068 non-null int64\n",
      "minimum_nights                    85068 non-null int64\n",
      "number_of_reviews                 85068 non-null int64\n",
      "last_review                       65062 non-null datetime64[ns]\n",
      "reviews_per_month                 65062 non-null float64\n",
      "calculated_host_listings_count    85068 non-null int64\n",
      "availability_365                  85068 non-null int64\n",
      "dtypes: datetime64[ns](1), float64(4), int64(7), object(4)\n",
      "memory usage: 10.4+ MB\n"
     ]
    }
   ],
   "source": [
    "listings_summary = pd.read_csv('../data/listings_summary.csv',\n",
    "                          parse_dates=['last_review'])\n",
    "\n",
    "listings_summary.info()"
   ]
  },
  {
   "cell_type": "markdown",
   "metadata": {},
   "source": [
    "选取会用到的特征"
   ]
  },
  {
   "cell_type": "code",
   "execution_count": 25,
   "metadata": {},
   "outputs": [
    {
     "name": "stdout",
     "output_type": "stream",
     "text": [
      "<class 'pandas.core.frame.DataFrame'>\n",
      "RangeIndex: 85068 entries, 0 to 85067\n",
      "Data columns (total 5 columns):\n",
      "id                                85068 non-null int64\n",
      "host_id                           85068 non-null int64\n",
      "neighbourhood                     85068 non-null object\n",
      "number_of_reviews                 85068 non-null int64\n",
      "calculated_host_listings_count    85068 non-null int64\n",
      "dtypes: int64(4), object(1)\n",
      "memory usage: 3.2+ MB\n"
     ]
    }
   ],
   "source": [
    "columns_1=['id','host_id','neighbourhood','number_of_reviews','calculated_host_listings_count']\n",
    "listings_summary=listings_summary[columns_1]\n",
    "\n",
    "listings_summary.info()"
   ]
  },
  {
   "cell_type": "markdown",
   "metadata": {},
   "source": [
    "选出非空置房源的数据，并记录相关空置房源数目"
   ]
  },
  {
   "cell_type": "code",
   "execution_count": 26,
   "metadata": {},
   "outputs": [
    {
     "name": "stdout",
     "output_type": "stream",
     "text": [
      "未开张房源有20006个\n",
      "未开张房源的占比为:0.235177\n",
      "<class 'pandas.core.frame.DataFrame'>\n",
      "RangeIndex: 65062 entries, 0 to 65061\n",
      "Data columns (total 5 columns):\n",
      "id                                65062 non-null int64\n",
      "host_id                           65062 non-null int64\n",
      "neighbourhood                     65062 non-null object\n",
      "number_of_reviews                 65062 non-null int64\n",
      "calculated_host_listings_count    65062 non-null int64\n",
      "dtypes: int64(4), object(1)\n",
      "memory usage: 2.5+ MB\n"
     ]
    }
   ],
   "source": [
    "print('未开张房源有%d个'%(listings_summary[listings_summary.number_of_reviews==0].id.count()))\n",
    "print('未开张房源的占比为:%f'%(int(listings_summary[listings_summary.number_of_reviews==0].id.count())/85068.0))\n",
    "\n",
    "listings_summary=listings_summary[listings_summary['number_of_reviews']!=0]\n",
    "listings_summary.reset_index(drop=True, inplace=True)\n",
    "\n",
    "listings_summary.info()"
   ]
  },
  {
   "cell_type": "markdown",
   "metadata": {},
   "source": [
    "## Calendar"
   ]
  },
  {
   "cell_type": "code",
   "execution_count": 55,
   "metadata": {},
   "outputs": [
    {
     "name": "stdout",
     "output_type": "stream",
     "text": [
      "<class 'pandas.core.frame.DataFrame'>\n",
      "RangeIndex: 31009989 entries, 0 to 31009988\n",
      "Data columns (total 8 columns):\n",
      "listing_id    float64\n",
      "available     object\n",
      "price         float64\n",
      "year_month    datetime64[ns]\n",
      "year          int64\n",
      "month         int64\n",
      "weekday       int64\n",
      "season        object\n",
      "dtypes: datetime64[ns](1), float64(2), int64(3), object(2)\n",
      "memory usage: 1.8+ GB\n"
     ]
    }
   ],
   "source": [
    "Calendar = pd.read_csv('../对Calendar数据的处理/处理好异常值的data.csv',\n",
    "                          parse_dates=['year_month'])\n",
    "\n",
    "Calendar.info()"
   ]
  },
  {
   "cell_type": "markdown",
   "metadata": {},
   "source": [
    "选取所需特征"
   ]
  },
  {
   "cell_type": "code",
   "execution_count": 14,
   "metadata": {},
   "outputs": [],
   "source": [
    "Calendar['listing_id']=Calendar['listing_id'].map(lambda x:-1 if str(x)=='nan' else int(x))\n",
    "columns_2=['listing_id','price','year_month']\n",
    "Calendar=Calendar[columns_2]\n",
    "\n",
    "Calendar_1=Calendar.copy()"
   ]
  },
  {
   "cell_type": "code",
   "execution_count": 15,
   "metadata": {},
   "outputs": [
    {
     "name": "stdout",
     "output_type": "stream",
     "text": [
      "<class 'pandas.core.frame.DataFrame'>\n",
      "RangeIndex: 31009989 entries, 0 to 31009988\n",
      "Data columns (total 3 columns):\n",
      "listing_id    int64\n",
      "price         float64\n",
      "year_month    datetime64[ns]\n",
      "dtypes: datetime64[ns](1), float64(1), int64(1)\n",
      "memory usage: 709.8 MB\n"
     ]
    }
   ],
   "source": [
    "Calendar_1.info()"
   ]
  },
  {
   "cell_type": "markdown",
   "metadata": {},
   "source": [
    "根据listing_id+year_month聚合得到不同时期各个房源的price"
   ]
  },
  {
   "cell_type": "code",
   "execution_count": 16,
   "metadata": {
    "scrolled": true
   },
   "outputs": [
    {
     "data": {
      "text/html": [
       "<div>\n",
       "<style scoped>\n",
       "    .dataframe tbody tr th:only-of-type {\n",
       "        vertical-align: middle;\n",
       "    }\n",
       "\n",
       "    .dataframe tbody tr th {\n",
       "        vertical-align: top;\n",
       "    }\n",
       "\n",
       "    .dataframe thead th {\n",
       "        text-align: right;\n",
       "    }\n",
       "</style>\n",
       "<table border=\"1\" class=\"dataframe\">\n",
       "  <thead>\n",
       "    <tr style=\"text-align: right;\">\n",
       "      <th></th>\n",
       "      <th>listing_id</th>\n",
       "      <th>year_month</th>\n",
       "      <th>price</th>\n",
       "    </tr>\n",
       "  </thead>\n",
       "  <tbody>\n",
       "    <tr>\n",
       "      <th>0</th>\n",
       "      <td>11551</td>\n",
       "      <td>2019-11-01</td>\n",
       "      <td>105.000000</td>\n",
       "    </tr>\n",
       "    <tr>\n",
       "      <th>1</th>\n",
       "      <td>11551</td>\n",
       "      <td>2019-12-01</td>\n",
       "      <td>111.935484</td>\n",
       "    </tr>\n",
       "    <tr>\n",
       "      <th>2</th>\n",
       "      <td>11551</td>\n",
       "      <td>2020-01-01</td>\n",
       "      <td>91.290323</td>\n",
       "    </tr>\n",
       "    <tr>\n",
       "      <th>3</th>\n",
       "      <td>11551</td>\n",
       "      <td>2020-02-01</td>\n",
       "      <td>90.000000</td>\n",
       "    </tr>\n",
       "    <tr>\n",
       "      <th>4</th>\n",
       "      <td>11551</td>\n",
       "      <td>2020-03-01</td>\n",
       "      <td>90.000000</td>\n",
       "    </tr>\n",
       "  </tbody>\n",
       "</table>\n",
       "</div>"
      ],
      "text/plain": [
       "   listing_id year_month       price\n",
       "0       11551 2019-11-01  105.000000\n",
       "1       11551 2019-12-01  111.935484\n",
       "2       11551 2020-01-01   91.290323\n",
       "3       11551 2020-02-01   90.000000\n",
       "4       11551 2020-03-01   90.000000"
      ]
     },
     "execution_count": 16,
     "metadata": {},
     "output_type": "execute_result"
    }
   ],
   "source": [
    "price_means = Calendar_1['price'].groupby([Calendar_1['listing_id'],Calendar_1['year_month']]).mean()\n",
    "\n",
    "Calendar_1 = pd.DataFrame(price_means)\n",
    "Calendar_1.reset_index(inplace=True)\n",
    "Calendar_1.head()"
   ]
  },
  {
   "cell_type": "code",
   "execution_count": 17,
   "metadata": {},
   "outputs": [],
   "source": [
    "price_median = Calendar['price'].groupby([Calendar['listing_id'],Calendar['year_month']]).median()\n",
    "tt = pd.DataFrame(price_median)\n",
    "tt.reset_index(inplace=True)\n",
    "Calendar_1['price_median']=tt['price']"
   ]
  },
  {
   "cell_type": "code",
   "execution_count": 20,
   "metadata": {},
   "outputs": [
    {
     "name": "stdout",
     "output_type": "stream",
     "text": [
      "<class 'pandas.core.frame.DataFrame'>\n",
      "RangeIndex: 1104557 entries, 0 to 1104556\n",
      "Data columns (total 4 columns):\n",
      "listing_id      1104557 non-null int64\n",
      "year_month      1104557 non-null datetime64[ns]\n",
      "price           1104557 non-null float64\n",
      "price_median    1104557 non-null float64\n",
      "dtypes: datetime64[ns](1), float64(2), int64(1)\n",
      "memory usage: 33.7 MB\n"
     ]
    }
   ],
   "source": [
    "Calendar_1.info()"
   ]
  },
  {
   "cell_type": "code",
   "execution_count": 23,
   "metadata": {},
   "outputs": [
    {
     "data": {
      "text/html": [
       "<div>\n",
       "<style scoped>\n",
       "    .dataframe tbody tr th:only-of-type {\n",
       "        vertical-align: middle;\n",
       "    }\n",
       "\n",
       "    .dataframe tbody tr th {\n",
       "        vertical-align: top;\n",
       "    }\n",
       "\n",
       "    .dataframe thead th {\n",
       "        text-align: right;\n",
       "    }\n",
       "</style>\n",
       "<table border=\"1\" class=\"dataframe\">\n",
       "  <thead>\n",
       "    <tr style=\"text-align: right;\">\n",
       "      <th></th>\n",
       "      <th>listing_id</th>\n",
       "      <th>year_month</th>\n",
       "      <th>price</th>\n",
       "      <th>price_median</th>\n",
       "    </tr>\n",
       "  </thead>\n",
       "  <tbody>\n",
       "    <tr>\n",
       "      <th>0</th>\n",
       "      <td>11551</td>\n",
       "      <td>2019-11-01</td>\n",
       "      <td>105.000000</td>\n",
       "      <td>105.0</td>\n",
       "    </tr>\n",
       "    <tr>\n",
       "      <th>1</th>\n",
       "      <td>11551</td>\n",
       "      <td>2019-12-01</td>\n",
       "      <td>111.935484</td>\n",
       "      <td>110.0</td>\n",
       "    </tr>\n",
       "    <tr>\n",
       "      <th>2</th>\n",
       "      <td>11551</td>\n",
       "      <td>2020-01-01</td>\n",
       "      <td>91.290323</td>\n",
       "      <td>90.0</td>\n",
       "    </tr>\n",
       "    <tr>\n",
       "      <th>3</th>\n",
       "      <td>11551</td>\n",
       "      <td>2020-02-01</td>\n",
       "      <td>90.000000</td>\n",
       "      <td>90.0</td>\n",
       "    </tr>\n",
       "    <tr>\n",
       "      <th>4</th>\n",
       "      <td>11551</td>\n",
       "      <td>2020-03-01</td>\n",
       "      <td>90.000000</td>\n",
       "      <td>90.0</td>\n",
       "    </tr>\n",
       "  </tbody>\n",
       "</table>\n",
       "</div>"
      ],
      "text/plain": [
       "   listing_id year_month       price  price_median\n",
       "0       11551 2019-11-01  105.000000         105.0\n",
       "1       11551 2019-12-01  111.935484         110.0\n",
       "2       11551 2020-01-01   91.290323          90.0\n",
       "3       11551 2020-02-01   90.000000          90.0\n",
       "4       11551 2020-03-01   90.000000          90.0"
      ]
     },
     "execution_count": 23,
     "metadata": {},
     "output_type": "execute_result"
    }
   ],
   "source": [
    "Calendar_1.head()"
   ]
  },
  {
   "cell_type": "markdown",
   "metadata": {},
   "source": [
    "## listings_detail"
   ]
  },
  {
   "cell_type": "code",
   "execution_count": 27,
   "metadata": {},
   "outputs": [],
   "source": [
    "listings_detail = pd.read_csv('../data/listings.csv', low_memory=False,\n",
    "                                 parse_dates=['host_since', \n",
    "                                              'last_scraped', 'calendar_last_scraped',\n",
    "                                              'first_review', 'last_review'])"
   ]
  },
  {
   "cell_type": "markdown",
   "metadata": {},
   "source": [
    "这里用房源的第一条评论时间作为房源的开张时间"
   ]
  },
  {
   "cell_type": "code",
   "execution_count": 28,
   "metadata": {},
   "outputs": [
    {
     "name": "stdout",
     "output_type": "stream",
     "text": [
      "<class 'pandas.core.frame.DataFrame'>\n",
      "RangeIndex: 85068 entries, 0 to 85067\n",
      "Data columns (total 8 columns):\n",
      "id                             85068 non-null int64\n",
      "first_review                   65062 non-null datetime64[ns]\n",
      "review_scores_accuracy         63393 non-null float64\n",
      "review_scores_cleanliness      63407 non-null float64\n",
      "review_scores_checkin          63345 non-null float64\n",
      "review_scores_communication    63401 non-null float64\n",
      "review_scores_location         63347 non-null float64\n",
      "review_scores_value            63346 non-null float64\n",
      "dtypes: datetime64[ns](1), float64(6), int64(1)\n",
      "memory usage: 5.2 MB\n"
     ]
    }
   ],
   "source": [
    "columns_3=['id','first_review']\n",
    "scores = ['review_scores_accuracy', 'review_scores_cleanliness', 'review_scores_checkin',\n",
    "               'review_scores_communication', 'review_scores_location', 'review_scores_value']\n",
    "listings_detail=listings_detail[columns_3+scores]\n",
    "\n",
    "listings_detail.info()"
   ]
  },
  {
   "cell_type": "markdown",
   "metadata": {},
   "source": [
    "提取出日期的年份出来"
   ]
  },
  {
   "cell_type": "code",
   "execution_count": 29,
   "metadata": {},
   "outputs": [],
   "source": [
    "listings_detail['first_review_year']=listings_detail['first_review'].dt.year"
   ]
  },
  {
   "cell_type": "markdown",
   "metadata": {},
   "source": [
    "计算总平均分"
   ]
  },
  {
   "cell_type": "code",
   "execution_count": 30,
   "metadata": {},
   "outputs": [],
   "source": [
    "listings_detail['score']=( listings_detail['review_scores_accuracy']+listings_detail['review_scores_cleanliness']\n",
    "                               +listings_detail['review_scores_checkin']+listings_detail['review_scores_communication']\n",
    "                               +listings_detail['review_scores_value']+listings_detail['review_scores_location'])/6"
   ]
  },
  {
   "cell_type": "code",
   "execution_count": 31,
   "metadata": {},
   "outputs": [
    {
     "name": "stdout",
     "output_type": "stream",
     "text": [
      "<class 'pandas.core.frame.DataFrame'>\n",
      "RangeIndex: 85068 entries, 0 to 85067\n",
      "Data columns (total 3 columns):\n",
      "id                   85068 non-null int64\n",
      "first_review_year    65062 non-null float64\n",
      "score                63323 non-null float64\n",
      "dtypes: float64(2), int64(1)\n",
      "memory usage: 1.9 MB\n"
     ]
    }
   ],
   "source": [
    "listings_detail=listings_detail[['id','first_review_year','score']]\n",
    "listings_detail.info()"
   ]
  },
  {
   "cell_type": "code",
   "execution_count": 32,
   "metadata": {},
   "outputs": [
    {
     "data": {
      "text/html": [
       "<div>\n",
       "<style scoped>\n",
       "    .dataframe tbody tr th:only-of-type {\n",
       "        vertical-align: middle;\n",
       "    }\n",
       "\n",
       "    .dataframe tbody tr th {\n",
       "        vertical-align: top;\n",
       "    }\n",
       "\n",
       "    .dataframe thead th {\n",
       "        text-align: right;\n",
       "    }\n",
       "</style>\n",
       "<table border=\"1\" class=\"dataframe\">\n",
       "  <thead>\n",
       "    <tr style=\"text-align: right;\">\n",
       "      <th></th>\n",
       "      <th>id</th>\n",
       "      <th>first_review_year</th>\n",
       "      <th>score</th>\n",
       "    </tr>\n",
       "  </thead>\n",
       "  <tbody>\n",
       "    <tr>\n",
       "      <th>0</th>\n",
       "      <td>11551</td>\n",
       "      <td>2010.0</td>\n",
       "      <td>9.333333</td>\n",
       "    </tr>\n",
       "    <tr>\n",
       "      <th>1</th>\n",
       "      <td>38151</td>\n",
       "      <td>NaN</td>\n",
       "      <td>NaN</td>\n",
       "    </tr>\n",
       "    <tr>\n",
       "      <th>2</th>\n",
       "      <td>13913</td>\n",
       "      <td>2010.0</td>\n",
       "      <td>9.666667</td>\n",
       "    </tr>\n",
       "  </tbody>\n",
       "</table>\n",
       "</div>"
      ],
      "text/plain": [
       "      id  first_review_year     score\n",
       "0  11551             2010.0  9.333333\n",
       "1  38151                NaN       NaN\n",
       "2  13913             2010.0  9.666667"
      ]
     },
     "execution_count": 32,
     "metadata": {},
     "output_type": "execute_result"
    }
   ],
   "source": [
    "listings_detail.head(3)"
   ]
  },
  {
   "cell_type": "markdown",
   "metadata": {},
   "source": [
    "## reviews_summary"
   ]
  },
  {
   "cell_type": "code",
   "execution_count": 33,
   "metadata": {},
   "outputs": [
    {
     "name": "stdout",
     "output_type": "stream",
     "text": [
      "<class 'pandas.core.frame.DataFrame'>\n",
      "RangeIndex: 1486236 entries, 0 to 1486235\n",
      "Data columns (total 2 columns):\n",
      "listing_id    1486236 non-null int64\n",
      "date          1486236 non-null datetime64[ns]\n",
      "dtypes: datetime64[ns](1), int64(1)\n",
      "memory usage: 22.7 MB\n"
     ]
    }
   ],
   "source": [
    "reviews_summary = pd.read_csv('../data/reviews_summary.csv', parse_dates=['date'])\n",
    "\n",
    "reviews_summary.info()"
   ]
  },
  {
   "cell_type": "code",
   "execution_count": 34,
   "metadata": {},
   "outputs": [
    {
     "data": {
      "text/html": [
       "<div>\n",
       "<style scoped>\n",
       "    .dataframe tbody tr th:only-of-type {\n",
       "        vertical-align: middle;\n",
       "    }\n",
       "\n",
       "    .dataframe tbody tr th {\n",
       "        vertical-align: top;\n",
       "    }\n",
       "\n",
       "    .dataframe thead th {\n",
       "        text-align: right;\n",
       "    }\n",
       "</style>\n",
       "<table border=\"1\" class=\"dataframe\">\n",
       "  <thead>\n",
       "    <tr style=\"text-align: right;\">\n",
       "      <th></th>\n",
       "      <th>listing_id</th>\n",
       "      <th>date</th>\n",
       "    </tr>\n",
       "  </thead>\n",
       "  <tbody>\n",
       "    <tr>\n",
       "      <th>0</th>\n",
       "      <td>11551</td>\n",
       "      <td>2010-03-21</td>\n",
       "    </tr>\n",
       "    <tr>\n",
       "      <th>1</th>\n",
       "      <td>38407</td>\n",
       "      <td>2010-09-22</td>\n",
       "    </tr>\n",
       "    <tr>\n",
       "      <th>2</th>\n",
       "      <td>38407</td>\n",
       "      <td>2010-11-02</td>\n",
       "    </tr>\n",
       "    <tr>\n",
       "      <th>3</th>\n",
       "      <td>38407</td>\n",
       "      <td>2010-11-09</td>\n",
       "    </tr>\n",
       "    <tr>\n",
       "      <th>4</th>\n",
       "      <td>38407</td>\n",
       "      <td>2010-11-13</td>\n",
       "    </tr>\n",
       "  </tbody>\n",
       "</table>\n",
       "</div>"
      ],
      "text/plain": [
       "   listing_id       date\n",
       "0       11551 2010-03-21\n",
       "1       38407 2010-09-22\n",
       "2       38407 2010-11-02\n",
       "3       38407 2010-11-09\n",
       "4       38407 2010-11-13"
      ]
     },
     "execution_count": 34,
     "metadata": {},
     "output_type": "execute_result"
    }
   ],
   "source": [
    "reviews_summary.head()"
   ]
  },
  {
   "cell_type": "markdown",
   "metadata": {},
   "source": [
    "提取出年份，根据年份聚合评论数目"
   ]
  },
  {
   "cell_type": "code",
   "execution_count": 35,
   "metadata": {},
   "outputs": [],
   "source": [
    "reviews_summary['year']=reviews_summary['date'].dt.year"
   ]
  },
  {
   "cell_type": "code",
   "execution_count": 36,
   "metadata": {},
   "outputs": [
    {
     "data": {
      "text/html": [
       "<div>\n",
       "<style scoped>\n",
       "    .dataframe tbody tr th:only-of-type {\n",
       "        vertical-align: middle;\n",
       "    }\n",
       "\n",
       "    .dataframe tbody tr th {\n",
       "        vertical-align: top;\n",
       "    }\n",
       "\n",
       "    .dataframe thead th {\n",
       "        text-align: right;\n",
       "    }\n",
       "</style>\n",
       "<table border=\"1\" class=\"dataframe\">\n",
       "  <thead>\n",
       "    <tr style=\"text-align: right;\">\n",
       "      <th></th>\n",
       "      <th>year</th>\n",
       "      <th>listing_id</th>\n",
       "    </tr>\n",
       "  </thead>\n",
       "  <tbody>\n",
       "    <tr>\n",
       "      <th>0</th>\n",
       "      <td>2009</td>\n",
       "      <td>1</td>\n",
       "    </tr>\n",
       "    <tr>\n",
       "      <th>1</th>\n",
       "      <td>2010</td>\n",
       "      <td>196</td>\n",
       "    </tr>\n",
       "    <tr>\n",
       "      <th>2</th>\n",
       "      <td>2011</td>\n",
       "      <td>1457</td>\n",
       "    </tr>\n",
       "    <tr>\n",
       "      <th>3</th>\n",
       "      <td>2012</td>\n",
       "      <td>6296</td>\n",
       "    </tr>\n",
       "    <tr>\n",
       "      <th>4</th>\n",
       "      <td>2013</td>\n",
       "      <td>18094</td>\n",
       "    </tr>\n",
       "  </tbody>\n",
       "</table>\n",
       "</div>"
      ],
      "text/plain": [
       "   year  listing_id\n",
       "0  2009           1\n",
       "1  2010         196\n",
       "2  2011        1457\n",
       "3  2012        6296\n",
       "4  2013       18094"
      ]
     },
     "execution_count": 36,
     "metadata": {},
     "output_type": "execute_result"
    }
   ],
   "source": [
    "reviews_counts = reviews_summary['listing_id'].groupby([reviews_summary['year']]).count()\n",
    "\n",
    "reviews_counts = pd.DataFrame(reviews_counts)\n",
    "reviews_counts.reset_index(inplace=True)\n",
    "reviews_counts.head()"
   ]
  },
  {
   "cell_type": "markdown",
   "metadata": {},
   "source": [
    "删除2009年数据"
   ]
  },
  {
   "cell_type": "code",
   "execution_count": 37,
   "metadata": {},
   "outputs": [
    {
     "name": "stdout",
     "output_type": "stream",
     "text": [
      "<class 'pandas.core.frame.DataFrame'>\n",
      "Int64Index: 10 entries, 1 to 10\n",
      "Data columns (total 2 columns):\n",
      "year          10 non-null int64\n",
      "listing_id    10 non-null int64\n",
      "dtypes: int64(2)\n",
      "memory usage: 240.0 bytes\n"
     ]
    }
   ],
   "source": [
    "reviews_counts=reviews_counts[reviews_counts.year!=2009]\n",
    "\n",
    "reviews_counts.info()"
   ]
  },
  {
   "cell_type": "markdown",
   "metadata": {},
   "source": [
    "# 连接listings_summary和listings_detail文件"
   ]
  },
  {
   "cell_type": "code",
   "execution_count": 38,
   "metadata": {},
   "outputs": [
    {
     "data": {
      "text/html": [
       "<div>\n",
       "<style scoped>\n",
       "    .dataframe tbody tr th:only-of-type {\n",
       "        vertical-align: middle;\n",
       "    }\n",
       "\n",
       "    .dataframe tbody tr th {\n",
       "        vertical-align: top;\n",
       "    }\n",
       "\n",
       "    .dataframe thead th {\n",
       "        text-align: right;\n",
       "    }\n",
       "</style>\n",
       "<table border=\"1\" class=\"dataframe\">\n",
       "  <thead>\n",
       "    <tr style=\"text-align: right;\">\n",
       "      <th></th>\n",
       "      <th>id</th>\n",
       "      <th>host_id</th>\n",
       "      <th>neighbourhood</th>\n",
       "      <th>number_of_reviews</th>\n",
       "      <th>calculated_host_listings_count</th>\n",
       "    </tr>\n",
       "  </thead>\n",
       "  <tbody>\n",
       "    <tr>\n",
       "      <th>0</th>\n",
       "      <td>11551</td>\n",
       "      <td>43039</td>\n",
       "      <td>Lambeth</td>\n",
       "      <td>185</td>\n",
       "      <td>2</td>\n",
       "    </tr>\n",
       "    <tr>\n",
       "      <th>1</th>\n",
       "      <td>13913</td>\n",
       "      <td>54730</td>\n",
       "      <td>Islington</td>\n",
       "      <td>19</td>\n",
       "      <td>2</td>\n",
       "    </tr>\n",
       "  </tbody>\n",
       "</table>\n",
       "</div>"
      ],
      "text/plain": [
       "      id  host_id neighbourhood  number_of_reviews  \\\n",
       "0  11551    43039       Lambeth                185   \n",
       "1  13913    54730     Islington                 19   \n",
       "\n",
       "   calculated_host_listings_count  \n",
       "0                               2  \n",
       "1                               2  "
      ]
     },
     "execution_count": 38,
     "metadata": {},
     "output_type": "execute_result"
    }
   ],
   "source": [
    "listings_summary.head(2)"
   ]
  },
  {
   "cell_type": "code",
   "execution_count": 39,
   "metadata": {},
   "outputs": [
    {
     "name": "stdout",
     "output_type": "stream",
     "text": [
      "<class 'pandas.core.frame.DataFrame'>\n",
      "RangeIndex: 65062 entries, 0 to 65061\n",
      "Data columns (total 5 columns):\n",
      "id                                65062 non-null int64\n",
      "host_id                           65062 non-null int64\n",
      "neighbourhood                     65062 non-null object\n",
      "number_of_reviews                 65062 non-null int64\n",
      "calculated_host_listings_count    65062 non-null int64\n",
      "dtypes: int64(4), object(1)\n",
      "memory usage: 2.5+ MB\n"
     ]
    }
   ],
   "source": [
    "listings_summary.info()"
   ]
  },
  {
   "cell_type": "code",
   "execution_count": 40,
   "metadata": {},
   "outputs": [
    {
     "data": {
      "text/html": [
       "<div>\n",
       "<style scoped>\n",
       "    .dataframe tbody tr th:only-of-type {\n",
       "        vertical-align: middle;\n",
       "    }\n",
       "\n",
       "    .dataframe tbody tr th {\n",
       "        vertical-align: top;\n",
       "    }\n",
       "\n",
       "    .dataframe thead th {\n",
       "        text-align: right;\n",
       "    }\n",
       "</style>\n",
       "<table border=\"1\" class=\"dataframe\">\n",
       "  <thead>\n",
       "    <tr style=\"text-align: right;\">\n",
       "      <th></th>\n",
       "      <th>id</th>\n",
       "      <th>first_review_year</th>\n",
       "      <th>score</th>\n",
       "    </tr>\n",
       "  </thead>\n",
       "  <tbody>\n",
       "    <tr>\n",
       "      <th>0</th>\n",
       "      <td>11551</td>\n",
       "      <td>2010.0</td>\n",
       "      <td>9.333333</td>\n",
       "    </tr>\n",
       "    <tr>\n",
       "      <th>1</th>\n",
       "      <td>38151</td>\n",
       "      <td>NaN</td>\n",
       "      <td>NaN</td>\n",
       "    </tr>\n",
       "  </tbody>\n",
       "</table>\n",
       "</div>"
      ],
      "text/plain": [
       "      id  first_review_year     score\n",
       "0  11551             2010.0  9.333333\n",
       "1  38151                NaN       NaN"
      ]
     },
     "execution_count": 40,
     "metadata": {},
     "output_type": "execute_result"
    }
   ],
   "source": [
    "listings_detail.head(2)"
   ]
  },
  {
   "cell_type": "code",
   "execution_count": 41,
   "metadata": {},
   "outputs": [
    {
     "name": "stdout",
     "output_type": "stream",
     "text": [
      "<class 'pandas.core.frame.DataFrame'>\n",
      "RangeIndex: 85068 entries, 0 to 85067\n",
      "Data columns (total 3 columns):\n",
      "id                   85068 non-null int64\n",
      "first_review_year    65062 non-null float64\n",
      "score                63323 non-null float64\n",
      "dtypes: float64(2), int64(1)\n",
      "memory usage: 1.9 MB\n"
     ]
    }
   ],
   "source": [
    "listings_detail.info()"
   ]
  },
  {
   "cell_type": "code",
   "execution_count": 42,
   "metadata": {},
   "outputs": [
    {
     "data": {
      "text/html": [
       "<div>\n",
       "<style scoped>\n",
       "    .dataframe tbody tr th:only-of-type {\n",
       "        vertical-align: middle;\n",
       "    }\n",
       "\n",
       "    .dataframe tbody tr th {\n",
       "        vertical-align: top;\n",
       "    }\n",
       "\n",
       "    .dataframe thead th {\n",
       "        text-align: right;\n",
       "    }\n",
       "</style>\n",
       "<table border=\"1\" class=\"dataframe\">\n",
       "  <thead>\n",
       "    <tr style=\"text-align: right;\">\n",
       "      <th></th>\n",
       "      <th>id</th>\n",
       "      <th>host_id</th>\n",
       "      <th>neighbourhood</th>\n",
       "      <th>number_of_reviews</th>\n",
       "      <th>calculated_host_listings_count</th>\n",
       "      <th>first_review_year</th>\n",
       "      <th>score</th>\n",
       "    </tr>\n",
       "  </thead>\n",
       "  <tbody>\n",
       "    <tr>\n",
       "      <th>0</th>\n",
       "      <td>11551</td>\n",
       "      <td>43039</td>\n",
       "      <td>Lambeth</td>\n",
       "      <td>185</td>\n",
       "      <td>2</td>\n",
       "      <td>2010.0</td>\n",
       "      <td>9.333333</td>\n",
       "    </tr>\n",
       "    <tr>\n",
       "      <th>1</th>\n",
       "      <td>13913</td>\n",
       "      <td>54730</td>\n",
       "      <td>Islington</td>\n",
       "      <td>19</td>\n",
       "      <td>2</td>\n",
       "      <td>2010.0</td>\n",
       "      <td>9.666667</td>\n",
       "    </tr>\n",
       "    <tr>\n",
       "      <th>2</th>\n",
       "      <td>90700</td>\n",
       "      <td>491286</td>\n",
       "      <td>Kensington and Chelsea</td>\n",
       "      <td>339</td>\n",
       "      <td>2</td>\n",
       "      <td>2011.0</td>\n",
       "      <td>9.500000</td>\n",
       "    </tr>\n",
       "  </tbody>\n",
       "</table>\n",
       "</div>"
      ],
      "text/plain": [
       "      id  host_id           neighbourhood  number_of_reviews  \\\n",
       "0  11551    43039                 Lambeth                185   \n",
       "1  13913    54730               Islington                 19   \n",
       "2  90700   491286  Kensington and Chelsea                339   \n",
       "\n",
       "   calculated_host_listings_count  first_review_year     score  \n",
       "0                               2             2010.0  9.333333  \n",
       "1                               2             2010.0  9.666667  \n",
       "2                               2             2011.0  9.500000  "
      ]
     },
     "execution_count": 42,
     "metadata": {},
     "output_type": "execute_result"
    }
   ],
   "source": [
    "listing=pd.merge(listings_summary,listings_detail) # 列名不同，但内容有相同，所以依然可以作为键来用\n",
    "listing.head(3)"
   ]
  },
  {
   "cell_type": "code",
   "execution_count": 43,
   "metadata": {},
   "outputs": [
    {
     "name": "stdout",
     "output_type": "stream",
     "text": [
      "<class 'pandas.core.frame.DataFrame'>\n",
      "Int64Index: 65062 entries, 0 to 65061\n",
      "Data columns (total 7 columns):\n",
      "id                                65062 non-null int64\n",
      "host_id                           65062 non-null int64\n",
      "neighbourhood                     65062 non-null object\n",
      "number_of_reviews                 65062 non-null int64\n",
      "calculated_host_listings_count    65062 non-null int64\n",
      "first_review_year                 65062 non-null float64\n",
      "score                             63321 non-null float64\n",
      "dtypes: float64(2), int64(4), object(1)\n",
      "memory usage: 4.0+ MB\n"
     ]
    }
   ],
   "source": [
    "listing.info()"
   ]
  },
  {
   "cell_type": "markdown",
   "metadata": {},
   "source": [
    "检查缺失值"
   ]
  },
  {
   "cell_type": "code",
   "execution_count": 44,
   "metadata": {},
   "outputs": [
    {
     "data": {
      "text/plain": [
       "id                                   0\n",
       "host_id                              0\n",
       "neighbourhood                        0\n",
       "number_of_reviews                    0\n",
       "calculated_host_listings_count       0\n",
       "first_review_year                    0\n",
       "score                             1741\n",
       "dtype: int64"
      ]
     },
     "execution_count": 44,
     "metadata": {},
     "output_type": "execute_result"
    }
   ],
   "source": [
    "listing.isnull().sum()"
   ]
  },
  {
   "cell_type": "markdown",
   "metadata": {},
   "source": [
    "均值填充"
   ]
  },
  {
   "cell_type": "code",
   "execution_count": 45,
   "metadata": {},
   "outputs": [],
   "source": [
    "mean_val = listing['score'].mean()\n",
    "listing['score'].fillna(mean_val, inplace=True)"
   ]
  },
  {
   "cell_type": "markdown",
   "metadata": {},
   "source": [
    "# 筛选Calendar的数据"
   ]
  },
  {
   "cell_type": "code",
   "execution_count": 46,
   "metadata": {},
   "outputs": [],
   "source": [
    "Calendar_2=Calendar_1.copy()"
   ]
  },
  {
   "cell_type": "code",
   "execution_count": 48,
   "metadata": {},
   "outputs": [],
   "source": [
    "temp=listing['id'].drop_duplicates().values.tolist()\n",
    "\n",
    "Calendar_2['flag']=Calendar_2['listing_id'].map(lambda x:1 if x in temp else 0)"
   ]
  },
  {
   "cell_type": "code",
   "execution_count": 49,
   "metadata": {},
   "outputs": [],
   "source": [
    "Calendar_2=Calendar_2[Calendar_2.flag==1]\n",
    "Calendar_2=Calendar_2.drop('flag',axis=1)"
   ]
  },
  {
   "cell_type": "code",
   "execution_count": 52,
   "metadata": {},
   "outputs": [
    {
     "data": {
      "text/html": [
       "<div>\n",
       "<style scoped>\n",
       "    .dataframe tbody tr th:only-of-type {\n",
       "        vertical-align: middle;\n",
       "    }\n",
       "\n",
       "    .dataframe tbody tr th {\n",
       "        vertical-align: top;\n",
       "    }\n",
       "\n",
       "    .dataframe thead th {\n",
       "        text-align: right;\n",
       "    }\n",
       "</style>\n",
       "<table border=\"1\" class=\"dataframe\">\n",
       "  <thead>\n",
       "    <tr style=\"text-align: right;\">\n",
       "      <th></th>\n",
       "      <th>listing_id</th>\n",
       "      <th>year_month</th>\n",
       "      <th>price</th>\n",
       "      <th>price_median</th>\n",
       "    </tr>\n",
       "  </thead>\n",
       "  <tbody>\n",
       "    <tr>\n",
       "      <th>0</th>\n",
       "      <td>11551</td>\n",
       "      <td>2019-11-01</td>\n",
       "      <td>105.000000</td>\n",
       "      <td>105.0</td>\n",
       "    </tr>\n",
       "    <tr>\n",
       "      <th>1</th>\n",
       "      <td>11551</td>\n",
       "      <td>2019-12-01</td>\n",
       "      <td>111.935484</td>\n",
       "      <td>110.0</td>\n",
       "    </tr>\n",
       "    <tr>\n",
       "      <th>2</th>\n",
       "      <td>11551</td>\n",
       "      <td>2020-01-01</td>\n",
       "      <td>91.290323</td>\n",
       "      <td>90.0</td>\n",
       "    </tr>\n",
       "    <tr>\n",
       "      <th>3</th>\n",
       "      <td>11551</td>\n",
       "      <td>2020-02-01</td>\n",
       "      <td>90.000000</td>\n",
       "      <td>90.0</td>\n",
       "    </tr>\n",
       "    <tr>\n",
       "      <th>4</th>\n",
       "      <td>11551</td>\n",
       "      <td>2020-03-01</td>\n",
       "      <td>90.000000</td>\n",
       "      <td>90.0</td>\n",
       "    </tr>\n",
       "  </tbody>\n",
       "</table>\n",
       "</div>"
      ],
      "text/plain": [
       "   listing_id year_month       price  price_median\n",
       "0       11551 2019-11-01  105.000000         105.0\n",
       "1       11551 2019-12-01  111.935484         110.0\n",
       "2       11551 2020-01-01   91.290323          90.0\n",
       "3       11551 2020-02-01   90.000000          90.0\n",
       "4       11551 2020-03-01   90.000000          90.0"
      ]
     },
     "execution_count": 52,
     "metadata": {},
     "output_type": "execute_result"
    }
   ],
   "source": [
    "Calendar_2.head()"
   ]
  },
  {
   "cell_type": "markdown",
   "metadata": {},
   "source": [
    "筛选完数据后再次根据日期聚合"
   ]
  },
  {
   "cell_type": "code",
   "execution_count": 50,
   "metadata": {},
   "outputs": [
    {
     "data": {
      "text/html": [
       "<div>\n",
       "<style scoped>\n",
       "    .dataframe tbody tr th:only-of-type {\n",
       "        vertical-align: middle;\n",
       "    }\n",
       "\n",
       "    .dataframe tbody tr th {\n",
       "        vertical-align: top;\n",
       "    }\n",
       "\n",
       "    .dataframe thead th {\n",
       "        text-align: right;\n",
       "    }\n",
       "</style>\n",
       "<table border=\"1\" class=\"dataframe\">\n",
       "  <thead>\n",
       "    <tr style=\"text-align: right;\">\n",
       "      <th></th>\n",
       "      <th>year_month</th>\n",
       "      <th>price</th>\n",
       "    </tr>\n",
       "  </thead>\n",
       "  <tbody>\n",
       "    <tr>\n",
       "      <th>0</th>\n",
       "      <td>2019-11-01</td>\n",
       "      <td>104.655354</td>\n",
       "    </tr>\n",
       "    <tr>\n",
       "      <th>1</th>\n",
       "      <td>2019-12-01</td>\n",
       "      <td>113.599907</td>\n",
       "    </tr>\n",
       "    <tr>\n",
       "      <th>2</th>\n",
       "      <td>2020-01-01</td>\n",
       "      <td>108.298320</td>\n",
       "    </tr>\n",
       "    <tr>\n",
       "      <th>3</th>\n",
       "      <td>2020-02-01</td>\n",
       "      <td>107.408484</td>\n",
       "    </tr>\n",
       "    <tr>\n",
       "      <th>4</th>\n",
       "      <td>2020-03-01</td>\n",
       "      <td>109.906569</td>\n",
       "    </tr>\n",
       "  </tbody>\n",
       "</table>\n",
       "</div>"
      ],
      "text/plain": [
       "  year_month       price\n",
       "0 2019-11-01  104.655354\n",
       "1 2019-12-01  113.599907\n",
       "2 2020-01-01  108.298320\n",
       "3 2020-02-01  107.408484\n",
       "4 2020-03-01  109.906569"
      ]
     },
     "execution_count": 50,
     "metadata": {},
     "output_type": "execute_result"
    }
   ],
   "source": [
    "price_means = Calendar_2['price'].groupby([Calendar_2['year_month']]).mean()\n",
    "\n",
    "Calendar_3 = pd.DataFrame(price_means)\n",
    "Calendar_3.reset_index(inplace=True)\n",
    "Calendar_3.head()"
   ]
  },
  {
   "cell_type": "code",
   "execution_count": 51,
   "metadata": {},
   "outputs": [
    {
     "data": {
      "text/html": [
       "<div>\n",
       "<style scoped>\n",
       "    .dataframe tbody tr th:only-of-type {\n",
       "        vertical-align: middle;\n",
       "    }\n",
       "\n",
       "    .dataframe tbody tr th {\n",
       "        vertical-align: top;\n",
       "    }\n",
       "\n",
       "    .dataframe thead th {\n",
       "        text-align: right;\n",
       "    }\n",
       "</style>\n",
       "<table border=\"1\" class=\"dataframe\">\n",
       "  <thead>\n",
       "    <tr style=\"text-align: right;\">\n",
       "      <th></th>\n",
       "      <th>year_month</th>\n",
       "      <th>price</th>\n",
       "      <th>price_median</th>\n",
       "    </tr>\n",
       "  </thead>\n",
       "  <tbody>\n",
       "    <tr>\n",
       "      <th>0</th>\n",
       "      <td>2019-11-01</td>\n",
       "      <td>104.655354</td>\n",
       "      <td>104.655354</td>\n",
       "    </tr>\n",
       "    <tr>\n",
       "      <th>1</th>\n",
       "      <td>2019-12-01</td>\n",
       "      <td>113.599907</td>\n",
       "      <td>113.599907</td>\n",
       "    </tr>\n",
       "    <tr>\n",
       "      <th>2</th>\n",
       "      <td>2020-01-01</td>\n",
       "      <td>108.298320</td>\n",
       "      <td>108.298320</td>\n",
       "    </tr>\n",
       "    <tr>\n",
       "      <th>3</th>\n",
       "      <td>2020-02-01</td>\n",
       "      <td>107.408484</td>\n",
       "      <td>107.408484</td>\n",
       "    </tr>\n",
       "    <tr>\n",
       "      <th>4</th>\n",
       "      <td>2020-03-01</td>\n",
       "      <td>109.906569</td>\n",
       "      <td>109.906569</td>\n",
       "    </tr>\n",
       "  </tbody>\n",
       "</table>\n",
       "</div>"
      ],
      "text/plain": [
       "  year_month       price  price_median\n",
       "0 2019-11-01  104.655354    104.655354\n",
       "1 2019-12-01  113.599907    113.599907\n",
       "2 2020-01-01  108.298320    108.298320\n",
       "3 2020-02-01  107.408484    107.408484\n",
       "4 2020-03-01  109.906569    109.906569"
      ]
     },
     "execution_count": 51,
     "metadata": {},
     "output_type": "execute_result"
    }
   ],
   "source": [
    "price_median = Calendar_2['price'].groupby([Calendar_2['year_month']]).median()\n",
    "\n",
    "Calendar_4 = pd.DataFrame(price_means)\n",
    "Calendar_4.reset_index(inplace=True)\n",
    "\n",
    "Calendar_3['price_median']=Calendar_4['price']\n",
    "Calendar_3.head()"
   ]
  },
  {
   "cell_type": "markdown",
   "metadata": {},
   "source": [
    "# 输出数据文件"
   ]
  },
  {
   "cell_type": "code",
   "execution_count": 103,
   "metadata": {},
   "outputs": [],
   "source": [
    "Calendar_1.to_csv('Calendar.csv',index=0)\n",
    "\n",
    "listing.to_csv('listing.csv',index=0)\n",
    "\n",
    "reviews_summary.to_csv('reviews_summary.csv',index=0)"
   ]
  },
  {
   "cell_type": "code",
   "execution_count": null,
   "metadata": {},
   "outputs": [],
   "source": []
  }
 ],
 "metadata": {
  "kernelspec": {
   "display_name": "Python 3",
   "language": "python",
   "name": "python3"
  },
  "language_info": {
   "codemirror_mode": {
    "name": "ipython",
    "version": 3
   },
   "file_extension": ".py",
   "mimetype": "text/x-python",
   "name": "python",
   "nbconvert_exporter": "python",
   "pygments_lexer": "ipython3",
   "version": "3.7.3"
  },
  "toc": {
   "base_numbering": 1,
   "nav_menu": {},
   "number_sections": true,
   "sideBar": true,
   "skip_h1_title": false,
   "title_cell": "Table of Contents",
   "title_sidebar": "Contents",
   "toc_cell": false,
   "toc_position": {},
   "toc_section_display": true,
   "toc_window_display": true
  }
 },
 "nbformat": 4,
 "nbformat_minor": 2
}
