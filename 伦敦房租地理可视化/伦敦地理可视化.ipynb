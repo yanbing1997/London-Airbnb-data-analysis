{
 "cells": [
  {
   "cell_type": "code",
   "execution_count": 1,
   "metadata": {},
   "outputs": [],
   "source": [
    "import re\n",
    "import numpy as np\n",
    "import pandas as pd\n",
    "import matplotlib.pyplot as plt\n",
    "import seaborn as sns\n",
    "\n",
    "import warnings\n",
    "warnings.filterwarnings('ignore')"
   ]
  },
  {
   "cell_type": "code",
   "execution_count": 4,
   "metadata": {},
   "outputs": [
    {
     "data": {
      "text/html": [
       "<div>\n",
       "<style scoped>\n",
       "    .dataframe tbody tr th:only-of-type {\n",
       "        vertical-align: middle;\n",
       "    }\n",
       "\n",
       "    .dataframe tbody tr th {\n",
       "        vertical-align: top;\n",
       "    }\n",
       "\n",
       "    .dataframe thead th {\n",
       "        text-align: right;\n",
       "    }\n",
       "</style>\n",
       "<table border=\"1\" class=\"dataframe\">\n",
       "  <thead>\n",
       "    <tr style=\"text-align: right;\">\n",
       "      <th></th>\n",
       "      <th>id</th>\n",
       "      <th>name</th>\n",
       "      <th>host_id</th>\n",
       "      <th>host_name</th>\n",
       "      <th>neighbourhood_group</th>\n",
       "      <th>neighbourhood</th>\n",
       "      <th>latitude</th>\n",
       "      <th>longitude</th>\n",
       "      <th>room_type</th>\n",
       "      <th>price</th>\n",
       "      <th>minimum_nights</th>\n",
       "      <th>number_of_reviews</th>\n",
       "      <th>last_review</th>\n",
       "      <th>reviews_per_month</th>\n",
       "      <th>calculated_host_listings_count</th>\n",
       "      <th>availability_365</th>\n",
       "    </tr>\n",
       "  </thead>\n",
       "  <tbody>\n",
       "    <tr>\n",
       "      <th>0</th>\n",
       "      <td>11551</td>\n",
       "      <td>Arty and Bright London Apartment in Zone 2</td>\n",
       "      <td>43039</td>\n",
       "      <td>Adriano</td>\n",
       "      <td>NaN</td>\n",
       "      <td>Lambeth</td>\n",
       "      <td>51.46225</td>\n",
       "      <td>-0.11732</td>\n",
       "      <td>Entire home/apt</td>\n",
       "      <td>88</td>\n",
       "      <td>3</td>\n",
       "      <td>185</td>\n",
       "      <td>2019-09-15</td>\n",
       "      <td>1.58</td>\n",
       "      <td>2</td>\n",
       "      <td>336</td>\n",
       "    </tr>\n",
       "    <tr>\n",
       "      <th>1</th>\n",
       "      <td>13913</td>\n",
       "      <td>Holiday London DB Room Let-on going</td>\n",
       "      <td>54730</td>\n",
       "      <td>Alina</td>\n",
       "      <td>NaN</td>\n",
       "      <td>Islington</td>\n",
       "      <td>51.56802</td>\n",
       "      <td>-0.11121</td>\n",
       "      <td>Private room</td>\n",
       "      <td>65</td>\n",
       "      <td>1</td>\n",
       "      <td>19</td>\n",
       "      <td>2019-10-07</td>\n",
       "      <td>0.17</td>\n",
       "      <td>2</td>\n",
       "      <td>365</td>\n",
       "    </tr>\n",
       "    <tr>\n",
       "      <th>2</th>\n",
       "      <td>90700</td>\n",
       "      <td>Sunny Notting Hill flat &amp; terrace</td>\n",
       "      <td>491286</td>\n",
       "      <td>Chil</td>\n",
       "      <td>NaN</td>\n",
       "      <td>Kensington and Chelsea</td>\n",
       "      <td>51.51074</td>\n",
       "      <td>-0.19853</td>\n",
       "      <td>Entire home/apt</td>\n",
       "      <td>105</td>\n",
       "      <td>2</td>\n",
       "      <td>339</td>\n",
       "      <td>2019-07-30</td>\n",
       "      <td>3.33</td>\n",
       "      <td>2</td>\n",
       "      <td>268</td>\n",
       "    </tr>\n",
       "    <tr>\n",
       "      <th>85065</th>\n",
       "      <td>39869214</td>\n",
       "      <td>Holland Road - Kensington Olympia</td>\n",
       "      <td>251922260</td>\n",
       "      <td>Christian</td>\n",
       "      <td>NaN</td>\n",
       "      <td>Hammersmith and Fulham</td>\n",
       "      <td>51.50244</td>\n",
       "      <td>-0.21547</td>\n",
       "      <td>Entire home/apt</td>\n",
       "      <td>90</td>\n",
       "      <td>3</td>\n",
       "      <td>0</td>\n",
       "      <td>NaN</td>\n",
       "      <td>NaN</td>\n",
       "      <td>4</td>\n",
       "      <td>63</td>\n",
       "    </tr>\n",
       "    <tr>\n",
       "      <th>85066</th>\n",
       "      <td>39869249</td>\n",
       "      <td>Functional single room 18 min to London Bridge</td>\n",
       "      <td>255372486</td>\n",
       "      <td>Nudrat</td>\n",
       "      <td>NaN</td>\n",
       "      <td>Bromley</td>\n",
       "      <td>51.35742</td>\n",
       "      <td>0.10764</td>\n",
       "      <td>Private room</td>\n",
       "      <td>30</td>\n",
       "      <td>2</td>\n",
       "      <td>0</td>\n",
       "      <td>NaN</td>\n",
       "      <td>NaN</td>\n",
       "      <td>4</td>\n",
       "      <td>1</td>\n",
       "    </tr>\n",
       "    <tr>\n",
       "      <th>85067</th>\n",
       "      <td>39869282</td>\n",
       "      <td>EXQUISITE APARTMENT, PEACEFUL ENVIRONMENT IN SOHO</td>\n",
       "      <td>210531062</td>\n",
       "      <td>Radi</td>\n",
       "      <td>NaN</td>\n",
       "      <td>Westminster</td>\n",
       "      <td>51.51090</td>\n",
       "      <td>-0.12480</td>\n",
       "      <td>Entire home/apt</td>\n",
       "      <td>187</td>\n",
       "      <td>1</td>\n",
       "      <td>0</td>\n",
       "      <td>NaN</td>\n",
       "      <td>NaN</td>\n",
       "      <td>1</td>\n",
       "      <td>311</td>\n",
       "    </tr>\n",
       "  </tbody>\n",
       "</table>\n",
       "</div>"
      ],
      "text/plain": [
       "             id                                               name    host_id  \\\n",
       "0         11551         Arty and Bright London Apartment in Zone 2      43039   \n",
       "1         13913                Holiday London DB Room Let-on going      54730   \n",
       "2         90700                  Sunny Notting Hill flat & terrace     491286   \n",
       "85065  39869214                  Holland Road - Kensington Olympia  251922260   \n",
       "85066  39869249     Functional single room 18 min to London Bridge  255372486   \n",
       "85067  39869282  EXQUISITE APARTMENT, PEACEFUL ENVIRONMENT IN SOHO  210531062   \n",
       "\n",
       "       host_name  neighbourhood_group           neighbourhood  latitude  \\\n",
       "0        Adriano                  NaN                 Lambeth  51.46225   \n",
       "1          Alina                  NaN               Islington  51.56802   \n",
       "2           Chil                  NaN  Kensington and Chelsea  51.51074   \n",
       "85065  Christian                  NaN  Hammersmith and Fulham  51.50244   \n",
       "85066     Nudrat                  NaN                 Bromley  51.35742   \n",
       "85067       Radi                  NaN             Westminster  51.51090   \n",
       "\n",
       "       longitude        room_type  price  minimum_nights  number_of_reviews  \\\n",
       "0       -0.11732  Entire home/apt     88               3                185   \n",
       "1       -0.11121     Private room     65               1                 19   \n",
       "2       -0.19853  Entire home/apt    105               2                339   \n",
       "85065   -0.21547  Entire home/apt     90               3                  0   \n",
       "85066    0.10764     Private room     30               2                  0   \n",
       "85067   -0.12480  Entire home/apt    187               1                  0   \n",
       "\n",
       "      last_review  reviews_per_month  calculated_host_listings_count  \\\n",
       "0      2019-09-15               1.58                               2   \n",
       "1      2019-10-07               0.17                               2   \n",
       "2      2019-07-30               3.33                               2   \n",
       "85065         NaN                NaN                               4   \n",
       "85066         NaN                NaN                               4   \n",
       "85067         NaN                NaN                               1   \n",
       "\n",
       "       availability_365  \n",
       "0                   336  \n",
       "1                   365  \n",
       "2                   268  \n",
       "85065                63  \n",
       "85066                 1  \n",
       "85067               311  "
      ]
     },
     "execution_count": 4,
     "metadata": {},
     "output_type": "execute_result"
    }
   ],
   "source": [
    "data=pd.read_csv('../data/listings_summary.csv')\n",
    "\n",
    "data.head(3).append(data.tail(3))                            #查看数据前几行+后几行"
   ]
  },
  {
   "cell_type": "code",
   "execution_count": 3,
   "metadata": {},
   "outputs": [
    {
     "data": {
      "text/html": [
       "<div>\n",
       "<style scoped>\n",
       "    .dataframe tbody tr th:only-of-type {\n",
       "        vertical-align: middle;\n",
       "    }\n",
       "\n",
       "    .dataframe tbody tr th {\n",
       "        vertical-align: top;\n",
       "    }\n",
       "\n",
       "    .dataframe thead th {\n",
       "        text-align: right;\n",
       "    }\n",
       "</style>\n",
       "<table border=\"1\" class=\"dataframe\">\n",
       "  <thead>\n",
       "    <tr style=\"text-align: right;\">\n",
       "      <th></th>\n",
       "      <th>host_id</th>\n",
       "      <th>latitude</th>\n",
       "      <th>longitude</th>\n",
       "      <th>price</th>\n",
       "    </tr>\n",
       "  </thead>\n",
       "  <tbody>\n",
       "    <tr>\n",
       "      <th>0</th>\n",
       "      <td>43039</td>\n",
       "      <td>51.46225</td>\n",
       "      <td>-0.11732</td>\n",
       "      <td>88</td>\n",
       "    </tr>\n",
       "    <tr>\n",
       "      <th>1</th>\n",
       "      <td>54730</td>\n",
       "      <td>51.56802</td>\n",
       "      <td>-0.11121</td>\n",
       "      <td>65</td>\n",
       "    </tr>\n",
       "    <tr>\n",
       "      <th>2</th>\n",
       "      <td>491286</td>\n",
       "      <td>51.51074</td>\n",
       "      <td>-0.19853</td>\n",
       "      <td>105</td>\n",
       "    </tr>\n",
       "    <tr>\n",
       "      <th>85065</th>\n",
       "      <td>251922260</td>\n",
       "      <td>51.50244</td>\n",
       "      <td>-0.21547</td>\n",
       "      <td>90</td>\n",
       "    </tr>\n",
       "    <tr>\n",
       "      <th>85066</th>\n",
       "      <td>255372486</td>\n",
       "      <td>51.35742</td>\n",
       "      <td>0.10764</td>\n",
       "      <td>30</td>\n",
       "    </tr>\n",
       "    <tr>\n",
       "      <th>85067</th>\n",
       "      <td>210531062</td>\n",
       "      <td>51.51090</td>\n",
       "      <td>-0.12480</td>\n",
       "      <td>187</td>\n",
       "    </tr>\n",
       "  </tbody>\n",
       "</table>\n",
       "</div>"
      ],
      "text/plain": [
       "         host_id  latitude  longitude  price\n",
       "0          43039  51.46225   -0.11732     88\n",
       "1          54730  51.56802   -0.11121     65\n",
       "2         491286  51.51074   -0.19853    105\n",
       "85065  251922260  51.50244   -0.21547     90\n",
       "85066  255372486  51.35742    0.10764     30\n",
       "85067  210531062  51.51090   -0.12480    187"
      ]
     },
     "execution_count": 3,
     "metadata": {},
     "output_type": "execute_result"
    }
   ],
   "source": [
    "columns=['host_id','latitude','longitude','price']\n",
    "data=data[columns]\n",
    "\n",
    "data.head(3).append(data.tail(3))                            #查看数据前几行+后几行"
   ]
  },
  {
   "cell_type": "markdown",
   "metadata": {},
   "source": [
    "查看数据缺失情况"
   ]
  },
  {
   "cell_type": "code",
   "execution_count": 4,
   "metadata": {},
   "outputs": [
    {
     "data": {
      "text/html": [
       "<div>\n",
       "<style scoped>\n",
       "    .dataframe tbody tr th:only-of-type {\n",
       "        vertical-align: middle;\n",
       "    }\n",
       "\n",
       "    .dataframe tbody tr th {\n",
       "        vertical-align: top;\n",
       "    }\n",
       "\n",
       "    .dataframe thead th {\n",
       "        text-align: right;\n",
       "    }\n",
       "</style>\n",
       "<table border=\"1\" class=\"dataframe\">\n",
       "  <thead>\n",
       "    <tr style=\"text-align: right;\">\n",
       "      <th></th>\n",
       "      <th>percentile</th>\n",
       "      <th>count</th>\n",
       "    </tr>\n",
       "  </thead>\n",
       "  <tbody>\n",
       "    <tr>\n",
       "      <th>host_id</th>\n",
       "      <td>0.0</td>\n",
       "      <td>0</td>\n",
       "    </tr>\n",
       "    <tr>\n",
       "      <th>latitude</th>\n",
       "      <td>0.0</td>\n",
       "      <td>0</td>\n",
       "    </tr>\n",
       "    <tr>\n",
       "      <th>longitude</th>\n",
       "      <td>0.0</td>\n",
       "      <td>0</td>\n",
       "    </tr>\n",
       "    <tr>\n",
       "      <th>price</th>\n",
       "      <td>0.0</td>\n",
       "      <td>0</td>\n",
       "    </tr>\n",
       "  </tbody>\n",
       "</table>\n",
       "</div>"
      ],
      "text/plain": [
       "           percentile  count\n",
       "host_id           0.0      0\n",
       "latitude          0.0      0\n",
       "longitude         0.0      0\n",
       "price             0.0      0"
      ]
     },
     "execution_count": 4,
     "metadata": {},
     "output_type": "execute_result"
    }
   ],
   "source": [
    "pd.DataFrame({'percentile':data.isnull().sum()/data.shape[0],'count':data.isnull().sum()})# 查看缺失率情况"
   ]
  },
  {
   "cell_type": "markdown",
   "metadata": {},
   "source": [
    "查看价格分布情况"
   ]
  },
  {
   "cell_type": "code",
   "execution_count": 5,
   "metadata": {},
   "outputs": [
    {
     "data": {
      "text/plain": [
       "count    85068.000000\n",
       "mean       122.336766\n",
       "std        220.749123\n",
       "min          0.000000\n",
       "25%         47.000000\n",
       "50%         84.000000\n",
       "75%        140.000000\n",
       "max      12345.000000\n",
       "Name: price, dtype: float64"
      ]
     },
     "execution_count": 5,
     "metadata": {},
     "output_type": "execute_result"
    }
   ],
   "source": [
    "data['price'].describe()"
   ]
  },
  {
   "cell_type": "markdown",
   "metadata": {},
   "source": [
    "最贵的价格远远超过均值与中位数，并且其为12345，更像是一个系统定的数值,暂时不处理"
   ]
  },
  {
   "cell_type": "code",
   "execution_count": 6,
   "metadata": {},
   "outputs": [
    {
     "data": {
      "text/plain": [
       "<matplotlib.axes._subplots.AxesSubplot at 0x2858afe5a20>"
      ]
     },
     "execution_count": 6,
     "metadata": {},
     "output_type": "execute_result"
    },
    {
     "data": {
      "image/png": "[encoded data removed]",
      "text/plain": [
       "<Figure size 432x288 with 1 Axes>"
      ]
     },
     "metadata": {
      "needs_background": "light"
     },
     "output_type": "display_data"
    }
   ],
   "source": [
    "sns.boxplot(data['price'])"
   ]
  },
  {
   "cell_type": "markdown",
   "metadata": {},
   "source": [
    "## 地理可视化"
   ]
  },
  {
   "cell_type": "code",
   "execution_count": 7,
   "metadata": {},
   "outputs": [
    {
     "name": "stdout",
     "output_type": "stream",
     "text": [
      "User Guide: https://docs.kepler.gl/docs/keplergl-jupyter\n"
     ]
    },
    {
     "data": {
      "application/vnd.jupyter.widget-view+json": {
       "model_id": "5cb794716fd74c708f5ec4467a38f208",
       "version_major": 2,
       "version_minor": 0
      },
      "text/plain": [
       "KeplerGl(data={'geojson': '{\"type\":\"FeatureCollection\",\"features\":[{\"type\":\"Feature\",\"geometry\":{\"type\":\"Multi…"
      ]
     },
     "metadata": {},
     "output_type": "display_data"
    }
   ],
   "source": [
    "import keplergl\n",
    "with open('../data/neighbourhoods.geojson', 'r',encoding='utf-8') as f:\n",
    "    geojson = f.read()\n",
    "map_1 = keplergl.KeplerGl(height=600,data={'geojson':geojson})\n",
    "map_1"
   ]
  },
  {
   "cell_type": "code",
   "execution_count": 8,
   "metadata": {},
   "outputs": [],
   "source": [
    "map_1.add_data(data,name='layer_1')"
   ]
  },
  {
   "cell_type": "code",
   "execution_count": 10,
   "metadata": {},
   "outputs": [
    {
     "name": "stdout",
     "output_type": "stream",
     "text": [
      "Map saved to 伦敦房租地理可视化.html!\n"
     ]
    }
   ],
   "source": [
    "map_1.save_to_html(file_name='伦敦房租地理可视化.html') # 导出网页"
   ]
  },
  {
   "cell_type": "code",
   "execution_count": null,
   "metadata": {},
   "outputs": [],
   "source": []
  }
 ],
 "metadata": {
  "kernelspec": {
   "display_name": "Python 3",
   "language": "python",
   "name": "python3"
  },
  "language_info": {
   "codemirror_mode": {
    "name": "ipython",
    "version": 3
   },
   "file_extension": ".py",
   "mimetype": "text/x-python",
   "name": "python",
   "nbconvert_exporter": "python",
   "pygments_lexer": "ipython3",
   "version": "3.7.3"
  },
  "toc": {
   "base_numbering": 1,
   "nav_menu": {},
   "number_sections": true,
   "sideBar": true,
   "skip_h1_title": false,
   "title_cell": "Table of Contents",
   "title_sidebar": "Contents",
   "toc_cell": false,
   "toc_position": {},
   "toc_section_display": true,
   "toc_window_display": false
  }
 },
 "nbformat": 4,
 "nbformat_minor": 2
}
